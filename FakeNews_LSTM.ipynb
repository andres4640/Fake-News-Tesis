{
  "nbformat": 4,
  "nbformat_minor": 0,
  "metadata": {
    "colab": {
      "name": "FakeNews_LSTM.ipynb",
      "provenance": [],
      "collapsed_sections": [],
      "authorship_tag": "ABX9TyMtq0tkOPB21lWwVUINXeEq",
      "include_colab_link": true
    },
    "kernelspec": {
      "name": "python3",
      "display_name": "Python 3"
    },
    "language_info": {
      "name": "python"
    }
  },
  "cells": [
    {
      "cell_type": "markdown",
      "metadata": {
        "id": "view-in-github",
        "colab_type": "text"
      },
      "source": [
        "<a href=\"https://colab.research.google.com/github/andres4640/Fake-News-Tesis/blob/main/FakeNews_LSTM.ipynb\" target=\"_parent\"><img src=\"https://colab.research.google.com/assets/colab-badge.svg\" alt=\"Open In Colab\"/></a>"
      ]
    },
    {
      "cell_type": "markdown",
      "metadata": {
        "id": "RIPOUw4rMQte"
      },
      "source": [
        "# Fake News\n",
        "\n",
        "El dataset \"COVID Fake News Data.csv\" fue extraido de la siguiente dirección: https://zenodo.org/record/4282522#.YJ6FtsCg9Pa\n",
        "\n",
        "El dataset \"fake_new_dataset.xlsx\" se obtuvo de la siguiente dirección: https://data.mendeley.com/datasets/zwfdmp5syg/1\n",
        "\n",
        "Ambos datasets cuentan con columnas que indican si el texto es falso o verdadero. En el caso del primer dataset, la columna \"outcome\" representa la veracidad del texto y en el segundo dataset, la columna \"label\". En ambas columnas, el valor \"0\" representa veracidad y \"1\" falsedad."
      ]
    },
    {
      "cell_type": "code",
      "metadata": {
        "id": "1OVCjwHdMLkR"
      },
      "source": [
        "import pandas as pd\n",
        "import numpy as np"
      ],
      "execution_count": null,
      "outputs": []
    },
    {
      "cell_type": "code",
      "metadata": {
        "id": "IM4y5AN4VC4J"
      },
      "source": [
        "from google.colab import drive\n",
        "\n",
        "drive.mount('/content/gdrive')"
      ],
      "execution_count": null,
      "outputs": []
    },
    {
      "cell_type": "code",
      "metadata": {
        "id": "GznZRODSHMi5"
      },
      "source": [
        "import os\n",
        "os.chdir('/content/gdrive/MyDrive/Tesis/')"
      ],
      "execution_count": null,
      "outputs": []
    },
    {
      "cell_type": "code",
      "metadata": {
        "id": "Zt0zD7dtVqCK"
      },
      "source": [
        "df_one = pd.read_csv(\"Datasets/COVID Fake News Data.csv\")\n",
        "df_two = pd.read_excel(\"Datasets/fake_new_dataset.xlsx\")"
      ],
      "execution_count": null,
      "outputs": []
    },
    {
      "cell_type": "markdown",
      "metadata": {
        "id": "Fw0X5SQl4PJl"
      },
      "source": [
        "Limpiar los caracteres que no son ASCII:"
      ]
    },
    {
      "cell_type": "code",
      "metadata": {
        "id": "ibzIrzpY39Xj"
      },
      "source": [
        "from string import printable\n",
        "\n",
        "df_one.headlines = df_one.headlines.apply(lambda y: ''.join(filter(lambda x: \n",
        "            x in printable, y)))"
      ],
      "execution_count": null,
      "outputs": []
    },
    {
      "cell_type": "code",
      "metadata": {
        "colab": {
          "base_uri": "https://localhost:8080/"
        },
        "id": "hBwURVucPwTs",
        "outputId": "15e328e6-79b3-42ed-f388-1c991db9c710"
      },
      "source": [
        "df_one.outcome.replace({0: 1, 1: 0}).value_counts()"
      ],
      "execution_count": null,
      "outputs": [
        {
          "output_type": "execute_result",
          "data": {
            "text/plain": [
              "1    9727\n",
              "0     474\n",
              "Name: outcome, dtype: int64"
            ]
          },
          "metadata": {
            "tags": []
          },
          "execution_count": 6
        }
      ]
    },
    {
      "cell_type": "code",
      "metadata": {
        "colab": {
          "base_uri": "https://localhost:8080/"
        },
        "id": "S6fxUcdR4AKn",
        "outputId": "398a5af3-9bee-4dbb-ddc3-480d544a02d8"
      },
      "source": [
        "df_one.outcome.replace({0: 1, 1: 0}, inplace=True)\n",
        "df_one.outcome.value_counts()"
      ],
      "execution_count": null,
      "outputs": [
        {
          "output_type": "execute_result",
          "data": {
            "text/plain": [
              "1    9727\n",
              "0     474\n",
              "Name: outcome, dtype: int64"
            ]
          },
          "metadata": {
            "tags": []
          },
          "execution_count": 7
        }
      ]
    },
    {
      "cell_type": "code",
      "metadata": {
        "colab": {
          "base_uri": "https://localhost:8080/"
        },
        "id": "HIoQGMdFURRg",
        "outputId": "fab542e2-20cb-4058-e561-e37525795521"
      },
      "source": [
        "df_two.outcome.value_counts()"
      ],
      "execution_count": null,
      "outputs": [
        {
          "output_type": "execute_result",
          "data": {
            "text/plain": [
              "0    2061\n",
              "1    1058\n",
              "Name: outcome, dtype: int64"
            ]
          },
          "metadata": {
            "tags": []
          },
          "execution_count": 51
        }
      ]
    },
    {
      "cell_type": "code",
      "metadata": {
        "colab": {
          "base_uri": "https://localhost:8080/"
        },
        "id": "-Vl7rNO1MmrT",
        "outputId": "64168b51-08c5-4eaf-9081-8bce7c7c4215"
      },
      "source": [
        "df_two.label.replace({0: 1, 1: 0}, inplace=True)\n",
        "df_two.label.value_counts()"
      ],
      "execution_count": null,
      "outputs": [
        {
          "output_type": "execute_result",
          "data": {
            "text/plain": [
              "0    2061\n",
              "1    1058\n",
              "Name: label, dtype: int64"
            ]
          },
          "metadata": {
            "tags": []
          },
          "execution_count": 8
        }
      ]
    },
    {
      "cell_type": "markdown",
      "metadata": {
        "id": "mSTRQu6uONvm"
      },
      "source": [
        "En el segundo dataset modificamos el nombre de las columnas para poder concatenarlo con el primer dataset"
      ]
    },
    {
      "cell_type": "code",
      "metadata": {
        "id": "eouH979KN3ab"
      },
      "source": [
        "df_two.rename(columns={\"title\": \"headlines\", \"label\": \"outcome\"}, inplace=True)"
      ],
      "execution_count": null,
      "outputs": []
    },
    {
      "cell_type": "markdown",
      "metadata": {
        "id": "s7xm2hSDOWiD"
      },
      "source": [
        "Concatenamos el dataset"
      ]
    },
    {
      "cell_type": "code",
      "metadata": {
        "id": "eiCnRJ2yNWzJ"
      },
      "source": [
        "df_one_final = pd.concat([df_one, df_two[[\"headlines\", \"outcome\"]]], ignore_index=True)"
      ],
      "execution_count": null,
      "outputs": []
    },
    {
      "cell_type": "markdown",
      "metadata": {
        "id": "3EwGQMaCP4Qv"
      },
      "source": [
        "Podemos ver la diferencia de numero de datos entre ambas clases, hay una mayor cantidad de textos clasificados como falsos. Esto representa un desbalance de clases."
      ]
    },
    {
      "cell_type": "code",
      "metadata": {
        "colab": {
          "base_uri": "https://localhost:8080/"
        },
        "id": "SeB1IY2FNbRf",
        "outputId": "b6b91fed-51ea-41c7-afd2-c73c45fd330b"
      },
      "source": [
        "df_one_final.outcome.value_counts()"
      ],
      "execution_count": null,
      "outputs": [
        {
          "output_type": "execute_result",
          "data": {
            "text/plain": [
              "1    10785\n",
              "0     2535\n",
              "Name: outcome, dtype: int64"
            ]
          },
          "metadata": {
            "tags": []
          },
          "execution_count": 11
        }
      ]
    },
    {
      "cell_type": "code",
      "metadata": {
        "colab": {
          "base_uri": "https://localhost:8080/"
        },
        "id": "463d2wKSHg6z",
        "outputId": "1a42d08e-8320-437c-dc03-15ecad66805d"
      },
      "source": [
        "df_one_final.isna().sum()"
      ],
      "execution_count": null,
      "outputs": [
        {
          "output_type": "execute_result",
          "data": {
            "text/plain": [
              "headlines    1\n",
              "outcome      0\n",
              "dtype: int64"
            ]
          },
          "metadata": {
            "tags": []
          },
          "execution_count": 12
        }
      ]
    },
    {
      "cell_type": "code",
      "metadata": {
        "id": "K15G6mWV4e-F"
      },
      "source": [
        "df_one_final.dropna(inplace=True)\n",
        "df_one_final.reset_index(drop=True, inplace=True)"
      ],
      "execution_count": null,
      "outputs": []
    },
    {
      "cell_type": "code",
      "metadata": {
        "colab": {
          "base_uri": "https://localhost:8080/"
        },
        "id": "4GpeA_jhNF-S",
        "outputId": "732d8a55-ac84-4a38-e1d9-4a5d082138ca"
      },
      "source": [
        "# Maximo largo de una palabra antes del reproceso\n",
        "print(\"Largo oracion Maximo \",df_one_final.headlines.str.len().max())\n",
        "print(\"Largo oracion Minimo: \",df_one_final.headlines.str.len().min())\n",
        "print(\"Largo oracion Promedio: \",df_one_final.headlines.str.len().mean())"
      ],
      "execution_count": null,
      "outputs": [
        {
          "output_type": "stream",
          "text": [
            "Largo oracion Maximo  673\n",
            "Largo oracion Minimo:  6\n",
            "Largo oracion Promedio:  93.10751557924769\n"
          ],
          "name": "stdout"
        }
      ]
    },
    {
      "cell_type": "markdown",
      "metadata": {
        "id": "GHC6jWxGIOSW"
      },
      "source": [
        "## Preprocesamiento de textos"
      ]
    },
    {
      "cell_type": "markdown",
      "metadata": {
        "id": "ZtT2sRQ-G9ZW"
      },
      "source": [
        "Tamaño del dataset:"
      ]
    },
    {
      "cell_type": "code",
      "metadata": {
        "colab": {
          "base_uri": "https://localhost:8080/"
        },
        "id": "EtssGoSKOnmQ",
        "outputId": "f4b4a46b-b0cd-4b0c-e97d-ff6dab091b95"
      },
      "source": [
        "len(df_one_final)"
      ],
      "execution_count": null,
      "outputs": [
        {
          "output_type": "execute_result",
          "data": {
            "text/plain": [
              "13319"
            ]
          },
          "metadata": {
            "tags": []
          },
          "execution_count": 15
        }
      ]
    },
    {
      "cell_type": "code",
      "metadata": {
        "colab": {
          "base_uri": "https://localhost:8080/"
        },
        "id": "36cttWByONcf",
        "outputId": "41813056-fe4f-4646-a93a-42464ea8c8e7"
      },
      "source": [
        "import re\n",
        "import nltk\n",
        "nltk.download(\"stopwords\")\n",
        "\n",
        "from nltk.corpus import stopwords\n",
        "from nltk.stem.porter import PorterStemmer"
      ],
      "execution_count": null,
      "outputs": [
        {
          "output_type": "stream",
          "text": [
            "[nltk_data] Downloading package stopwords to /root/nltk_data...\n",
            "[nltk_data]   Package stopwords is already up-to-date!\n"
          ],
          "name": "stdout"
        }
      ]
    },
    {
      "cell_type": "code",
      "metadata": {
        "id": "CiBjWWD6OPjj"
      },
      "source": [
        "corpus = []\n",
        "lista_palabras = []\n",
        "for i in range(len(df_one_final)):\n",
        "  # Reemplazamos caracteres innecesarios como puntos y comas:\n",
        "  #texto = re.sub(\"[^a-zA-Z-á-é-í-ó-ú]\", \" \", df_one_final[\"headlines\"][i])\n",
        "  texto = re.sub(\"[^a-zA-Z]\", \" \", df_one_final[\"headlines\"][i])\n",
        "\n",
        "  # Eliminamos espacios extras\n",
        "  texto = re.sub(r\"\\s+\",\" \", texto, flags = re.I)\n",
        "\n",
        "  # Convertimos el texto a minuscula:\n",
        "  texto = texto.lower()\n",
        "\n",
        "  # Dividimos el texto en palabras individuales:\n",
        "  texto = texto.split()\n",
        "\n",
        "  # Declaramos el objeto Stemming:\n",
        "  stemmer = PorterStemmer()\n",
        "\n",
        "  # Excluimos los Stop Words de los textos:\n",
        "  lista_stopwords = stopwords.words(\"english\")\n",
        "  \n",
        "  # Aplicamos Stemming y omitimos los Stop words:\n",
        "  texto = [stemmer.stem(palabra) for palabra in texto if not palabra in set(lista_stopwords)]\n",
        "\n",
        "  lista_palabras.append(texto)\n",
        "  \n",
        "  # Unimos las palabras, separados por un espacio:\n",
        "  texto= \" \".join(texto)\n",
        "\n",
        "  # Añadimos el texto al corpus\n",
        "  corpus.append(texto)"
      ],
      "execution_count": null,
      "outputs": []
    },
    {
      "cell_type": "markdown",
      "metadata": {
        "id": "yAPQYzBk9FyT"
      },
      "source": [
        "Creamos una funcioón para conocer el numero de palabras en el corpus:"
      ]
    },
    {
      "cell_type": "code",
      "metadata": {
        "id": "HFB7eHuJ9E8M"
      },
      "source": [
        "def num_palabras(corp):\n",
        "  palabras_unicas = []\n",
        "  lista_palabras = []\n",
        "  for lista in corpus:\n",
        "    lista_palabras = lista.split()\n",
        "    for palabra in lista_palabras:\n",
        "      if palabra not in palabras_unicas:\n",
        "        palabras_unicas.append(palabra)\n",
        "  return len(palabras_unicas)"
      ],
      "execution_count": null,
      "outputs": []
    },
    {
      "cell_type": "code",
      "metadata": {
        "id": "R_sQDWBz9oNM"
      },
      "source": [
        "tamanio_voc = num_palabras(corpus)"
      ],
      "execution_count": null,
      "outputs": []
    },
    {
      "cell_type": "markdown",
      "metadata": {
        "id": "ZeQHsRRo7EDt"
      },
      "source": [
        "## Desarrollo del Modelo"
      ]
    },
    {
      "cell_type": "code",
      "metadata": {
        "id": "G_r7G1Tg6xtC"
      },
      "source": [
        "from tensorflow.keras.layers import Embedding\n",
        "from tensorflow.keras.preprocessing.sequence import pad_sequences\n",
        "from tensorflow.keras.models import Sequential\n",
        "from tensorflow.keras.preprocessing.text import one_hot\n",
        "from tensorflow.keras.layers import LSTM\n",
        "from tensorflow.keras.layers import Dense\n",
        "from sklearn.model_selection import train_test_split"
      ],
      "execution_count": null,
      "outputs": []
    },
    {
      "cell_type": "markdown",
      "metadata": {
        "id": "bl5xWmah7hvk"
      },
      "source": [
        "### Word2Vec\n",
        "\n",
        "Descargamos el modelo pre entrenado Word2Vec, el cual se entreno con un corpus de Google News de aproximadamente 3 billones de palabras. Estas se encuentran representado como vectores de 300 dimensiones."
      ]
    },
    {
      "cell_type": "code",
      "metadata": {
        "id": "GrjPHWjqFzsJ"
      },
      "source": [
        "from tensorflow.keras.utils import get_file\n",
        "modelo_pre_entrenado = 0\n",
        "if modelo_pre_entrenado == 1:\n",
        "  path = get_file('GoogleNews-vectors-negative300.bin.gz', \n",
        "  origin='https://s3.amazonaws.com/dl4j-distribution/GoogleNews-vectors-negative300.bin.gz')\n",
        "  print(path)"
      ],
      "execution_count": null,
      "outputs": []
    },
    {
      "cell_type": "code",
      "metadata": {
        "colab": {
          "base_uri": "https://localhost:8080/"
        },
        "id": "GvoXJcdDUpxu",
        "outputId": "e94fdd1d-9394-40a2-d659-35d995c203f8"
      },
      "source": [
        "pip install gensim"
      ],
      "execution_count": null,
      "outputs": [
        {
          "output_type": "stream",
          "text": [
            "Requirement already satisfied: gensim in /usr/local/lib/python3.7/dist-packages (3.6.0)\n",
            "Requirement already satisfied: smart-open>=1.2.1 in /usr/local/lib/python3.7/dist-packages (from gensim) (5.0.0)\n",
            "Requirement already satisfied: numpy>=1.11.3 in /usr/local/lib/python3.7/dist-packages (from gensim) (1.19.5)\n",
            "Requirement already satisfied: six>=1.5.0 in /usr/local/lib/python3.7/dist-packages (from gensim) (1.15.0)\n",
            "Requirement already satisfied: scipy>=0.18.1 in /usr/local/lib/python3.7/dist-packages (from gensim) (1.4.1)\n"
          ],
          "name": "stdout"
        }
      ]
    },
    {
      "cell_type": "code",
      "metadata": {
        "id": "nuKgeGz3IZ51"
      },
      "source": [
        "#import gensim\n",
        "#modelo_w2v = gensim.models.KeyedVectors.load_word2vec_format(path, binary=True)"
      ],
      "execution_count": null,
      "outputs": []
    },
    {
      "cell_type": "code",
      "metadata": {
        "id": "uvGuhnFoNHFX"
      },
      "source": [
        "#w2v_pesos = modelo_w2v.wv.vectors"
      ],
      "execution_count": null,
      "outputs": []
    },
    {
      "cell_type": "code",
      "metadata": {
        "id": "i1hGn4ZZ7g6s"
      },
      "source": [
        "#onehot_texto=[one_hot(palabra,tamanio_voc)for palabra in corpus] \n",
        "#onehot_texto[:5]\n",
        "\n",
        "from gensim.models import word2vec\n",
        "# Modelo word2vec usando la arquitectura CBOW:\n",
        "model_word2vec = word2vec.Word2Vec(corpus, size=100, window=5, min_count=5, workers=12, sg=0)\n",
        "w2v_pesos = model_word2vec.wv.vectors\n",
        "#tamanio_vocab, embedding_size = model_word2vec.shape\n",
        "\n",
        "#print(\"Tamaño vocabulario: {} - Dimensiones Embedding: {}\".format(vocab_size, embedding_size))"
      ],
      "execution_count": null,
      "outputs": []
    },
    {
      "cell_type": "code",
      "metadata": {
        "id": "ZNHS-ly70tu0"
      },
      "source": [
        "# Funciones creadas por Guilherme Christmann\n",
        "\n",
        "def word2token(word):\n",
        "    try:\n",
        "        return model_word2vec.wv.vocab[word].index\n",
        "    except KeyError:\n",
        "        return 0\n",
        "def token2word(token):\n",
        "    return model_word2vec.wv.index2word[token]"
      ],
      "execution_count": null,
      "outputs": []
    },
    {
      "cell_type": "markdown",
      "metadata": {
        "id": "KtmSzxZg__Pm"
      },
      "source": [
        "### Padding\n",
        "\n",
        "Se aplica la tecnica de padding para que todas los textos tengan el mismo largo."
      ]
    },
    {
      "cell_type": "code",
      "metadata": {
        "id": "0yGkSJbJAOpk"
      },
      "source": [
        "def largo_max(corp):\n",
        "  max_valor = 0\n",
        "  for lista in corp:\n",
        "    largo = len(lista)\n",
        "    if largo > max_valor:\n",
        "      max_valor = largo\n",
        "  return max_valor"
      ],
      "execution_count": null,
      "outputs": []
    },
    {
      "cell_type": "code",
      "metadata": {
        "id": "sFPgEJVk_1zG"
      },
      "source": [
        "#texto_pad = pad_sequences(onehot_texto, padding = 'pre' ,maxlen = max_largo_oracion)\n",
        "#print(texto_pad)"
      ],
      "execution_count": null,
      "outputs": []
    },
    {
      "cell_type": "code",
      "metadata": {
        "id": "6OFMNR7GUut_"
      },
      "source": [
        "from tensorflow.keras.preprocessing.text import Tokenizer\n",
        "\n",
        "tokenizer = Tokenizer()\n",
        "tokenizer.fit_on_texts(corpus)\n",
        "secuencias = tokenizer.texts_to_sequences(corpus)\n",
        "max_largo_oracion = largo_max(secuencias)\n",
        "X = pad_sequences(secuencias, maxlen = max_largo_oracion)"
      ],
      "execution_count": null,
      "outputs": []
    },
    {
      "cell_type": "code",
      "metadata": {
        "id": "IDIM54Cd3yoM"
      },
      "source": [
        "# Numero de dimensiones en los vectores Word2vec\n",
        "embedding_vector_size = 100\n",
        "words = list(model_word2vec.wv.vocab)\n",
        "embedding_matrix = np.zeros((tamanio_voc+1, embedding_vector_size))\n",
        "for index, word in enumerate(words):    \n",
        " embedding_vector = model_word2vec.wv[word]\n",
        " if embedding_vector is not None:\n",
        "    embedding_matrix[index] = embedding_vector"
      ],
      "execution_count": null,
      "outputs": []
    },
    {
      "cell_type": "markdown",
      "metadata": {
        "id": "FAtMU7fQ1tPE"
      },
      "source": [
        "Descomentar el codigo cuando se use el modelo Word2vec pre entrenado."
      ]
    },
    {
      "cell_type": "code",
      "metadata": {
        "id": "XVa4Te58LDUj"
      },
      "source": [
        "# unique_words = num_palabras(corpus)\n",
        "# total_words = unique_words + 1\n",
        "# skipped_words = 0\n",
        "# embedding_dim = 300  \n",
        "# embedding_matrix = np.zeros((total_words, embedding_dim))\n",
        "# embedding_vector = []\n",
        "# lista_palabras_na = []\n",
        "# for word, i in t.word_index.items():\n",
        "#   try:\n",
        "#     embedding_vector = modelo_w2v[word]\n",
        "#     if embedding_vector is not None:\n",
        "#       embedding_matrix[i] = modelo_w2v[word]\n",
        "#   except:\n",
        "#     if word not in lista_palabras_na:\n",
        "#       lista_palabras_na.append(word)\n",
        "#     skipped_words = skipped_words+1\n",
        "#     pass\n",
        "#   #embedding_matrix[i] = modelo_w2v[word]\n",
        "# print(\"Embeddings Matrix shape : \",embedding_matrix.shape)"
      ],
      "execution_count": null,
      "outputs": []
    },
    {
      "cell_type": "code",
      "metadata": {
        "id": "SJvPgDj6aaWT"
      },
      "source": [
        "#skipped_words"
      ],
      "execution_count": null,
      "outputs": []
    },
    {
      "cell_type": "markdown",
      "metadata": {
        "id": "NKMmhBLXH_WB"
      },
      "source": [
        "## Modelo LSTM"
      ]
    },
    {
      "cell_type": "code",
      "metadata": {
        "colab": {
          "base_uri": "https://localhost:8080/"
        },
        "id": "mM_R2BwLICEk",
        "outputId": "1a005196-6618-4b8c-9abc-2b43245e6929"
      },
      "source": [
        "model=Sequential()\n",
        "model.add(Embedding(tamanio_voc+1, embedding_vector_size, input_length=max_largo_oracion, weights = [embedding_matrix]))\n",
        "model.add(LSTM(100))\n",
        "model.add(Dense(1,activation='sigmoid'))\n",
        "model.compile( ='binary_crossentropy',optimizer='adam',metrics=['accuracy'])\n",
        "print(model.summary())"
      ],
      "execution_count": null,
      "outputs": [
        {
          "output_type": "stream",
          "text": [
            "Model: \"sequential\"\n",
            "_________________________________________________________________\n",
            "Layer (type)                 Output Shape              Param #   \n",
            "=================================================================\n",
            "embedding (Embedding)        (None, 64, 100)           943900    \n",
            "_________________________________________________________________\n",
            "lstm (LSTM)                  (None, 100)               80400     \n",
            "_________________________________________________________________\n",
            "dense (Dense)                (None, 1)                 101       \n",
            "=================================================================\n",
            "Total params: 1,024,401\n",
            "Trainable params: 1,024,401\n",
            "Non-trainable params: 0\n",
            "_________________________________________________________________\n",
            "None\n"
          ],
          "name": "stdout"
        }
      ]
    },
    {
      "cell_type": "code",
      "metadata": {
        "id": "i6btNg2oGY-B"
      },
      "source": [
        "#X = np.array(texto_pad)"
      ],
      "execution_count": null,
      "outputs": []
    },
    {
      "cell_type": "code",
      "metadata": {
        "id": "-7IryXZAJXGc"
      },
      "source": [
        "y = np.array(df_one_final.outcome)\n",
        "X_train, X_test, y_train, y_test = train_test_split(X, y, test_size=0.2)"
      ],
      "execution_count": null,
      "outputs": []
    },
    {
      "cell_type": "markdown",
      "metadata": {
        "id": "AZlreaEqVMX_"
      },
      "source": [
        "### Desbalanceo del dataset\n",
        "\n",
        "Aplicaremos una combinación de tecnicas de Undersampling y Oversampling para poder tener reducir el desbalance del dataset.\n",
        "\n",
        "Undersampling -> Reduce el número de la clase mayoritaria al azar a la proporción deseada contra la clase minoritaria. \n",
        "\n",
        "OverSampling -> Duplicamos los datos que tienen la clase minoritaria o creamos nuevos ejemplos sinteticos. En el caso de un dataset de texto, no recomendable crear ejemplos."
      ]
    },
    {
      "cell_type": "code",
      "metadata": {
        "colab": {
          "base_uri": "https://localhost:8080/"
        },
        "id": "xdTQWZDHVKII",
        "outputId": "5cd1675e-9973-433c-87dd-ab5d456a54c6"
      },
      "source": [
        "from imblearn.over_sampling import RandomOverSampler\n",
        "from imblearn.under_sampling import RandomUnderSampler\n",
        "from collections import Counter\n",
        "import warnings\n",
        "warnings.simplefilter(action='ignore', category=FutureWarning)\n",
        "\n",
        "over = RandomOverSampler(sampling_strategy=0.4)\n",
        "under = RandomUnderSampler(sampling_strategy=0.5)\n",
        "print(\"Antes de aplicar las tecnicas: \", Counter(y_train))\n",
        "X_train, y_train = over.fit_resample(X_train, y_train)\n",
        "print(\"Despues de aplicar Oversampling: \", Counter(y_train))\n",
        "X_train, y_train = under.fit_resample(X_train, y_train)\n",
        "print(\"Despues de aplicar Undersampling: \", Counter(y_train))"
      ],
      "execution_count": null,
      "outputs": [
        {
          "output_type": "stream",
          "text": [
            "Antes de aplicar las tecnicas:  Counter({1: 8628, 0: 2027})\n",
            "Despues de aplicar Oversampling:  Counter({1: 8628, 0: 3451})\n",
            "Despues de aplicar Undersampling:  Counter({1: 6902, 0: 3451})\n"
          ],
          "name": "stdout"
        },
        {
          "output_type": "stream",
          "text": [
            "/usr/local/lib/python3.7/dist-packages/sklearn/externals/six.py:31: FutureWarning: The module is deprecated in version 0.21 and will be removed in version 0.23 since we've dropped support for Python 2.7. Please rely on the official version of six (https://pypi.org/project/six/).\n",
            "  \"(https://pypi.org/project/six/).\", FutureWarning)\n",
            "/usr/local/lib/python3.7/dist-packages/sklearn/utils/deprecation.py:144: FutureWarning: The sklearn.neighbors.base module is  deprecated in version 0.22 and will be removed in version 0.24. The corresponding classes / functions should instead be imported from sklearn.neighbors. Anything that cannot be imported from sklearn.neighbors is now part of the private API.\n",
            "  warnings.warn(message, FutureWarning)\n"
          ],
          "name": "stderr"
        }
      ]
    },
    {
      "cell_type": "code",
      "metadata": {
        "colab": {
          "base_uri": "https://localhost:8080/"
        },
        "id": "5kgo07EXJhcB",
        "outputId": "f24b1fc1-b705-472e-f15b-b477400bd6d7"
      },
      "source": [
        "model.fit(X_train,y_train,validation_data=(X_train,y_train),epochs=10,batch_size=64)"
      ],
      "execution_count": null,
      "outputs": [
        {
          "output_type": "stream",
          "text": [
            "Epoch 1/10\n",
            "162/162 [==============================] - 21s 119ms/step - loss: 0.4801 - accuracy: 0.7674 - val_loss: 0.1836 - val_accuracy: 0.9328\n",
            "Epoch 2/10\n",
            "162/162 [==============================] - 19s 115ms/step - loss: 0.1830 - accuracy: 0.9310 - val_loss: 0.1152 - val_accuracy: 0.9587\n",
            "Epoch 3/10\n",
            "162/162 [==============================] - 19s 116ms/step - loss: 0.1143 - accuracy: 0.9571 - val_loss: 0.0777 - val_accuracy: 0.9736\n",
            "Epoch 4/10\n",
            "162/162 [==============================] - 19s 118ms/step - loss: 0.0874 - accuracy: 0.9705 - val_loss: 0.0643 - val_accuracy: 0.9781\n",
            "Epoch 5/10\n",
            "162/162 [==============================] - 19s 119ms/step - loss: 0.0673 - accuracy: 0.9778 - val_loss: 0.0508 - val_accuracy: 0.9816\n",
            "Epoch 6/10\n",
            "162/162 [==============================] - 19s 116ms/step - loss: 0.0541 - accuracy: 0.9816 - val_loss: 0.0449 - val_accuracy: 0.9855\n",
            "Epoch 7/10\n",
            "162/162 [==============================] - 19s 118ms/step - loss: 0.0469 - accuracy: 0.9858 - val_loss: 0.0368 - val_accuracy: 0.9868\n",
            "Epoch 8/10\n",
            "162/162 [==============================] - 19s 116ms/step - loss: 0.0431 - accuracy: 0.9851 - val_loss: 0.0355 - val_accuracy: 0.9879\n",
            "Epoch 9/10\n",
            "162/162 [==============================] - 19s 116ms/step - loss: 0.0386 - accuracy: 0.9856 - val_loss: 0.0343 - val_accuracy: 0.9871\n",
            "Epoch 10/10\n",
            "162/162 [==============================] - 20s 123ms/step - loss: 0.0335 - accuracy: 0.9872 - val_loss: 0.0268 - val_accuracy: 0.9896\n"
          ],
          "name": "stdout"
        },
        {
          "output_type": "execute_result",
          "data": {
            "text/plain": [
              "<tensorflow.python.keras.callbacks.History at 0x7f04b6aa3350>"
            ]
          },
          "metadata": {
            "tags": []
          },
          "execution_count": 38
        }
      ]
    },
    {
      "cell_type": "code",
      "metadata": {
        "id": "t3Ct2POFC7PI"
      },
      "source": [
        "y_pred = model.predict(X_test)"
      ],
      "execution_count": null,
      "outputs": []
    },
    {
      "cell_type": "code",
      "metadata": {
        "colab": {
          "base_uri": "https://localhost:8080/"
        },
        "id": "_7ZwT7vTILBh",
        "outputId": "2183f573-c13b-4918-9501-332b50af8087"
      },
      "source": [
        "y_pred"
      ],
      "execution_count": null,
      "outputs": [
        {
          "output_type": "execute_result",
          "data": {
            "text/plain": [
              "array([[0.99998116],\n",
              "       [0.9999986 ],\n",
              "       [0.9996464 ],\n",
              "       ...,\n",
              "       [0.9999142 ],\n",
              "       [0.0317044 ],\n",
              "       [0.9506495 ]], dtype=float32)"
            ]
          },
          "metadata": {
            "tags": []
          },
          "execution_count": 40
        }
      ]
    },
    {
      "cell_type": "code",
      "metadata": {
        "id": "UX3o9PDbJ2jO"
      },
      "source": [
        "y_pred_final = []\n",
        "y_pred_lista = []\n",
        "for x in y_pred:\n",
        "  for y in x:\n",
        "    y_pred_lista.append(y)\n",
        "    if y >= 0.5:\n",
        "      y_pred_final.append(1)\n",
        "    else:\n",
        "      y_pred_final.append(0)"
      ],
      "execution_count": null,
      "outputs": []
    },
    {
      "cell_type": "code",
      "metadata": {
        "id": "e9E1UySqKl_v"
      },
      "source": [
        "y_pred_final = np.array(y_pred_final)\n",
        "y_pred_lista = np.array(y_pred_lista)"
      ],
      "execution_count": null,
      "outputs": []
    },
    {
      "cell_type": "code",
      "metadata": {
        "colab": {
          "base_uri": "https://localhost:8080/"
        },
        "id": "EEV7iIJCDCvo",
        "outputId": "98ee0822-d8ef-4741-cbd0-44480b5b3e75"
      },
      "source": [
        "from sklearn.metrics import confusion_matrix\n",
        "confusion_matrix(y_test, y_pred_final)"
      ],
      "execution_count": null,
      "outputs": [
        {
          "output_type": "execute_result",
          "data": {
            "text/plain": [
              "array([[ 397,  111],\n",
              "       [ 149, 2007]])"
            ]
          },
          "metadata": {
            "tags": []
          },
          "execution_count": 43
        }
      ]
    },
    {
      "cell_type": "markdown",
      "metadata": {
        "id": "g-7o7JOjL2hY"
      },
      "source": [
        "Matriz de confusión"
      ]
    },
    {
      "cell_type": "code",
      "metadata": {
        "id": "aNEbEcfq-wSH"
      },
      "source": [
        "from sklearn.metrics import confusion_matrix, accuracy_score\n",
        "import matplotlib.pyplot as plt\n",
        "import numpy as np\n",
        "import seaborn as sns\n",
        "\n",
        "def evaluar_modelo(y_pred):\n",
        "    plt.figure(figsize=(10,5))\n",
        "    matrix = confusion_matrix(y_test, y_pred)\n",
        "    accuracy = accuracy_score(y_test, y_pred)\n",
        "    \n",
        "    group_names = ['True Neg','False Pos','False Neg','True Pos']\n",
        "    group_counts = [\"{0:0.0f}\".format(value) for value in\n",
        "                    matrix.flatten()]\n",
        "    group_percentages = [\"{0:.2%}\".format(value) for value in\n",
        "                         matrix.flatten()/np.sum(matrix)]\n",
        "    labels = [f'{v1}\\n{v2}\\n{v3}' for v1, v2, v3 in\n",
        "              zip(group_names,group_counts,group_percentages)]\n",
        "    labels = np.asarray(labels).reshape(2,2)\n",
        "    ax = sns.heatmap(matrix, annot=labels, fmt='', cmap='Blues')\n",
        "    bottom, top = ax.get_ylim()\n",
        "    ax.set_ylim(bottom + 0.5, top - 0.5)\n",
        "    plt.show()\n",
        "    \n",
        "    print(\"\\nAccuracy: \", accuracy)"
      ],
      "execution_count": null,
      "outputs": []
    },
    {
      "cell_type": "code",
      "metadata": {
        "colab": {
          "base_uri": "https://localhost:8080/",
          "height": 357
        },
        "id": "y-JZvwRPLMOW",
        "outputId": "64562a2a-bec3-4ff1-88b2-a4e185282d48"
      },
      "source": [
        "evaluar_modelo(y_pred_final)"
      ],
      "execution_count": null,
      "outputs": [
        {
          "output_type": "display_data",
          "data": {
            "image/png": "[encoded data removed]",
            "text/plain": [
              "<Figure size 720x360 with 2 Axes>"
            ]
          },
          "metadata": {
            "tags": [],
            "needs_background": "light"
          }
        },
        {
          "output_type": "stream",
          "text": [
            "\n",
            "Accuracy:  0.9024024024024024\n"
          ],
          "name": "stdout"
        }
      ]
    },
    {
      "cell_type": "markdown",
      "metadata": {
        "id": "A7Y0nFGnL6db"
      },
      "source": [
        "Recall:"
      ]
    },
    {
      "cell_type": "code",
      "metadata": {
        "colab": {
          "base_uri": "https://localhost:8080/"
        },
        "id": "kpcE8EzSLsMW",
        "outputId": "51493bd5-bf8a-4991-a7ef-48c08a2be7f0"
      },
      "source": [
        "from sklearn.metrics import recall_score\n",
        "recall_score(y_test, y_pred_final, average='macro')\n"
      ],
      "execution_count": null,
      "outputs": [
        {
          "output_type": "execute_result",
          "data": {
            "text/plain": [
              "0.8561933005127607"
            ]
          },
          "metadata": {
            "tags": []
          },
          "execution_count": 46
        }
      ]
    },
    {
      "cell_type": "markdown",
      "metadata": {
        "id": "0R6uf6UDMl8i"
      },
      "source": [
        "ROC Curve:"
      ]
    },
    {
      "cell_type": "code",
      "metadata": {
        "colab": {
          "base_uri": "https://localhost:8080/"
        },
        "id": "9S0YjMG3ORig",
        "outputId": "a97eba95-950a-425e-8d88-028418edbf51"
      },
      "source": [
        "y_pred_lista"
      ],
      "execution_count": null,
      "outputs": [
        {
          "output_type": "execute_result",
          "data": {
            "text/plain": [
              "array([0.99998116, 0.9999986 , 0.9996464 , ..., 0.9999142 , 0.0317044 ,\n",
              "       0.9506495 ], dtype=float32)"
            ]
          },
          "metadata": {
            "tags": []
          },
          "execution_count": 47
        }
      ]
    },
    {
      "cell_type": "code",
      "metadata": {
        "colab": {
          "base_uri": "https://localhost:8080/"
        },
        "id": "gSZt-UXRMG7L",
        "outputId": "447a8825-70bb-43af-aa76-0f34105b39c6"
      },
      "source": [
        "# y_pred\n",
        "from sklearn.metrics import roc_curve, roc_auc_score\n",
        "r_probs = [0 for _ in range(len(y_test))]\n",
        "redes_probs = y_pred_lista\n",
        "redes_probs = redes_probs#[:, 1]\n",
        "\n",
        "r_auc = roc_auc_score(y_test, r_probs)\n",
        "redes_auc = roc_auc_score(y_test, redes_probs)\n",
        "\n",
        "print('Predicción aleatoria: AUROC = %.3f' % (r_auc))\n",
        "print('Modelo Red Neuronal: AUROC = %.3f' % (redes_auc))"
      ],
      "execution_count": null,
      "outputs": [
        {
          "output_type": "stream",
          "text": [
            "Predicción aleatoria: AUROC = 0.500\n",
            "Modelo Red Neuronal: AUROC = 0.941\n"
          ],
          "name": "stdout"
        }
      ]
    },
    {
      "cell_type": "code",
      "metadata": {
        "colab": {
          "base_uri": "https://localhost:8080/",
          "height": 458
        },
        "id": "3gylndDQNlwy",
        "outputId": "401098dd-1977-4880-94e1-eda6e9a8fb6d"
      },
      "source": [
        "r_fpr, r_tpr, _ = roc_curve(y_test, r_probs)\n",
        "rf_fpr, rf_tpr, _ = roc_curve(y_test, redes_probs)\n",
        "plt.figure(figsize=(12,7))\n",
        "plt.plot(r_fpr, r_tpr, linestyle='--', label='Random prediction (AUROC = %0.3f)' % r_auc)\n",
        "plt.plot(rf_fpr, rf_tpr, marker='.', label='Modelo Red Neuronal: AUROC = %.3f' % redes_auc)\n",
        "plt.title('ROC Plot')\n",
        "plt.xlabel('False Positive Rate')\n",
        "plt.ylabel('True Positive Rate')\n",
        "plt.legend()\n",
        "plt.show()"
      ],
      "execution_count": null,
      "outputs": [
        {
          "output_type": "display_data",
          "data": {
            "image/png": "[encoded data removed]",
            "text/plain": [
              "<Figure size 864x504 with 1 Axes>"
            ]
          },
          "metadata": {
            "tags": [],
            "needs_background": "light"
          }
        }
      ]
    },
    {
      "cell_type": "code",
      "metadata": {
        "id": "28pY0ElaTfE_"
      },
      "source": [
        ""
      ],
      "execution_count": null,
      "outputs": []
    }
  ]
}