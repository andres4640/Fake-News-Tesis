{
  "nbformat": 4,
  "nbformat_minor": 0,
  "metadata": {
    "accelerator": "GPU",
    "colab": {
      "name": "FakeNews Models.ipynb",
      "provenance": [],
      "collapsed_sections": [],
      "authorship_tag": "ABX9TyOl185fAKM4ZuRBP6vTX4fx",
      "include_colab_link": true
    },
    "kernelspec": {
      "display_name": "Python 3",
      "name": "python3"
    },
    "language_info": {
      "name": "python"
    }
  },
  "cells": [
    {
      "cell_type": "markdown",
      "metadata": {
        "id": "view-in-github",
        "colab_type": "text"
      },
      "source": [
        "<a href=\"https://colab.research.google.com/github/andres4640/Fake-News-Tesis/blob/main/FakeNews_Models.ipynb\" target=\"_parent\"><img src=\"https://colab.research.google.com/assets/colab-badge.svg\" alt=\"Open In Colab\"/></a>"
      ]
    },
    {
      "cell_type": "markdown",
      "metadata": {
        "id": "RIPOUw4rMQte"
      },
      "source": [
        "# Fake News\n",
        "\n",
        "El dataset \"COVID Fake News Data.csv\" fue extraido de la siguiente dirección: https://zenodo.org/record/4282522#.YJ6FtsCg9Pa\n",
        "\n",
        "El dataset \"fake_new_dataset.xlsx\" se obtuvo de la siguiente dirección: https://data.mendeley.com/datasets/zwfdmp5syg/1\n",
        "\n",
        "Ambos datasets cuentan con columnas que indican si el texto es falso o verdadero. En el caso del primer dataset, la columna \"outcome\" representa la veracidad del texto y en el segundo dataset, la columna \"label\". En ambas columnas, el valor \"0\" representa veracidad y \"1\" falsedad."
      ]
    },
    {
      "cell_type": "code",
      "metadata": {
        "id": "1OVCjwHdMLkR"
      },
      "source": [
        "import pandas as pd\n",
        "import numpy as np"
      ],
      "execution_count": null,
      "outputs": []
    },
    {
      "cell_type": "code",
      "metadata": {
        "colab": {
          "base_uri": "https://localhost:8080/"
        },
        "id": "IM4y5AN4VC4J",
        "outputId": "9e1f70c6-297f-406f-d950-d0246774e95b"
      },
      "source": [
        "from google.colab import drive\n",
        "\n",
        "drive.mount('/content/gdrive')"
      ],
      "execution_count": null,
      "outputs": [
        {
          "output_type": "stream",
          "text": [
            "Mounted at /content/gdrive\n"
          ],
          "name": "stdout"
        }
      ]
    },
    {
      "cell_type": "code",
      "metadata": {
        "id": "GznZRODSHMi5"
      },
      "source": [
        "import os\n",
        "os.chdir('/content/gdrive/MyDrive/Tesis/')"
      ],
      "execution_count": null,
      "outputs": []
    },
    {
      "cell_type": "code",
      "metadata": {
        "colab": {
          "base_uri": "https://localhost:8080/",
          "height": 35
        },
        "id": "Jzmtk7sh89Mo",
        "outputId": "04c70d71-ba64-4639-d012-955bb5f98532"
      },
      "source": [
        "pd.__version__"
      ],
      "execution_count": null,
      "outputs": [
        {
          "output_type": "execute_result",
          "data": {
            "application/vnd.google.colaboratory.intrinsic+json": {
              "type": "string"
            },
            "text/plain": [
              "'1.2.5'"
            ]
          },
          "metadata": {
            "tags": []
          },
          "execution_count": 4
        }
      ]
    },
    {
      "cell_type": "code",
      "metadata": {
        "colab": {
          "base_uri": "https://localhost:8080/",
          "height": 357
        },
        "id": "GpTxGQJO-NRL",
        "outputId": "e6180645-6ff4-4d49-a40e-59b73367a088"
      },
      "source": [
        "pip install openpyxl==2.6.0"
      ],
      "execution_count": null,
      "outputs": [
        {
          "output_type": "stream",
          "text": [
            "Collecting openpyxl==2.6.0\n",
            "\u001b[?25l  Downloading https://files.pythonhosted.org/packages/41/a8/257a30b5b7ce0e548bc03f5be3d4b262140c1f7a506038da63cd1f4d34ad/openpyxl-2.6.0.tar.gz (172kB)\n",
            "\r\u001b[K     |██                              | 10kB 13.9MB/s eta 0:00:01\r\u001b[K     |███▉                            | 20kB 10.3MB/s eta 0:00:01\r\u001b[K     |█████▊                          | 30kB 8.6MB/s eta 0:00:01\r\u001b[K     |███████▋                        | 40kB 7.8MB/s eta 0:00:01\r\u001b[K     |█████████▌                      | 51kB 4.3MB/s eta 0:00:01\r\u001b[K     |███████████▍                    | 61kB 4.6MB/s eta 0:00:01\r\u001b[K     |█████████████▎                  | 71kB 5.0MB/s eta 0:00:01\r\u001b[K     |███████████████▏                | 81kB 5.4MB/s eta 0:00:01\r\u001b[K     |█████████████████               | 92kB 5.5MB/s eta 0:00:01\r\u001b[K     |███████████████████             | 102kB 4.2MB/s eta 0:00:01\r\u001b[K     |████████████████████▉           | 112kB 4.2MB/s eta 0:00:01\r\u001b[K     |██████████████████████▉         | 122kB 4.2MB/s eta 0:00:01\r\u001b[K     |████████████████████████▊       | 133kB 4.2MB/s eta 0:00:01\r\u001b[K     |██████████████████████████▋     | 143kB 4.2MB/s eta 0:00:01\r\u001b[K     |████████████████████████████▌   | 153kB 4.2MB/s eta 0:00:01\r\u001b[K     |██████████████████████████████▍ | 163kB 4.2MB/s eta 0:00:01\r\u001b[K     |████████████████████████████████| 174kB 4.2MB/s \n",
            "\u001b[?25hRequirement already satisfied: jdcal in /usr/local/lib/python3.7/dist-packages (from openpyxl==2.6.0) (1.4.1)\n",
            "Requirement already satisfied: et_xmlfile in /usr/local/lib/python3.7/dist-packages (from openpyxl==2.6.0) (1.1.0)\n",
            "Building wheels for collected packages: openpyxl\n",
            "  Building wheel for openpyxl (setup.py) ... \u001b[?25l\u001b[?25hdone\n",
            "  Created wheel for openpyxl: filename=openpyxl-2.6.0-py2.py3-none-any.whl size=243902 sha256=9bf54bb424b89141669a124878fe8f4b44031e4222d4e600348efd1c3c25bc8f\n",
            "  Stored in directory: /root/.cache/pip/wheels/5a/de/77/f07186146bd0337342dd8c86fa12441f4f9c59573c51dcce9d\n",
            "Successfully built openpyxl\n",
            "Installing collected packages: openpyxl\n",
            "  Found existing installation: openpyxl 2.5.9\n",
            "    Uninstalling openpyxl-2.5.9:\n",
            "      Successfully uninstalled openpyxl-2.5.9\n",
            "Successfully installed openpyxl-2.6.0\n"
          ],
          "name": "stdout"
        },
        {
          "output_type": "display_data",
          "data": {
            "application/vnd.colab-display-data+json": {
              "pip_warning": {
                "packages": [
                  "openpyxl"
                ]
              }
            }
          },
          "metadata": {
            "tags": []
          }
        }
      ]
    },
    {
      "cell_type": "code",
      "metadata": {
        "id": "Zt0zD7dtVqCK"
      },
      "source": [
        "df_one = pd.read_csv(\"Datasets/COVID Fake News Data.csv\")\n",
        "df_two = pd.read_excel(\"Datasets/fake_new_dataset.xlsx\", index_col = None)"
      ],
      "execution_count": null,
      "outputs": []
    },
    {
      "cell_type": "markdown",
      "metadata": {
        "id": "Fw0X5SQl4PJl"
      },
      "source": [
        "Limpiar los caracteres que no son ASCII:"
      ]
    },
    {
      "cell_type": "code",
      "metadata": {
        "colab": {
          "base_uri": "https://localhost:8080/"
        },
        "id": "9RRI1_wEEfaN",
        "outputId": "fdc4a28b-fe4e-48a7-aaf9-dc333b9912c7"
      },
      "source": [
        "df_one.outcome.value_counts()"
      ],
      "execution_count": null,
      "outputs": [
        {
          "output_type": "execute_result",
          "data": {
            "text/plain": [
              "0    9727\n",
              "1     474\n",
              "Name: outcome, dtype: int64"
            ]
          },
          "metadata": {
            "tags": []
          },
          "execution_count": 5
        }
      ]
    },
    {
      "cell_type": "code",
      "metadata": {
        "colab": {
          "base_uri": "https://localhost:8080/"
        },
        "id": "izlw0snKEkgk",
        "outputId": "1ac73901-4632-4562-87c0-8391c417a1be"
      },
      "source": [
        "df_two.label.value_counts()"
      ],
      "execution_count": null,
      "outputs": [
        {
          "output_type": "execute_result",
          "data": {
            "text/plain": [
              "1    2061\n",
              "0    1058\n",
              "Name: label, dtype: int64"
            ]
          },
          "metadata": {
            "tags": []
          },
          "execution_count": 6
        }
      ]
    },
    {
      "cell_type": "code",
      "metadata": {
        "id": "ibzIrzpY39Xj"
      },
      "source": [
        "from string import printable\n",
        "\n",
        "df_one.headlines = df_one.headlines.apply(lambda y: ''.join(filter(lambda x: \n",
        "            x in printable, y)))"
      ],
      "execution_count": null,
      "outputs": []
    },
    {
      "cell_type": "code",
      "metadata": {
        "colab": {
          "base_uri": "https://localhost:8080/"
        },
        "id": "S6fxUcdR4AKn",
        "outputId": "3ba7982a-30d2-4bff-abf4-068b2aaf4fd7"
      },
      "source": [
        "df_one.outcome.replace({0: 1, 1: 0}, inplace=True)\n",
        "df_one.outcome.value_counts()"
      ],
      "execution_count": null,
      "outputs": [
        {
          "output_type": "execute_result",
          "data": {
            "text/plain": [
              "1    9727\n",
              "0     474\n",
              "Name: outcome, dtype: int64"
            ]
          },
          "metadata": {
            "tags": []
          },
          "execution_count": 8
        }
      ]
    },
    {
      "cell_type": "code",
      "metadata": {
        "colab": {
          "base_uri": "https://localhost:8080/"
        },
        "id": "-Vl7rNO1MmrT",
        "outputId": "068e5c70-1379-436b-c5c8-2c5b5d2ec50f"
      },
      "source": [
        "df_two.label.replace({0: 1, 1: 0}, inplace=True)\n",
        "df_two.label.value_counts()"
      ],
      "execution_count": null,
      "outputs": [
        {
          "output_type": "execute_result",
          "data": {
            "text/plain": [
              "0    2061\n",
              "1    1058\n",
              "Name: label, dtype: int64"
            ]
          },
          "metadata": {
            "tags": []
          },
          "execution_count": 9
        }
      ]
    },
    {
      "cell_type": "markdown",
      "metadata": {
        "id": "mSTRQu6uONvm"
      },
      "source": [
        "En el segundo dataset modificamos el nombre de las columnas para poder concatenarlo con el primer dataset"
      ]
    },
    {
      "cell_type": "code",
      "metadata": {
        "id": "eouH979KN3ab"
      },
      "source": [
        "df_two.rename(columns={\"title\": \"headlines\", \"label\": \"outcome\"}, inplace=True)"
      ],
      "execution_count": null,
      "outputs": []
    },
    {
      "cell_type": "markdown",
      "metadata": {
        "id": "s7xm2hSDOWiD"
      },
      "source": [
        "Concatenamos el dataset"
      ]
    },
    {
      "cell_type": "code",
      "metadata": {
        "id": "eiCnRJ2yNWzJ"
      },
      "source": [
        "df_one_final = pd.concat([df_one, df_two[[\"headlines\", \"outcome\"]]], ignore_index=True)"
      ],
      "execution_count": null,
      "outputs": []
    },
    {
      "cell_type": "markdown",
      "metadata": {
        "id": "3EwGQMaCP4Qv"
      },
      "source": [
        "Podemos ver la diferencia de numero de datos entre ambas clases, hay una mayor cantidad de textos clasificados como falsos. Esto representa un desbalance de clases."
      ]
    },
    {
      "cell_type": "code",
      "metadata": {
        "colab": {
          "base_uri": "https://localhost:8080/"
        },
        "id": "SeB1IY2FNbRf",
        "outputId": "86f1ee66-a7da-46cb-ea40-33799106ba08"
      },
      "source": [
        "df_one_final.outcome.value_counts()"
      ],
      "execution_count": null,
      "outputs": [
        {
          "output_type": "execute_result",
          "data": {
            "text/plain": [
              "1    10785\n",
              "0     2535\n",
              "Name: outcome, dtype: int64"
            ]
          },
          "metadata": {
            "tags": []
          },
          "execution_count": 12
        }
      ]
    },
    {
      "cell_type": "code",
      "metadata": {
        "colab": {
          "base_uri": "https://localhost:8080/",
          "height": 419
        },
        "id": "J3z_CHsDOCX3",
        "outputId": "145c5107-f157-48ac-9eee-811e7df27690"
      },
      "source": [
        "df_one_final"
      ],
      "execution_count": null,
      "outputs": [
        {
          "output_type": "execute_result",
          "data": {
            "text/html": [
              "<div>\n",
              "<style scoped>\n",
              "    .dataframe tbody tr th:only-of-type {\n",
              "        vertical-align: middle;\n",
              "    }\n",
              "\n",
              "    .dataframe tbody tr th {\n",
              "        vertical-align: top;\n",
              "    }\n",
              "\n",
              "    .dataframe thead th {\n",
              "        text-align: right;\n",
              "    }\n",
              "</style>\n",
              "<table border=\"1\" class=\"dataframe\">\n",
              "  <thead>\n",
              "    <tr style=\"text-align: right;\">\n",
              "      <th></th>\n",
              "      <th>headlines</th>\n",
              "      <th>outcome</th>\n",
              "    </tr>\n",
              "  </thead>\n",
              "  <tbody>\n",
              "    <tr>\n",
              "      <th>0</th>\n",
              "      <td>A post claims compulsory vacination violates t...</td>\n",
              "      <td>1</td>\n",
              "    </tr>\n",
              "    <tr>\n",
              "      <th>1</th>\n",
              "      <td>A photo claims that this person is a doctor wh...</td>\n",
              "      <td>1</td>\n",
              "    </tr>\n",
              "    <tr>\n",
              "      <th>2</th>\n",
              "      <td>Post about a video claims that it is a protest...</td>\n",
              "      <td>1</td>\n",
              "    </tr>\n",
              "    <tr>\n",
              "      <th>3</th>\n",
              "      <td>All deaths by respiratory failure and pneumoni...</td>\n",
              "      <td>1</td>\n",
              "    </tr>\n",
              "    <tr>\n",
              "      <th>4</th>\n",
              "      <td>The dean of the College of Biologists of Euska...</td>\n",
              "      <td>1</td>\n",
              "    </tr>\n",
              "    <tr>\n",
              "      <th>...</th>\n",
              "      <td>...</td>\n",
              "      <td>...</td>\n",
              "    </tr>\n",
              "    <tr>\n",
              "      <th>13315</th>\n",
              "      <td>2019-nCoV: Health dept. on full alert</td>\n",
              "      <td>0</td>\n",
              "    </tr>\n",
              "    <tr>\n",
              "      <th>13316</th>\n",
              "      <td>Screening machine for corona virus launched at...</td>\n",
              "      <td>0</td>\n",
              "    </tr>\n",
              "    <tr>\n",
              "      <th>13317</th>\n",
              "      <td>Coronavirus (2019-nCoV)</td>\n",
              "      <td>0</td>\n",
              "    </tr>\n",
              "    <tr>\n",
              "      <th>13318</th>\n",
              "      <td>Characterizing Patients Hospitalized With COVI...</td>\n",
              "      <td>1</td>\n",
              "    </tr>\n",
              "    <tr>\n",
              "      <th>13319</th>\n",
              "      <td>Corona Virus WARNING</td>\n",
              "      <td>1</td>\n",
              "    </tr>\n",
              "  </tbody>\n",
              "</table>\n",
              "<p>13320 rows × 2 columns</p>\n",
              "</div>"
            ],
            "text/plain": [
              "                                               headlines  outcome\n",
              "0      A post claims compulsory vacination violates t...        1\n",
              "1      A photo claims that this person is a doctor wh...        1\n",
              "2      Post about a video claims that it is a protest...        1\n",
              "3      All deaths by respiratory failure and pneumoni...        1\n",
              "4      The dean of the College of Biologists of Euska...        1\n",
              "...                                                  ...      ...\n",
              "13315              2019-nCoV: Health dept. on full alert        0\n",
              "13316  Screening machine for corona virus launched at...        0\n",
              "13317                            Coronavirus (2019-nCoV)        0\n",
              "13318  Characterizing Patients Hospitalized With COVI...        1\n",
              "13319                               Corona Virus WARNING        1\n",
              "\n",
              "[13320 rows x 2 columns]"
            ]
          },
          "metadata": {
            "tags": []
          },
          "execution_count": 13
        }
      ]
    },
    {
      "cell_type": "markdown",
      "metadata": {
        "id": "kgPaAmjjF2fn"
      },
      "source": [
        "Podemos ver que existe un dato que tiene valor nulo en la columna \"headlines\". Eliminaremos este dato, no afectara al entrenamiento debido a su numero reducido."
      ]
    },
    {
      "cell_type": "code",
      "metadata": {
        "colab": {
          "base_uri": "https://localhost:8080/"
        },
        "id": "463d2wKSHg6z",
        "outputId": "4febb486-46d5-4e53-8663-5e8f76121c95"
      },
      "source": [
        "df_one_final.isna().sum()"
      ],
      "execution_count": null,
      "outputs": [
        {
          "output_type": "execute_result",
          "data": {
            "text/plain": [
              "headlines    1\n",
              "outcome      0\n",
              "dtype: int64"
            ]
          },
          "metadata": {
            "tags": []
          },
          "execution_count": 14
        }
      ]
    },
    {
      "cell_type": "code",
      "metadata": {
        "id": "K15G6mWV4e-F"
      },
      "source": [
        "\n",
        "df_one_final.dropna(inplace=True)\n",
        "df_one_final.reset_index(drop=True, inplace=True)"
      ],
      "execution_count": null,
      "outputs": []
    },
    {
      "cell_type": "markdown",
      "metadata": {
        "id": "NRsP6HXZGKzR"
      },
      "source": [
        "Analizamos cuantas palabras tienen como maximo, minimo y promedio las oraciones que se usaran para entrenar el modelo."
      ]
    },
    {
      "cell_type": "code",
      "metadata": {
        "colab": {
          "base_uri": "https://localhost:8080/"
        },
        "id": "4GpeA_jhNF-S",
        "outputId": "474affed-1264-48bb-a90a-eb795268fa1e"
      },
      "source": [
        "# Maximo largo de una palabra antes del reproceso\n",
        "print(\"Largo oracion Maximo \",df_one_final.headlines.str.len().max())\n",
        "print(\"Largo oracion Minimo: \",df_one_final.headlines.str.len().min())\n",
        "print(\"Largo oracion Promedio: \",df_one_final.headlines.str.len().mean())"
      ],
      "execution_count": null,
      "outputs": [
        {
          "output_type": "stream",
          "text": [
            "Largo oracion Maximo  673\n",
            "Largo oracion Minimo:  6\n",
            "Largo oracion Promedio:  93.10751557924769\n"
          ],
          "name": "stdout"
        }
      ]
    },
    {
      "cell_type": "markdown",
      "metadata": {
        "id": "GHC6jWxGIOSW"
      },
      "source": [
        "## Preprocesamiento de textos"
      ]
    },
    {
      "cell_type": "markdown",
      "metadata": {
        "id": "ZtT2sRQ-G9ZW"
      },
      "source": [
        "Vemos el tamaño del dataset es de 13319 datos:"
      ]
    },
    {
      "cell_type": "code",
      "metadata": {
        "colab": {
          "base_uri": "https://localhost:8080/"
        },
        "id": "EtssGoSKOnmQ",
        "outputId": "9957ec61-c193-482d-f046-c1a67e43b02e"
      },
      "source": [
        "len(df_one_final)"
      ],
      "execution_count": null,
      "outputs": [
        {
          "output_type": "execute_result",
          "data": {
            "text/plain": [
              "13319"
            ]
          },
          "metadata": {
            "tags": []
          },
          "execution_count": 17
        }
      ]
    },
    {
      "cell_type": "markdown",
      "metadata": {
        "id": "SHrVKF9kGwRq"
      },
      "source": [
        "Importamos la libreria NLTK que nos permitira aplicar tecnicas de procesamiento de lenguaje natural (NLP) en los textos:"
      ]
    },
    {
      "cell_type": "code",
      "metadata": {
        "colab": {
          "base_uri": "https://localhost:8080/"
        },
        "id": "36cttWByONcf",
        "outputId": "18d9e6e5-a346-4e25-c5d4-05859dcabccb"
      },
      "source": [
        "import re\n",
        "import nltk\n",
        "nltk.download(\"stopwords\")\n",
        "\n",
        "from nltk.corpus import stopwords\n",
        "from nltk.stem.porter import PorterStemmer"
      ],
      "execution_count": null,
      "outputs": [
        {
          "output_type": "stream",
          "text": [
            "[nltk_data] Downloading package stopwords to /root/nltk_data...\n",
            "[nltk_data]   Unzipping corpora/stopwords.zip.\n"
          ],
          "name": "stdout"
        }
      ]
    },
    {
      "cell_type": "markdown",
      "metadata": {
        "id": "YIGubUcGG722"
      },
      "source": [
        "Aplicaremos tecnicas de pre procesamiento de textos como convertir palabras a minuscula, eliminar espacios y caracteres innecesarios, y aplicar la técnica Stemming. Como resultado obtendremos el cuerpo de los textos pre procesados para entrenar los modelos."
      ]
    },
    {
      "cell_type": "code",
      "metadata": {
        "id": "CiBjWWD6OPjj"
      },
      "source": [
        "corpus = []\n",
        "lista_palabras = []\n",
        "for i in range(len(df_one_final)):\n",
        "  # Reemplazamos caracteres innecesarios como puntos y comas:\n",
        "  #texto = re.sub(\"[^a-zA-Z-á-é-í-ó-ú]\", \" \", df_one_final[\"headlines\"][i])\n",
        "  texto = re.sub(\"[^a-zA-Z]\", \" \", df_one_final[\"headlines\"][i])\n",
        "\n",
        "  # Eliminamos espacios extras\n",
        "  texto = re.sub(r\"\\s+\",\" \", texto, flags = re.I)\n",
        "\n",
        "  # Convertimos el texto a minuscula:\n",
        "  texto = texto.lower()\n",
        "\n",
        "  # Dividimos el texto en palabras individuales:\n",
        "  texto = texto.split()\n",
        "\n",
        "  # Declaramos el objeto Stemming:\n",
        "  stemmer = PorterStemmer()\n",
        "\n",
        "  # Excluimos los Stop Words de los textos:\n",
        "  lista_stopwords = stopwords.words(\"english\")\n",
        "  \n",
        "  # Aplicamos Stemming y omitimos los Stop words:\n",
        "  texto = [stemmer.stem(palabra) for palabra in texto if not palabra in set(lista_stopwords)]\n",
        "\n",
        "  lista_palabras.append(texto)\n",
        "  \n",
        "  # Unimos las palabras, separados por un espacio:\n",
        "  texto= \" \".join(texto)\n",
        "\n",
        "  # Añadimos el texto al corpus\n",
        "  corpus.append(texto)"
      ],
      "execution_count": null,
      "outputs": []
    },
    {
      "cell_type": "markdown",
      "metadata": {
        "id": "yAPQYzBk9FyT"
      },
      "source": [
        "Creamos una funcioón para conocer el numero de palabras en el corpus:"
      ]
    },
    {
      "cell_type": "code",
      "metadata": {
        "id": "HFB7eHuJ9E8M"
      },
      "source": [
        "def num_palabras(corp):\n",
        "  palabras_unicas = []\n",
        "  lista_palabras = []\n",
        "  for lista in corpus:\n",
        "    lista_palabras = lista.split()\n",
        "    for palabra in lista_palabras:\n",
        "      if palabra not in palabras_unicas:\n",
        "        palabras_unicas.append(palabra)\n",
        "  return len(palabras_unicas)"
      ],
      "execution_count": null,
      "outputs": []
    },
    {
      "cell_type": "code",
      "metadata": {
        "id": "R_sQDWBz9oNM"
      },
      "source": [
        "tamanio_voc = num_palabras(corpus)"
      ],
      "execution_count": null,
      "outputs": []
    },
    {
      "cell_type": "markdown",
      "metadata": {
        "id": "ZeQHsRRo7EDt"
      },
      "source": [
        "## Desarrollo del Modelo"
      ]
    },
    {
      "cell_type": "code",
      "metadata": {
        "colab": {
          "base_uri": "https://localhost:8080/"
        },
        "id": "JI-EaoItNub1",
        "outputId": "b8f646d5-e364-465f-b904-9adbbf02be60"
      },
      "source": [
        "pip install keras-tuner"
      ],
      "execution_count": null,
      "outputs": [
        {
          "output_type": "stream",
          "text": [
            "Collecting keras-tuner\n",
            "\u001b[?25l  Downloading https://files.pythonhosted.org/packages/a2/ba/c7a7cda64b67846bde66ffdaaf3199a79d4e35ab6b6f170cc1b7d235646e/keras_tuner-1.0.3-py3-none-any.whl (96kB)\n",
            "\r\u001b[K     |███▍                            | 10kB 22.7MB/s eta 0:00:01\r\u001b[K     |██████▉                         | 20kB 30.0MB/s eta 0:00:01\r\u001b[K     |██████████▏                     | 30kB 33.6MB/s eta 0:00:01\r\u001b[K     |█████████████▋                  | 40kB 22.5MB/s eta 0:00:01\r\u001b[K     |█████████████████               | 51kB 14.8MB/s eta 0:00:01\r\u001b[K     |████████████████████▍           | 61kB 12.9MB/s eta 0:00:01\r\u001b[K     |███████████████████████▊        | 71kB 14.3MB/s eta 0:00:01\r\u001b[K     |███████████████████████████▏    | 81kB 14.2MB/s eta 0:00:01\r\u001b[K     |██████████████████████████████▋ | 92kB 12.8MB/s eta 0:00:01\r\u001b[K     |████████████████████████████████| 102kB 7.8MB/s \n",
            "\u001b[?25hRequirement already satisfied: packaging in /usr/local/lib/python3.7/dist-packages (from keras-tuner) (20.9)\n",
            "Requirement already satisfied: tensorboard in /usr/local/lib/python3.7/dist-packages (from keras-tuner) (2.5.0)\n",
            "Collecting kt-legacy\n",
            "  Downloading https://files.pythonhosted.org/packages/76/c7/7ebe02ef2495b84a47dc92a4e943260b264b6546783ca23e451bcd8c09c1/kt-legacy-1.0.3.tar.gz\n",
            "Requirement already satisfied: numpy in /usr/local/lib/python3.7/dist-packages (from keras-tuner) (1.19.5)\n",
            "Requirement already satisfied: scipy in /usr/local/lib/python3.7/dist-packages (from keras-tuner) (1.4.1)\n",
            "Requirement already satisfied: ipython in /usr/local/lib/python3.7/dist-packages (from keras-tuner) (5.5.0)\n",
            "Requirement already satisfied: requests in /usr/local/lib/python3.7/dist-packages (from keras-tuner) (2.23.0)\n",
            "Requirement already satisfied: pyparsing>=2.0.2 in /usr/local/lib/python3.7/dist-packages (from packaging->keras-tuner) (2.4.7)\n",
            "Requirement already satisfied: absl-py>=0.4 in /usr/local/lib/python3.7/dist-packages (from tensorboard->keras-tuner) (0.12.0)\n",
            "Requirement already satisfied: grpcio>=1.24.3 in /usr/local/lib/python3.7/dist-packages (from tensorboard->keras-tuner) (1.34.1)\n",
            "Requirement already satisfied: tensorboard-data-server<0.7.0,>=0.6.0 in /usr/local/lib/python3.7/dist-packages (from tensorboard->keras-tuner) (0.6.1)\n",
            "Requirement already satisfied: google-auth<2,>=1.6.3 in /usr/local/lib/python3.7/dist-packages (from tensorboard->keras-tuner) (1.31.0)\n",
            "Requirement already satisfied: wheel>=0.26; python_version >= \"3\" in /usr/local/lib/python3.7/dist-packages (from tensorboard->keras-tuner) (0.36.2)\n",
            "Requirement already satisfied: werkzeug>=0.11.15 in /usr/local/lib/python3.7/dist-packages (from tensorboard->keras-tuner) (1.0.1)\n",
            "Requirement already satisfied: protobuf>=3.6.0 in /usr/local/lib/python3.7/dist-packages (from tensorboard->keras-tuner) (3.12.4)\n",
            "Requirement already satisfied: setuptools>=41.0.0 in /usr/local/lib/python3.7/dist-packages (from tensorboard->keras-tuner) (57.0.0)\n",
            "Requirement already satisfied: google-auth-oauthlib<0.5,>=0.4.1 in /usr/local/lib/python3.7/dist-packages (from tensorboard->keras-tuner) (0.4.4)\n",
            "Requirement already satisfied: tensorboard-plugin-wit>=1.6.0 in /usr/local/lib/python3.7/dist-packages (from tensorboard->keras-tuner) (1.8.0)\n",
            "Requirement already satisfied: markdown>=2.6.8 in /usr/local/lib/python3.7/dist-packages (from tensorboard->keras-tuner) (3.3.4)\n",
            "Requirement already satisfied: prompt-toolkit<2.0.0,>=1.0.4 in /usr/local/lib/python3.7/dist-packages (from ipython->keras-tuner) (1.0.18)\n",
            "Requirement already satisfied: pexpect; sys_platform != \"win32\" in /usr/local/lib/python3.7/dist-packages (from ipython->keras-tuner) (4.8.0)\n",
            "Requirement already satisfied: simplegeneric>0.8 in /usr/local/lib/python3.7/dist-packages (from ipython->keras-tuner) (0.8.1)\n",
            "Requirement already satisfied: pickleshare in /usr/local/lib/python3.7/dist-packages (from ipython->keras-tuner) (0.7.5)\n",
            "Requirement already satisfied: traitlets>=4.2 in /usr/local/lib/python3.7/dist-packages (from ipython->keras-tuner) (5.0.5)\n",
            "Requirement already satisfied: decorator in /usr/local/lib/python3.7/dist-packages (from ipython->keras-tuner) (4.4.2)\n",
            "Requirement already satisfied: pygments in /usr/local/lib/python3.7/dist-packages (from ipython->keras-tuner) (2.6.1)\n",
            "Requirement already satisfied: certifi>=2017.4.17 in /usr/local/lib/python3.7/dist-packages (from requests->keras-tuner) (2021.5.30)\n",
            "Requirement already satisfied: idna<3,>=2.5 in /usr/local/lib/python3.7/dist-packages (from requests->keras-tuner) (2.10)\n",
            "Requirement already satisfied: chardet<4,>=3.0.2 in /usr/local/lib/python3.7/dist-packages (from requests->keras-tuner) (3.0.4)\n",
            "Requirement already satisfied: urllib3!=1.25.0,!=1.25.1,<1.26,>=1.21.1 in /usr/local/lib/python3.7/dist-packages (from requests->keras-tuner) (1.24.3)\n",
            "Requirement already satisfied: six in /usr/local/lib/python3.7/dist-packages (from absl-py>=0.4->tensorboard->keras-tuner) (1.15.0)\n",
            "Requirement already satisfied: cachetools<5.0,>=2.0.0 in /usr/local/lib/python3.7/dist-packages (from google-auth<2,>=1.6.3->tensorboard->keras-tuner) (4.2.2)\n",
            "Requirement already satisfied: pyasn1-modules>=0.2.1 in /usr/local/lib/python3.7/dist-packages (from google-auth<2,>=1.6.3->tensorboard->keras-tuner) (0.2.8)\n",
            "Requirement already satisfied: rsa<5,>=3.1.4; python_version >= \"3.6\" in /usr/local/lib/python3.7/dist-packages (from google-auth<2,>=1.6.3->tensorboard->keras-tuner) (4.7.2)\n",
            "Requirement already satisfied: requests-oauthlib>=0.7.0 in /usr/local/lib/python3.7/dist-packages (from google-auth-oauthlib<0.5,>=0.4.1->tensorboard->keras-tuner) (1.3.0)\n",
            "Requirement already satisfied: importlib-metadata; python_version < \"3.8\" in /usr/local/lib/python3.7/dist-packages (from markdown>=2.6.8->tensorboard->keras-tuner) (4.5.0)\n",
            "Requirement already satisfied: wcwidth in /usr/local/lib/python3.7/dist-packages (from prompt-toolkit<2.0.0,>=1.0.4->ipython->keras-tuner) (0.2.5)\n",
            "Requirement already satisfied: ptyprocess>=0.5 in /usr/local/lib/python3.7/dist-packages (from pexpect; sys_platform != \"win32\"->ipython->keras-tuner) (0.7.0)\n",
            "Requirement already satisfied: ipython-genutils in /usr/local/lib/python3.7/dist-packages (from traitlets>=4.2->ipython->keras-tuner) (0.2.0)\n",
            "Requirement already satisfied: pyasn1<0.5.0,>=0.4.6 in /usr/local/lib/python3.7/dist-packages (from pyasn1-modules>=0.2.1->google-auth<2,>=1.6.3->tensorboard->keras-tuner) (0.4.8)\n",
            "Requirement already satisfied: oauthlib>=3.0.0 in /usr/local/lib/python3.7/dist-packages (from requests-oauthlib>=0.7.0->google-auth-oauthlib<0.5,>=0.4.1->tensorboard->keras-tuner) (3.1.1)\n",
            "Requirement already satisfied: typing-extensions>=3.6.4; python_version < \"3.8\" in /usr/local/lib/python3.7/dist-packages (from importlib-metadata; python_version < \"3.8\"->markdown>=2.6.8->tensorboard->keras-tuner) (3.7.4.3)\n",
            "Requirement already satisfied: zipp>=0.5 in /usr/local/lib/python3.7/dist-packages (from importlib-metadata; python_version < \"3.8\"->markdown>=2.6.8->tensorboard->keras-tuner) (3.4.1)\n",
            "Building wheels for collected packages: kt-legacy\n",
            "  Building wheel for kt-legacy (setup.py) ... \u001b[?25l\u001b[?25hdone\n",
            "  Created wheel for kt-legacy: filename=kt_legacy-1.0.3-cp37-none-any.whl size=9569 sha256=15a32215d20e9833ba0ab73264e60d99f6b634fb009550a374e8adec80163fd6\n",
            "  Stored in directory: /root/.cache/pip/wheels/95/99/a8/6b116b0f69be60cc475d1cd36680f3a09f284d86655bb99d93\n",
            "Successfully built kt-legacy\n",
            "Installing collected packages: kt-legacy, keras-tuner\n",
            "Successfully installed keras-tuner-1.0.3 kt-legacy-1.0.3\n"
          ],
          "name": "stdout"
        }
      ]
    },
    {
      "cell_type": "code",
      "metadata": {
        "id": "G_r7G1Tg6xtC",
        "colab": {
          "base_uri": "https://localhost:8080/",
          "height": 367
        },
        "outputId": "7084dfc5-da2b-4510-8f66-83897d6d0432"
      },
      "source": [
        "import tensorflow as tf\n",
        "from tensorflow.keras.layers import Embedding\n",
        "from tensorflow.keras.preprocessing.sequence import pad_sequences\n",
        "from tensorflow.keras.models import Sequential\n",
        "from tensorflow.keras.preprocessing.text import one_hot\n",
        "from tensorflow.keras.layers import LSTM\n",
        "from tensorflow.keras.layers import Dense\n",
        "from sklearn.model_selection import train_test_split\n",
        "from tensorflow.keras.preprocessing.text import Tokenizer\n",
        "from tensorflow.keras.layers import Dense, Activation, Dropout, LSTM, GRU, Bidirectional\n",
        "from kerastuner.tuners import RandomSearch\n",
        "from kerastuner.engine.hyperparameters import HyperParameter\n",
        "import time"
      ],
      "execution_count": null,
      "outputs": [
        {
          "output_type": "error",
          "ename": "ModuleNotFoundError",
          "evalue": "ignored",
          "traceback": [
            "\u001b[0;31m---------------------------------------------------------------------------\u001b[0m",
            "\u001b[0;31mModuleNotFoundError\u001b[0m                       Traceback (most recent call last)",
            "\u001b[0;32m<ipython-input-22-fe5bb07d56d7>\u001b[0m in \u001b[0;36m<module>\u001b[0;34m()\u001b[0m\n\u001b[1;32m      9\u001b[0m \u001b[0;32mfrom\u001b[0m \u001b[0mtensorflow\u001b[0m\u001b[0;34m.\u001b[0m\u001b[0mkeras\u001b[0m\u001b[0;34m.\u001b[0m\u001b[0mpreprocessing\u001b[0m\u001b[0;34m.\u001b[0m\u001b[0mtext\u001b[0m \u001b[0;32mimport\u001b[0m \u001b[0mTokenizer\u001b[0m\u001b[0;34m\u001b[0m\u001b[0;34m\u001b[0m\u001b[0m\n\u001b[1;32m     10\u001b[0m \u001b[0;32mfrom\u001b[0m \u001b[0mtensorflow\u001b[0m\u001b[0;34m.\u001b[0m\u001b[0mkeras\u001b[0m\u001b[0;34m.\u001b[0m\u001b[0mlayers\u001b[0m \u001b[0;32mimport\u001b[0m \u001b[0mDense\u001b[0m\u001b[0;34m,\u001b[0m \u001b[0mActivation\u001b[0m\u001b[0;34m,\u001b[0m \u001b[0mDropout\u001b[0m\u001b[0;34m,\u001b[0m \u001b[0mLSTM\u001b[0m\u001b[0;34m,\u001b[0m \u001b[0mGRU\u001b[0m\u001b[0;34m,\u001b[0m \u001b[0mBidirectional\u001b[0m\u001b[0;34m\u001b[0m\u001b[0;34m\u001b[0m\u001b[0m\n\u001b[0;32m---> 11\u001b[0;31m \u001b[0;32mfrom\u001b[0m \u001b[0mkerastuner\u001b[0m\u001b[0;34m.\u001b[0m\u001b[0mtuners\u001b[0m \u001b[0;32mimport\u001b[0m \u001b[0mRandomSearch\u001b[0m\u001b[0;34m\u001b[0m\u001b[0;34m\u001b[0m\u001b[0m\n\u001b[0m\u001b[1;32m     12\u001b[0m \u001b[0;32mfrom\u001b[0m \u001b[0mkerastuner\u001b[0m\u001b[0;34m.\u001b[0m\u001b[0mengine\u001b[0m\u001b[0;34m.\u001b[0m\u001b[0mhyperparameters\u001b[0m \u001b[0;32mimport\u001b[0m \u001b[0mHyperParameter\u001b[0m\u001b[0;34m\u001b[0m\u001b[0;34m\u001b[0m\u001b[0m\n\u001b[1;32m     13\u001b[0m \u001b[0;32mimport\u001b[0m \u001b[0mtime\u001b[0m\u001b[0;34m\u001b[0m\u001b[0;34m\u001b[0m\u001b[0m\n",
            "\u001b[0;31mModuleNotFoundError\u001b[0m: No module named 'kerastuner'",
            "",
            "\u001b[0;31m---------------------------------------------------------------------------\u001b[0;32m\nNOTE: If your import is failing due to a missing package, you can\nmanually install dependencies using either !pip or !apt.\n\nTo view examples of installing some common dependencies, click the\n\"Open Examples\" button below.\n\u001b[0;31m---------------------------------------------------------------------------\u001b[0m\n"
          ]
        }
      ]
    },
    {
      "cell_type": "markdown",
      "metadata": {
        "id": "bl5xWmah7hvk"
      },
      "source": [
        "### Word2Vec\n",
        "\n",
        "Descargamos el modelo pre entrenado Word2Vec, el cual se entreno con un corpus de Google News de aproximadamente 3 billones de palabras. Estas se encuentran representado como vectores de 300 dimensiones."
      ]
    },
    {
      "cell_type": "code",
      "metadata": {
        "colab": {
          "base_uri": "https://localhost:8080/"
        },
        "id": "1Lh3lf28Y19B",
        "outputId": "4a839687-3604-4858-b073-dce70e00b7a2"
      },
      "source": [
        "pip install gensim"
      ],
      "execution_count": null,
      "outputs": [
        {
          "output_type": "stream",
          "text": [
            "Requirement already satisfied: gensim in /usr/local/lib/python3.7/dist-packages (3.6.0)\n",
            "Requirement already satisfied: six>=1.5.0 in /usr/local/lib/python3.7/dist-packages (from gensim) (1.15.0)\n",
            "Requirement already satisfied: smart-open>=1.2.1 in /usr/local/lib/python3.7/dist-packages (from gensim) (5.1.0)\n",
            "Requirement already satisfied: numpy>=1.11.3 in /usr/local/lib/python3.7/dist-packages (from gensim) (1.19.5)\n",
            "Requirement already satisfied: scipy>=0.18.1 in /usr/local/lib/python3.7/dist-packages (from gensim) (1.4.1)\n"
          ],
          "name": "stdout"
        }
      ]
    },
    {
      "cell_type": "code",
      "metadata": {
        "id": "GrjPHWjqFzsJ"
      },
      "source": [
        "from tensorflow.keras.utils import get_file\n",
        "modelo_pre_entrenado = 0\n",
        "if modelo_pre_entrenado == 1:\n",
        "  path = get_file('GoogleNews-vectors-negative300.bin.gz', \n",
        "  origin='https://s3.amazonaws.com/dl4j-distribution/GoogleNews-vectors-negative300.bin.gz')\n",
        "  print(path)"
      ],
      "execution_count": null,
      "outputs": []
    },
    {
      "cell_type": "code",
      "metadata": {
        "id": "i1hGn4ZZ7g6s"
      },
      "source": [
        "from gensim.models import word2vec\n",
        "# Modelo word2vec usando la arquitectura CBOW:\n",
        "model_word2vec_cbow = word2vec.Word2Vec(corpus, size=100, window=5, min_count=5, workers=12, sg=0)\n",
        "#w2v_pesos_cbow = model_word2vec_cbow.wv.vectors\n",
        "\n",
        "model_word2vec_skip = word2vec.Word2Vec(corpus, size=100, window=5, min_count=5, workers=12, sg=0)\n",
        "#w2v_pesos_skip = model_word2vec_skip.wv.vectors"
      ],
      "execution_count": null,
      "outputs": []
    },
    {
      "cell_type": "markdown",
      "metadata": {
        "id": "KtmSzxZg__Pm"
      },
      "source": [
        "### Padding\n",
        "\n",
        "Se aplica la tecnica de padding para que todas los textos tengan el mismo largo."
      ]
    },
    {
      "cell_type": "code",
      "metadata": {
        "id": "0yGkSJbJAOpk"
      },
      "source": [
        "def largo_max(corp):\n",
        "  max_valor = 0\n",
        "  for lista in corp:\n",
        "    largo = len(lista)\n",
        "    if largo > max_valor:\n",
        "      max_valor = largo\n",
        "  return max_valor"
      ],
      "execution_count": null,
      "outputs": []
    },
    {
      "cell_type": "markdown",
      "metadata": {
        "id": "S_55Z9UDIVWN"
      },
      "source": [
        "Tokenizamos las palabras del corpus para que puedan ser leidos por el modelo y aplicamos la tecnica llamada padding para que todas las oraciones ingresantes en el modelo de redes neuronales tengan el mismo tamaño."
      ]
    },
    {
      "cell_type": "code",
      "metadata": {
        "id": "Tl4wBoqzYEeB"
      },
      "source": [
        "def tokenizar_padding(corpus_data):\n",
        "  tokenizer = Tokenizer()\n",
        "  tokenizer.fit_on_texts(corpus_data)\n",
        "  secuencias = tokenizer.texts_to_sequences(corpus_data)\n",
        "  max_len_oracion = largo_max(secuencias)\n",
        "  resultado = pad_sequences(secuencias, maxlen = max_len_oracion)\n",
        "  return resultado, max_len_oracion\n"
      ],
      "execution_count": null,
      "outputs": []
    },
    {
      "cell_type": "code",
      "metadata": {
        "id": "SAI9w4PyYOgJ"
      },
      "source": [
        "X, max_largo_oracion = tokenizar_padding(corpus)"
      ],
      "execution_count": null,
      "outputs": []
    },
    {
      "cell_type": "code",
      "metadata": {
        "id": "rxnTYlv1XSdL"
      },
      "source": [
        "embedding_vector_size = 100\n",
        "def matriz_pesos_word2vec(modelo_word2vec, corpus_data):\n",
        "  voc_size = num_palabras(corpus_data)\n",
        "  words = list(modelo_word2vec.wv.vocab)\n",
        "  embedding_matrix = np.zeros((voc_size+1, embedding_vector_size))\n",
        "  for index, word in enumerate(words):    \n",
        "    embedding_vector = modelo_word2vec.wv[word]\n",
        "  if embedding_vector is not None:\n",
        "    embedding_matrix[index] = embedding_vector\n",
        "  return embedding_matrix"
      ],
      "execution_count": null,
      "outputs": []
    },
    {
      "cell_type": "code",
      "metadata": {
        "id": "UwhceGPdYgdB"
      },
      "source": [
        "embedding_matrix_cbow = matriz_pesos_word2vec(model_word2vec_cbow, corpus)\n",
        "embedding_matrix_skip = matriz_pesos_word2vec(model_word2vec_skip, corpus)"
      ],
      "execution_count": null,
      "outputs": []
    },
    {
      "cell_type": "markdown",
      "metadata": {
        "id": "NKMmhBLXH_WB"
      },
      "source": [
        "## Modelo LSTM y Word2vec "
      ]
    },
    {
      "cell_type": "markdown",
      "metadata": {
        "id": "BM7dXSra8znk"
      },
      "source": [
        "### Modelo LSTM - CBOW"
      ]
    },
    {
      "cell_type": "code",
      "metadata": {
        "id": "03VPFrxWZf9B"
      },
      "source": [
        "def LSTM_One_Word2Vec_CBOW(hp):\n",
        "  model=Sequential()\n",
        "  \n",
        "  model.add(Embedding(tamanio_voc+1, \n",
        "                      embedding_vector_size, \n",
        "                      input_length=max_largo_oracion, \n",
        "                      weights = [embedding_matrix_cbow]))\n",
        "  \n",
        "  model.add(LSTM(hp.Int(\"LSTM_units_one\", 32, 256, 32), \n",
        "                 recurrent_dropout=hp.Float(\"dropout_rec_unit_one\", 0.1, 0.5, 0.1)\n",
        "                 ))\n",
        "  \n",
        "  model.add(Dropout(hp.Float(\"dropout_unit_one\", 0.1, 0.5, 0.1)))\n",
        "\n",
        "  for i in range(hp.Int(\"n_capas_dense\", 0, 3, 1)):\n",
        "    if i == 0:\n",
        "      pass\n",
        "    else:\n",
        "      model.add(Dense(hp.Int(f\"dense_units_{i}\", 32, 256, 32), \n",
        "                    activation='relu'))\n",
        "      model.add(Dropout(hp.Float(\"dropout_unit_three\", 0.1, 0.5, 0.1)))\n",
        "\n",
        "  model.add(Dense(1,activation='sigmoid'))\n",
        "\n",
        "  model.compile(loss ='binary_crossentropy',\n",
        "                optimizer='adam',\n",
        "                metrics=['accuracy'])\n",
        "  return model\n",
        "\n",
        "##################\n",
        "\n",
        "def LSTM_Two_Word2Vec_CBOW(hp):\n",
        "  model=Sequential()\n",
        "  \n",
        "  model.add(Embedding(tamanio_voc+1, \n",
        "                      embedding_vector_size, \n",
        "                      input_length=max_largo_oracion, \n",
        "                      weights = [embedding_matrix_cbow]))\n",
        "\n",
        "  model.add(LSTM(hp.Int(\"LSTM_units_one\", 32, 256, 32), \n",
        "                 recurrent_dropout=hp.Float(\"dropout_rec_unit_one\", 0.1, 0.5, 0.1),\n",
        "                 return_sequences=True\n",
        "                 ))\n",
        "\n",
        "  model.add(Dropout(hp.Float(\"dropout_unit_one\", 0.1, 0.5, 0.1)))\n",
        "\n",
        "  model.add(LSTM(hp.Int(f\"LSTM2_units\", 32, 256, 32),\n",
        "                   recurrent_dropout=hp.Float(f\"dropout_rec2_unit\", 0.1, 0.5, 0.1)))\n",
        "  model.add(Dropout(hp.Float(f\"dropout2_unit\", 0.1, 0.5, 0.1)))\n",
        "\n",
        "  for i in range(hp.Int(\"n_capas_dense\", 0, 3, 1)):\n",
        "    if i == 0:\n",
        "      pass\n",
        "    else:\n",
        "      model.add(Dense(hp.Int(f\"dense_units_{i}\", 32, 256, 32), \n",
        "                    activation='relu'))\n",
        "      model.add(Dropout(hp.Float(\"dropout_unit_three\", 0.1, 0.5, 0.1)))\n",
        "\n",
        "  model.add(Dense(1,activation='sigmoid'))\n",
        "\n",
        "  model.compile(loss ='binary_crossentropy',\n",
        "                optimizer='adam',\n",
        "                metrics=['accuracy'])\n",
        "  return model"
      ],
      "execution_count": null,
      "outputs": []
    },
    {
      "cell_type": "markdown",
      "metadata": {
        "id": "ti6_y8V_8nWD"
      },
      "source": [
        "### Modelos LSTM - Skip Gram"
      ]
    },
    {
      "cell_type": "code",
      "metadata": {
        "id": "mCcdETY137rX"
      },
      "source": [
        "def LSTM_One_Word2Vec_SKIP(hp):\n",
        "  model=Sequential()\n",
        "  \n",
        "  model.add(Embedding(tamanio_voc+1, \n",
        "                      embedding_vector_size, \n",
        "                      input_length=max_largo_oracion, \n",
        "                      weights = [embedding_matrix_skip]))\n",
        "  \n",
        "  model.add(LSTM(hp.Int(\"LSTM_units_one\", 32, 256, 32), \n",
        "                 recurrent_dropout=hp.Float(\"dropout_rec_unit_one\", 0.1, 0.5, 0.1)\n",
        "                 ))\n",
        "  \n",
        "  model.add(Dropout(hp.Float(\"dropout_unit_one\", 0.1, 0.5, 0.1)))\n",
        "\n",
        "  for i in range(hp.Int(\"n_capas_dense\", 0, 3, 1)):\n",
        "    if i == 0:\n",
        "      pass\n",
        "    else:\n",
        "      model.add(Dense(hp.Int(f\"dense_units_{i}\", 32, 256, 32), \n",
        "                    activation='relu'))\n",
        "      model.add(Dropout(hp.Float(\"dropout_unit_three\", 0.1, 0.5, 0.1)))\n",
        "\n",
        "  model.add(Dense(1,activation='sigmoid'))\n",
        "\n",
        "  model.compile(loss ='binary_crossentropy',\n",
        "                optimizer='adam',\n",
        "                metrics=['accuracy'])\n",
        "  return model\n",
        "\n",
        "##################\n",
        "\n",
        "def LSTM_Two_Word2Vec_SKIP(hp):\n",
        "  model=Sequential()\n",
        "  \n",
        "  model.add(Embedding(tamanio_voc+1, \n",
        "                      embedding_vector_size, \n",
        "                      input_length=max_largo_oracion, \n",
        "                      weights = [embedding_matrix_skip]))\n",
        "\n",
        "  model.add(LSTM(hp.Int(\"LSTM_units_one\", 32, 256, 32), \n",
        "                 recurrent_dropout=hp.Float(\"dropout_rec_unit_one\", 0.1, 0.5, 0.1),\n",
        "                 return_sequences=True\n",
        "                 ))\n",
        "\n",
        "  model.add(Dropout(hp.Float(\"dropout_unit_one\", 0.1, 0.5, 0.1)))\n",
        "\n",
        "  model.add(LSTM(hp.Int(f\"LSTM2_units\", 32, 256, 32),\n",
        "                   recurrent_dropout=hp.Float(f\"dropout_rec2_unit\", 0.1, 0.5, 0.1)))\n",
        "  model.add(Dropout(hp.Float(f\"dropout2_unit\", 0.1, 0.5, 0.1)))\n",
        "\n",
        "  for i in range(hp.Int(\"n_capas_dense\", 0, 3, 1)):\n",
        "    if i == 0:\n",
        "      pass\n",
        "    else:\n",
        "      model.add(Dense(hp.Int(f\"dense_units_{i}\", 32, 256, 32), \n",
        "                    activation='relu'))\n",
        "      model.add(Dropout(hp.Float(\"dropout_unit_three\", 0.1, 0.5, 0.1)))\n",
        "\n",
        "  model.add(Dense(1,activation='sigmoid'))\n",
        "\n",
        "  model.compile(loss ='binary_crossentropy',\n",
        "                optimizer='adam',\n",
        "                metrics=['accuracy'])\n",
        "  return model"
      ],
      "execution_count": null,
      "outputs": []
    },
    {
      "cell_type": "markdown",
      "metadata": {
        "id": "DOD93d_d839D"
      },
      "source": [
        "## Modelo GRU - Word2vec"
      ]
    },
    {
      "cell_type": "code",
      "metadata": {
        "id": "5mO_4U39inNT"
      },
      "source": [
        "def GRU_One_Word2Vec_CBOW(hp):\n",
        "  model=Sequential()\n",
        "  \n",
        "  model.add(Embedding(tamanio_voc+1, \n",
        "                      embedding_vector_size, \n",
        "                      input_length=max_largo_oracion, \n",
        "                      weights = [embedding_matrix_cbow]))\n",
        "  \n",
        "  model.add(GRU(hp.Int(\"GRU_units_one\", 32, 256, 32), \n",
        "                 recurrent_dropout=hp.Float(\"dropout_rec_unit_one\", 0.1, 0.5, 0.1)\n",
        "                 ))\n",
        "  \n",
        "  model.add(Dropout(hp.Float(\"dropout_unit_one\", 0.1, 0.5, 0.1)))\n",
        "\n",
        "  for i in range(hp.Int(\"n_capas_dense\", 0, 3, 1)):\n",
        "    if i == 0:\n",
        "      pass\n",
        "    else:\n",
        "      model.add(Dense(hp.Int(f\"dense_units_{i}\", 32, 256, 32), \n",
        "                    activation='relu'))\n",
        "      model.add(Dropout(hp.Float(\"dropout_unit_three\", 0.1, 0.5, 0.1)))\n",
        "\n",
        "  model.add(Dense(1,activation='sigmoid'))\n",
        "\n",
        "  model.compile(loss ='binary_crossentropy',\n",
        "                optimizer='adam',\n",
        "                metrics=['accuracy'])\n",
        "  return model\n",
        "\n",
        "##################\n",
        "\n",
        "def GRU_Two_Word2Vec_CBOW(hp):\n",
        "  model=Sequential()\n",
        "  \n",
        "  model.add(Embedding(tamanio_voc+1, \n",
        "                      embedding_vector_size, \n",
        "                      input_length=max_largo_oracion, \n",
        "                      weights = [embedding_matrix_cbow]))\n",
        "\n",
        "  model.add(GRU(hp.Int(\"GRU_units_one\", 32, 256, 32), \n",
        "                 recurrent_dropout=hp.Float(\"dropout_rec_unit_one\", 0.1, 0.5, 0.1),\n",
        "                 return_sequences=True\n",
        "                 ))\n",
        "\n",
        "  model.add(Dropout(hp.Float(\"dropout_unit_one\", 0.1, 0.5, 0.1)))\n",
        "\n",
        "  model.add(GRU(hp.Int(f\"GRU2_units\", 32, 256, 32),\n",
        "                   recurrent_dropout=hp.Float(f\"dropout_rec2_unit\", 0.1, 0.5, 0.1)))\n",
        "  model.add(Dropout(hp.Float(f\"dropout2_unit\", 0.1, 0.5, 0.1)))\n",
        "\n",
        "  for i in range(hp.Int(\"n_capas_dense\", 0, 3, 1)):\n",
        "    if i == 0:\n",
        "      pass\n",
        "    else:\n",
        "      model.add(Dense(hp.Int(f\"dense_units_{i}\", 32, 256, 32), \n",
        "                    activation='relu'))\n",
        "      model.add(Dropout(hp.Float(\"dropout_unit_three\", 0.1, 0.5, 0.1)))\n",
        "\n",
        "  model.add(Dense(1,activation='sigmoid'))\n",
        "\n",
        "  model.compile(loss ='binary_crossentropy',\n",
        "                optimizer='adam',\n",
        "                metrics=['accuracy'])\n",
        "  return model"
      ],
      "execution_count": null,
      "outputs": []
    },
    {
      "cell_type": "markdown",
      "metadata": {
        "id": "ajpKZYLV8-9j"
      },
      "source": [
        "### Modelo GRU - SKIP"
      ]
    },
    {
      "cell_type": "code",
      "metadata": {
        "id": "4SS0Bo4j9Lia"
      },
      "source": [
        "def GRU_One_Word2Vec_SKIP(hp):\n",
        "  model=Sequential()\n",
        "  \n",
        "  model.add(Embedding(tamanio_voc+1, \n",
        "                      embedding_vector_size, \n",
        "                      input_length=max_largo_oracion, \n",
        "                      weights = [embedding_matrix_skip]))\n",
        "  \n",
        "  model.add(GRU(hp.Int(\"GRU_units_one\", 32, 256, 32), \n",
        "                 recurrent_dropout=hp.Float(\"dropout_rec_unit_one\", 0.1, 0.5, 0.1)\n",
        "                 ))\n",
        "  \n",
        "  model.add(Dropout(hp.Float(\"dropout_unit_one\", 0.1, 0.5, 0.1)))\n",
        "\n",
        "  for i in range(hp.Int(\"n_capas_dense\", 0, 3, 1)):\n",
        "    if i == 0:\n",
        "      pass\n",
        "    else:\n",
        "      model.add(Dense(hp.Int(f\"dense_units_{i}\", 32, 256, 32), \n",
        "                    activation='relu'))\n",
        "      model.add(Dropout(hp.Float(\"dropout_unit_three\", 0.1, 0.5, 0.1)))\n",
        "\n",
        "  model.add(Dense(1,activation='sigmoid'))\n",
        "\n",
        "  model.compile(loss ='binary_crossentropy',\n",
        "                optimizer='adam',\n",
        "                metrics=['accuracy'])\n",
        "  return model\n",
        "\n",
        "##################\n",
        "\n",
        "def GRU_Two_Word2Vec_SKIP(hp):\n",
        "  model=Sequential()\n",
        "  \n",
        "  model.add(Embedding(tamanio_voc+1, \n",
        "                      embedding_vector_size, \n",
        "                      input_length=max_largo_oracion, \n",
        "                      weights = [embedding_matrix_skip]))\n",
        "\n",
        "  model.add(GRU(hp.Int(\"GRU_units_one\", 32, 256, 32), \n",
        "                 recurrent_dropout=hp.Float(\"dropout_rec_unit_one\", 0.1, 0.5, 0.1),\n",
        "                 return_sequences=True\n",
        "                 ))\n",
        "\n",
        "  model.add(Dropout(hp.Float(\"dropout_unit_one\", 0.1, 0.5, 0.1)))\n",
        "\n",
        "  model.add(GRU(hp.Int(f\"GRU2_units\", 32, 256, 32),\n",
        "                   recurrent_dropout=hp.Float(f\"dropout_rec2_unit\", 0.1, 0.5, 0.1)))\n",
        "  model.add(Dropout(hp.Float(f\"dropout2_unit\", 0.1, 0.5, 0.1)))\n",
        "\n",
        "  for i in range(hp.Int(\"n_capas_dense\", 0, 3, 1)):\n",
        "    if i == 0:\n",
        "      pass\n",
        "    else:\n",
        "      model.add(Dense(hp.Int(f\"dense_units_{i}\", 32, 256, 32), \n",
        "                    activation='relu'))\n",
        "      model.add(Dropout(hp.Float(\"dropout_unit_three\", 0.1, 0.5, 0.1)))\n",
        "\n",
        "  model.add(Dense(1,activation='sigmoid'))\n",
        "\n",
        "  model.compile(loss ='binary_crossentropy',\n",
        "                optimizer='adam',\n",
        "                metrics=['accuracy'])\n",
        "  return model"
      ],
      "execution_count": null,
      "outputs": []
    },
    {
      "cell_type": "markdown",
      "metadata": {
        "id": "bBjEsGUGxFkK"
      },
      "source": [
        "## Modelo LSTM Bidireccional "
      ]
    },
    {
      "cell_type": "code",
      "metadata": {
        "id": "iZgtd6lnxEqW"
      },
      "source": [
        "def BiLSTM_One_Word2Vec_CBOW(hp):\n",
        "  model=Sequential()\n",
        "  \n",
        "  model.add(Embedding(tamanio_voc+1, \n",
        "                      embedding_vector_size, \n",
        "                      input_length=max_largo_oracion, \n",
        "                      weights = [embedding_matrix_cbow]))\n",
        "  \n",
        "  model.add(Bidirectional(LSTM(hp.Int(\"BiLSTM_units_one\", 32, 256, 32), \n",
        "                 recurrent_dropout=hp.Float(\"dropout_rec_unit_one\", 0.1, 0.5, 0.1)\n",
        "                 )))\n",
        "  \n",
        "  model.add(Dropout(hp.Float(\"dropout_unit_one\", 0.1, 0.5, 0.1)))\n",
        "\n",
        "  for i in range(hp.Int(\"n_capas_dense\", 0, 3, 1)):\n",
        "    if i == 0:\n",
        "      pass\n",
        "    else:\n",
        "      model.add(Dense(hp.Int(f\"dense_units_{i}\", 32, 256, 32), \n",
        "                    activation='relu'))\n",
        "      model.add(Dropout(hp.Float(\"dropout_unit_three\", 0.1, 0.5, 0.1)))\n",
        "\n",
        "  model.add(Dense(1,activation='sigmoid'))\n",
        "\n",
        "  model.compile(loss ='binary_crossentropy',\n",
        "                optimizer='adam',\n",
        "                metrics=['accuracy'])\n",
        "  return model\n",
        "\n",
        "##################\n",
        "\n",
        "def BiLSTM_Two_Word2Vec_CBOW(hp):\n",
        "  model=Sequential()\n",
        "  \n",
        "  model.add(Embedding(tamanio_voc+1, \n",
        "                      embedding_vector_size, \n",
        "                      input_length=max_largo_oracion, \n",
        "                      weights = [embedding_matrix_cbow]))\n",
        "\n",
        "  model.add(Bidirectional(LSTM(hp.Int(\"BiLSTM_units_one\", 32, 256, 32), \n",
        "                 recurrent_dropout=hp.Float(\"dropout_rec_unit_one\", 0.1, 0.5, 0.1),\n",
        "                 return_sequences=True\n",
        "                 )))\n",
        "\n",
        "  model.add(Dropout(hp.Float(\"dropout_unit_one\", 0.1, 0.5, 0.1)))\n",
        "\n",
        "  model.add(Bidirectional(LSTM(hp.Int(f\"BiLSTM_units\", 32, 256, 32),\n",
        "                   recurrent_dropout=hp.Float(f\"dropout_rec2_unit\", 0.1, 0.5, 0.1))))\n",
        "  model.add(Dropout(hp.Float(f\"dropout2_unit\", 0.1, 0.5, 0.1)))\n",
        "\n",
        "  for i in range(hp.Int(\"n_capas_dense\", 0, 3, 1)):\n",
        "    if i == 0:\n",
        "      pass\n",
        "    else:\n",
        "      model.add(Dense(hp.Int(f\"dense_units_{i}\", 32, 256, 32), \n",
        "                    activation='relu'))\n",
        "      model.add(Dropout(hp.Float(\"dropout_unit_three\", 0.1, 0.5, 0.1)))\n",
        "\n",
        "  model.add(Dense(1,activation='sigmoid'))\n",
        "\n",
        "  model.compile(loss ='binary_crossentropy',\n",
        "                optimizer='adam',\n",
        "                metrics=['accuracy'])\n",
        "  return model\n",
        "\n",
        "def BiLSTM_One_Word2Vec_SKIP(hp):\n",
        "  model=Sequential()\n",
        "  \n",
        "  model.add(Embedding(tamanio_voc+1, \n",
        "                      embedding_vector_size, \n",
        "                      input_length=max_largo_oracion, \n",
        "                      weights = [embedding_matrix_skip]))\n",
        "  \n",
        "  model.add(Bidirectional(LSTM(hp.Int(\"BiLSTM_units_one\", 32, 256, 32), \n",
        "                 recurrent_dropout=hp.Float(\"dropout_rec_unit_one\", 0.1, 0.5, 0.1)\n",
        "                 )))\n",
        "  \n",
        "  model.add(Dropout(hp.Float(\"dropout_unit_one\", 0.1, 0.5, 0.1)))\n",
        "\n",
        "  for i in range(hp.Int(\"n_capas_dense\", 0, 3, 1)):\n",
        "    if i == 0:\n",
        "      pass\n",
        "    else:\n",
        "      model.add(Dense(hp.Int(f\"dense_units_{i}\", 32, 256, 32), \n",
        "                    activation='relu'))\n",
        "      model.add(Dropout(hp.Float(\"dropout_unit_three\", 0.1, 0.5, 0.1)))\n",
        "\n",
        "  model.add(Dense(1,activation='sigmoid'))\n",
        "\n",
        "  model.compile(loss ='binary_crossentropy',\n",
        "                optimizer='adam',\n",
        "                metrics=['accuracy'])\n",
        "  return model\n",
        "\n",
        "##################\n",
        "\n",
        "def BiLSTM_Two_Word2Vec_SKIP(hp):\n",
        "  model=Sequential()\n",
        "  \n",
        "  model.add(Embedding(tamanio_voc+1, \n",
        "                      embedding_vector_size, \n",
        "                      input_length=max_largo_oracion, \n",
        "                      weights = [embedding_matrix_skip]))\n",
        "\n",
        "  model.add(Bidirectional(LSTM(hp.Int(\"BiLSTM_units_one\", 32, 256, 32), \n",
        "                 recurrent_dropout=hp.Float(\"dropout_rec_unit_one\", 0.1, 0.5, 0.1),\n",
        "                 return_sequences=True\n",
        "                 )))\n",
        "\n",
        "  model.add(Dropout(hp.Float(\"dropout_unit_one\", 0.1, 0.5, 0.1)))\n",
        "\n",
        "  model.add(Bidirectional(LSTM(hp.Int(f\"BiLSTM_units\", 32, 256, 32),\n",
        "                   recurrent_dropout=hp.Float(f\"dropout_rec2_unit\", 0.1, 0.5, 0.1))))\n",
        "  model.add(Dropout(hp.Float(f\"dropout2_unit\", 0.1, 0.5, 0.1)))\n",
        "\n",
        "  for i in range(hp.Int(\"n_capas_dense\", 0, 3, 1)):\n",
        "    if i == 0:\n",
        "      pass\n",
        "    else:\n",
        "      model.add(Dense(hp.Int(f\"dense_units_{i}\", 32, 256, 32), \n",
        "                    activation='relu'))\n",
        "      model.add(Dropout(hp.Float(\"dropout_unit_three\", 0.1, 0.5, 0.1)))\n",
        "\n",
        "  model.add(Dense(1,activation='sigmoid'))\n",
        "\n",
        "  model.compile(loss ='binary_crossentropy',\n",
        "                optimizer='adam',\n",
        "                metrics=['accuracy'])\n",
        "  return model"
      ],
      "execution_count": null,
      "outputs": []
    },
    {
      "cell_type": "markdown",
      "metadata": {
        "id": "2xhjFrtnqDWz"
      },
      "source": [
        "## Modelo LSTM y BERT"
      ]
    },
    {
      "cell_type": "code",
      "metadata": {
        "colab": {
          "base_uri": "https://localhost:8080/"
        },
        "id": "c4DOmtW-1lQZ",
        "outputId": "b1d877f6-e730-4d14-a739-cc4569e046ed"
      },
      "source": [
        "!git clone --depth 1 -b v2.3.0 https://github.com/tensorflow/models.git"
      ],
      "execution_count": null,
      "outputs": [
        {
          "output_type": "stream",
          "text": [
            "fatal: destination path 'models' already exists and is not an empty directory.\n"
          ],
          "name": "stdout"
        }
      ]
    },
    {
      "cell_type": "code",
      "metadata": {
        "colab": {
          "base_uri": "https://localhost:8080/"
        },
        "id": "ETsj48lv1o5D",
        "outputId": "eb0cb935-511c-4965-f380-50611ba20ac1"
      },
      "source": [
        "!pip install -Uqr models/official/requirements.txt"
      ],
      "execution_count": null,
      "outputs": [
        {
          "output_type": "stream",
          "text": [
            "\u001b[K     |████████████████████████████████| 7.0MB 4.3MB/s \n",
            "\u001b[K     |████████████████████████████████| 194kB 39.4MB/s \n",
            "\u001b[K     |████████████████████████████████| 15.7MB 191kB/s \n",
            "\u001b[K     |████████████████████████████████| 9.9MB 19.9MB/s \n",
            "\u001b[K     |████████████████████████████████| 296kB 37.6MB/s \n",
            "\u001b[K     |████████████████████████████████| 102kB 12.9MB/s \n",
            "\u001b[K     |████████████████████████████████| 28.5MB 209kB/s \n",
            "\u001b[K     |████████████████████████████████| 215kB 40.8MB/s \n",
            "\u001b[K     |████████████████████████████████| 3.9MB 17.9MB/s \n",
            "\u001b[K     |████████████████████████████████| 686kB 39.3MB/s \n",
            "\u001b[K     |████████████████████████████████| 358kB 38.9MB/s \n",
            "\u001b[K     |████████████████████████████████| 1.2MB 31.8MB/s \n",
            "\u001b[K     |████████████████████████████████| 10.3MB 38.4MB/s \n",
            "\u001b[K     |████████████████████████████████| 38.2MB 95kB/s \n",
            "\u001b[K     |████████████████████████████████| 645kB 28.0MB/s \n",
            "\u001b[K     |████████████████████████████████| 3.0MB 34.9MB/s \n",
            "\u001b[K     |████████████████████████████████| 81kB 10.4MB/s \n",
            "\u001b[K     |████████████████████████████████| 51kB 7.6MB/s \n",
            "\u001b[?25h  Building wheel for py-cpuinfo (setup.py) ... \u001b[?25l\u001b[?25hdone\n",
            "\u001b[31mERROR: tensorflow 2.5.0 has requirement numpy~=1.19.2, but you'll have numpy 1.21.0 which is incompatible.\u001b[0m\n",
            "\u001b[31mERROR: tensorflow 2.5.0 has requirement six~=1.15.0, but you'll have six 1.16.0 which is incompatible.\u001b[0m\n",
            "\u001b[31mERROR: pandas-gbq 0.13.3 has requirement google-cloud-bigquery[bqstorage,pandas]<2.0.0dev,>=1.11.1, but you'll have google-cloud-bigquery 2.20.0 which is incompatible.\u001b[0m\n",
            "\u001b[31mERROR: google-colab 1.0.0 has requirement pandas~=1.1.0; python_version >= \"3.0\", but you'll have pandas 1.2.5 which is incompatible.\u001b[0m\n",
            "\u001b[31mERROR: google-colab 1.0.0 has requirement six~=1.15.0, but you'll have six 1.16.0 which is incompatible.\u001b[0m\n",
            "\u001b[31mERROR: google-cloud-storage 1.18.1 has requirement google-resumable-media<0.5.0dev,>=0.3.1, but you'll have google-resumable-media 1.3.1 which is incompatible.\u001b[0m\n",
            "\u001b[31mERROR: google-cloud-bigquery 2.20.0 has requirement google-api-core[grpc]<2.0.0dev,>=1.29.0, but you'll have google-api-core 1.26.3 which is incompatible.\u001b[0m\n",
            "\u001b[31mERROR: earthengine-api 0.1.269 has requirement google-api-python-client<2,>=1.12.1, but you'll have google-api-python-client 2.10.0 which is incompatible.\u001b[0m\n",
            "\u001b[31mERROR: datascience 0.10.6 has requirement folium==0.2.1, but you'll have folium 0.8.3 which is incompatible.\u001b[0m\n",
            "\u001b[31mERROR: albumentations 0.1.12 has requirement imgaug<0.2.7,>=0.2.5, but you'll have imgaug 0.2.9 which is incompatible.\u001b[0m\n"
          ],
          "name": "stdout"
        }
      ]
    },
    {
      "cell_type": "code",
      "metadata": {
        "colab": {
          "base_uri": "https://localhost:8080/",
          "height": 510
        },
        "id": "oFswhW2L1iWR",
        "outputId": "50212c3a-7d15-454d-b9dd-ac4aa7b9c3cb"
      },
      "source": [
        "import numpy as np\n",
        "import tensorflow as tf\n",
        "import tensorflow_hub as hub\n",
        "import sys\n",
        "sys.path.append('models')\n",
        "from official.nlp.data import classifier_data_lib\n",
        "from official.nlp.bert import tokenization\n",
        "from official.nlp import optimization"
      ],
      "execution_count": null,
      "outputs": [
        {
          "output_type": "error",
          "ename": "ModuleNotFoundError",
          "evalue": "ignored",
          "traceback": [
            "\u001b[0;31m---------------------------------------------------------------------------\u001b[0m",
            "\u001b[0;31mModuleNotFoundError\u001b[0m                       Traceback (most recent call last)",
            "\u001b[0;32m<ipython-input-50-21a8dc66e6b7>\u001b[0m in \u001b[0;36m<module>\u001b[0;34m()\u001b[0m\n\u001b[1;32m      4\u001b[0m \u001b[0;32mimport\u001b[0m \u001b[0msys\u001b[0m\u001b[0;34m\u001b[0m\u001b[0;34m\u001b[0m\u001b[0m\n\u001b[1;32m      5\u001b[0m \u001b[0msys\u001b[0m\u001b[0;34m.\u001b[0m\u001b[0mpath\u001b[0m\u001b[0;34m.\u001b[0m\u001b[0mappend\u001b[0m\u001b[0;34m(\u001b[0m\u001b[0;34m'models'\u001b[0m\u001b[0;34m)\u001b[0m\u001b[0;34m\u001b[0m\u001b[0;34m\u001b[0m\u001b[0m\n\u001b[0;32m----> 6\u001b[0;31m \u001b[0;32mfrom\u001b[0m \u001b[0mofficial\u001b[0m\u001b[0;34m.\u001b[0m\u001b[0mnlp\u001b[0m\u001b[0;34m.\u001b[0m\u001b[0mdata\u001b[0m \u001b[0;32mimport\u001b[0m \u001b[0mclassifier_data_lib\u001b[0m\u001b[0;34m\u001b[0m\u001b[0;34m\u001b[0m\u001b[0m\n\u001b[0m\u001b[1;32m      7\u001b[0m \u001b[0;32mfrom\u001b[0m \u001b[0mofficial\u001b[0m\u001b[0;34m.\u001b[0m\u001b[0mnlp\u001b[0m\u001b[0;34m.\u001b[0m\u001b[0mbert\u001b[0m \u001b[0;32mimport\u001b[0m \u001b[0mtokenization\u001b[0m\u001b[0;34m\u001b[0m\u001b[0;34m\u001b[0m\u001b[0m\n\u001b[1;32m      8\u001b[0m \u001b[0;32mfrom\u001b[0m \u001b[0mofficial\u001b[0m\u001b[0;34m.\u001b[0m\u001b[0mnlp\u001b[0m \u001b[0;32mimport\u001b[0m \u001b[0moptimization\u001b[0m\u001b[0;34m\u001b[0m\u001b[0;34m\u001b[0m\u001b[0m\n",
            "\u001b[0;32m/content/gdrive/My Drive/Tesis/models/official/nlp/data/classifier_data_lib.py\u001b[0m in \u001b[0;36m<module>\u001b[0;34m()\u001b[0m\n\u001b[1;32m     28\u001b[0m \u001b[0;32mimport\u001b[0m \u001b[0mtensorflow_datasets\u001b[0m \u001b[0;32mas\u001b[0m \u001b[0mtfds\u001b[0m\u001b[0;34m\u001b[0m\u001b[0;34m\u001b[0m\u001b[0m\n\u001b[1;32m     29\u001b[0m \u001b[0;34m\u001b[0m\u001b[0m\n\u001b[0;32m---> 30\u001b[0;31m \u001b[0;32mfrom\u001b[0m \u001b[0mofficial\u001b[0m\u001b[0;34m.\u001b[0m\u001b[0mnlp\u001b[0m\u001b[0;34m.\u001b[0m\u001b[0mbert\u001b[0m \u001b[0;32mimport\u001b[0m \u001b[0mtokenization\u001b[0m\u001b[0;34m\u001b[0m\u001b[0;34m\u001b[0m\u001b[0m\n\u001b[0m\u001b[1;32m     31\u001b[0m \u001b[0;34m\u001b[0m\u001b[0m\n\u001b[1;32m     32\u001b[0m \u001b[0;34m\u001b[0m\u001b[0m\n",
            "\u001b[0;32m/content/gdrive/My Drive/Tesis/models/official/nlp/bert/tokenization.py\u001b[0m in \u001b[0;36m<module>\u001b[0;34m()\u001b[0m\n\u001b[1;32m     31\u001b[0m \u001b[0;32mimport\u001b[0m \u001b[0mtensorflow\u001b[0m \u001b[0;32mas\u001b[0m \u001b[0mtf\u001b[0m\u001b[0;34m\u001b[0m\u001b[0;34m\u001b[0m\u001b[0m\n\u001b[1;32m     32\u001b[0m \u001b[0;34m\u001b[0m\u001b[0m\n\u001b[0;32m---> 33\u001b[0;31m \u001b[0;32mimport\u001b[0m \u001b[0msentencepiece\u001b[0m \u001b[0;32mas\u001b[0m \u001b[0mspm\u001b[0m\u001b[0;34m\u001b[0m\u001b[0;34m\u001b[0m\u001b[0m\n\u001b[0m\u001b[1;32m     34\u001b[0m \u001b[0;34m\u001b[0m\u001b[0m\n\u001b[1;32m     35\u001b[0m \u001b[0mSPIECE_UNDERLINE\u001b[0m \u001b[0;34m=\u001b[0m \u001b[0;34m\"▁\"\u001b[0m\u001b[0;34m\u001b[0m\u001b[0;34m\u001b[0m\u001b[0m\n",
            "\u001b[0;31mModuleNotFoundError\u001b[0m: No module named 'sentencepiece'",
            "",
            "\u001b[0;31m---------------------------------------------------------------------------\u001b[0;32m\nNOTE: If your import is failing due to a missing package, you can\nmanually install dependencies using either !pip or !apt.\n\nTo view examples of installing some common dependencies, click the\n\"Open Examples\" button below.\n\u001b[0;31m---------------------------------------------------------------------------\u001b[0m\n"
          ]
        }
      ]
    },
    {
      "cell_type": "code",
      "metadata": {
        "id": "pvL7YmPwzYYW"
      },
      "source": [
        "label_list = list(df_one_final.outcome.unique())\n",
        "max_seq_length = max_largo_oracion\n",
        "train_batch_size = 32\n",
        "\n",
        "# Get BERT layer and tokenizer:\n",
        "bert_layer = hub.KerasLayer(\"https://tfhub.dev/tensorflow/bert_en_uncased_L-12_H-768_A-12/2\",\n",
        "                            trainable=True)\n",
        "# Ahora instanciar el Tokenizador que realizara el preprocesamiento y tokenizacion de los datos.\n",
        "  # Requiere el vocabulario de BERT\n",
        "vocab_file = bert_layer.resolved_object.vocab_file.asset_path.numpy()\n",
        "\n",
        "# Asegurarnos que estamos usando la version uncased de BERT -> Cased o Uncased. -> Revisara el archivo almacenado en el Modelo. \n",
        "do_lower_case = bert_layer.resolved_object.do_lower_case.numpy()\n",
        "\n",
        "# Instanciamos el Tokenizador\n",
        "  # Le enviamos el vocabulario y si es un modelo Cased. \n",
        "tokenizer = tokenization.FullTokenizer(vocab_file, do_lower_case)"
      ],
      "execution_count": null,
      "outputs": []
    },
    {
      "cell_type": "code",
      "metadata": {
        "id": "fZ1CQwlczbFX"
      },
      "source": [
        "def to_feature(text, label, label_list=label_list, max_seq_length=max_seq_length, tokenizer=tokenizer):\n",
        "  example = classifier_data_lib.InputExample(guid = None,\n",
        "                                            text_a = text.numpy(), \n",
        "                                            text_b = None, \n",
        "                                            label = label.numpy())\n",
        "\n",
        "  feature = classifier_data_lib.convert_single_example(0, example, label_list,\n",
        "                                    max_seq_length, tokenizer)\n",
        "  \n",
        "  return (feature.input_ids, feature.input_mask, feature.segment_ids, feature.label_id)"
      ],
      "execution_count": null,
      "outputs": []
    },
    {
      "cell_type": "code",
      "metadata": {
        "id": "kt8gzEPBzgee"
      },
      "source": [
        "def to_feature_map(text, label):\n",
        "  input_ids, input_mask, segment_ids, label_id = tf.py_function(to_feature, inp=[text, label], \n",
        "                                Tout=[tf.int32, tf.int32, tf.int32, tf.int32])\n",
        "  input_ids.set_shape([max_seq_length])\n",
        "  input_mask.set_shape([max_seq_length])\n",
        "  segment_ids.set_shape([max_seq_length])\n",
        "  label_id.set_shape([]) \n",
        "\n",
        "  x = {\n",
        "        'input_word_ids': input_ids,\n",
        "        'input_mask': input_mask,\n",
        "        'input_type_ids': segment_ids\n",
        "    }\n",
        "  return (x, label_id)"
      ],
      "execution_count": null,
      "outputs": []
    },
    {
      "cell_type": "code",
      "metadata": {
        "id": "XENVxVZ1zrsf"
      },
      "source": [
        "def BERT_modelo(hp):\n",
        "  input_word_ids = tf.keras.layers.Input(shape=(max_seq_length,), dtype=tf.int32,\n",
        "                                      name=\"input_word_ids\")\n",
        "  input_mask = tf.keras.layers.Input(shape=(max_seq_length,), dtype=tf.int32,\n",
        "                                  name=\"input_mask\")\n",
        "  input_type_ids = tf.keras.layers.Input(shape=(max_seq_length,), dtype=tf.int32,\n",
        "                                  name=\"input_type_ids\")\n",
        "\n",
        "  pooled_output, sequence_output = bert_layer([input_word_ids, input_mask, input_type_ids])\n",
        "\n",
        "  drop = tf.keras.layers.Dropout(hp.Float(f\"dropout_unit\", 0.1, 0.5, 0.1))(pooled_output) \n",
        "\n",
        "  output = tf.keras.layers.Dense(1, activation=\"sigmoid\", name=\"output\")(drop)\n",
        "\n",
        "  model = tf.keras.Model(\n",
        "    inputs={\n",
        "        'input_word_ids': input_word_ids,\n",
        "        'input_mask': input_mask,\n",
        "        'input_type_ids': input_type_ids\n",
        "    },\n",
        "    outputs=output)\n",
        "  \n",
        "  model.compile(optimizer=tf.keras.optimizers.Adam(learning_rate=2e-5),\n",
        "              loss=tf.keras.losses.BinaryCrossentropy(),\n",
        "              metrics=[tf.keras.metrics.BinaryAccuracy()])\n",
        "  \n",
        "  return model"
      ],
      "execution_count": null,
      "outputs": []
    },
    {
      "cell_type": "markdown",
      "metadata": {
        "id": "2Ie1lEph2aCg"
      },
      "source": [
        "# Dividir Dataset"
      ]
    },
    {
      "cell_type": "code",
      "metadata": {
        "id": "-7IryXZAJXGc"
      },
      "source": [
        "y = np.array(df_one_final.outcome)\n",
        "X_train, X_test, y_train, y_test = train_test_split(X, y, test_size=0.2, random_state=42)"
      ],
      "execution_count": null,
      "outputs": []
    },
    {
      "cell_type": "markdown",
      "metadata": {
        "id": "AZlreaEqVMX_"
      },
      "source": [
        "### Desbalanceo del dataset\n",
        "\n",
        "Aplicaremos una combinación de tecnicas de Undersampling y Oversampling para poder tener reducir el desbalance del dataset.\n",
        "\n",
        "Undersampling -> Reduce el número de la clase mayoritaria al azar a la proporción deseada contra la clase minoritaria. \n",
        "\n",
        "OverSampling -> Duplicamos los datos que tienen la clase minoritaria o creamos nuevos ejemplos sinteticos. En el caso de un dataset de texto, no recomendable crear ejemplos."
      ]
    },
    {
      "cell_type": "code",
      "metadata": {
        "colab": {
          "base_uri": "https://localhost:8080/"
        },
        "id": "xdTQWZDHVKII",
        "outputId": "780faa10-a46a-4014-c91d-9985dda996e1"
      },
      "source": [
        "from imblearn.over_sampling import RandomOverSampler\n",
        "from imblearn.under_sampling import RandomUnderSampler\n",
        "from collections import Counter\n",
        "import warnings\n",
        "warnings.simplefilter(action='ignore', category=FutureWarning)\n",
        "\n",
        "over = RandomOverSampler(sampling_strategy=0.4)\n",
        "under = RandomUnderSampler(sampling_strategy=0.5)\n",
        "print(\"Antes de aplicar las tecnicas: \", Counter(y_train))\n",
        "X_train, y_train = over.fit_resample(X_train, y_train)\n",
        "print(\"Despues de aplicar Oversampling: \", Counter(y_train))\n",
        "X_train, y_train = under.fit_resample(X_train, y_train)\n",
        "print(\"Despues de aplicar Undersampling: \", Counter(y_train))"
      ],
      "execution_count": null,
      "outputs": [
        {
          "output_type": "stream",
          "text": [
            "Antes de aplicar las tecnicas:  Counter({1: 8611, 0: 2044})\n",
            "Despues de aplicar Oversampling:  Counter({1: 8611, 0: 3444})\n",
            "Despues de aplicar Undersampling:  Counter({1: 6888, 0: 3444})\n"
          ],
          "name": "stdout"
        },
        {
          "output_type": "stream",
          "text": [
            "/usr/local/lib/python3.7/dist-packages/sklearn/externals/six.py:31: FutureWarning: The module is deprecated in version 0.21 and will be removed in version 0.23 since we've dropped support for Python 2.7. Please rely on the official version of six (https://pypi.org/project/six/).\n",
            "  \"(https://pypi.org/project/six/).\", FutureWarning)\n",
            "/usr/local/lib/python3.7/dist-packages/sklearn/utils/deprecation.py:144: FutureWarning: The sklearn.neighbors.base module is  deprecated in version 0.22 and will be removed in version 0.24. The corresponding classes / functions should instead be imported from sklearn.neighbors. Anything that cannot be imported from sklearn.neighbors is now part of the private API.\n",
            "  warnings.warn(message, FutureWarning)\n"
          ],
          "name": "stderr"
        }
      ]
    },
    {
      "cell_type": "markdown",
      "metadata": {
        "id": "hVFzn1BBDdRZ"
      },
      "source": [
        "# Entrenar Modelos"
      ]
    },
    {
      "cell_type": "markdown",
      "metadata": {
        "id": "Nch9Drafawt6"
      },
      "source": [
        "Aplicamos el objeto Tuner de Keras para poder ver cuales son los mejores hiperparametros para nuesto modelo"
      ]
    },
    {
      "cell_type": "code",
      "metadata": {
        "colab": {
          "base_uri": "https://localhost:8080/"
        },
        "id": "CFsD9tZEWlZq",
        "outputId": "19a0c866-321f-4441-efdc-dc559e07fff6"
      },
      "source": [
        "tuner_lstm_cbow_one = RandomSearch(LSTM_One_Word2Vec_CBOW, \n",
        "                     objective = \"val_accuracy\",\n",
        "                     max_trials = 1,\n",
        "                     executions_per_trial = 1,\n",
        "                     directory = \"tuner_lstm_cbow_one\")\n",
        "tuner_lstm_cbow_one.search(x=X_train,\n",
        "             y=y_train,\n",
        "             epochs=5,\n",
        "             batch_size = 32,\n",
        "             validation_data = (X_test, y_test),\n",
        "             verbose=2)"
      ],
      "execution_count": null,
      "outputs": [
        {
          "output_type": "stream",
          "text": [
            "Trial 1 Complete [00h 05m 02s]\n",
            "val_accuracy: 0.912912905216217\n",
            "\n",
            "Best val_accuracy So Far: 0.912912905216217\n",
            "Total elapsed time: 00h 05m 02s\n",
            "INFO:tensorflow:Oracle triggered exit\n"
          ],
          "name": "stdout"
        }
      ]
    },
    {
      "cell_type": "code",
      "metadata": {
        "colab": {
          "base_uri": "https://localhost:8080/"
        },
        "id": "wBjQagYA2gfB",
        "outputId": "b21e6f7e-e421-4f3b-c8de-b4f2e578313d"
      },
      "source": [
        "tuner_lstm_cbow_dos = RandomSearch(LSTM_Two_Word2Vec_CBOW, \n",
        "                     objective = \"val_accuracy\",\n",
        "                     max_trials = 1,\n",
        "                     executions_per_trial = 1,\n",
        "                     directory = \"tuner_lstm_cbow_dos\")\n",
        "tuner_lstm_cbow_dos.search(x=X_train,\n",
        "             y=y_train,\n",
        "             epochs=5,\n",
        "             batch_size = 32,\n",
        "             validation_data = (X_test, y_test),\n",
        "             verbose=2)"
      ],
      "execution_count": null,
      "outputs": [
        {
          "output_type": "stream",
          "text": [
            "Trial 1 Complete [00h 09m 22s]\n",
            "val_accuracy: 0.912912905216217\n",
            "\n",
            "Best val_accuracy So Far: 0.912912905216217\n",
            "Total elapsed time: 00h 09m 22s\n",
            "INFO:tensorflow:Oracle triggered exit\n"
          ],
          "name": "stdout"
        }
      ]
    },
    {
      "cell_type": "code",
      "metadata": {
        "colab": {
          "base_uri": "https://localhost:8080/"
        },
        "id": "6A29NnqU5ZWP",
        "outputId": "7cacc7a9-7c16-4b65-d57e-e2130ce0adfa"
      },
      "source": [
        "tuner_lstm_skip_uno = RandomSearch(LSTM_One_Word2Vec_SKIP, \n",
        "                     objective = \"val_accuracy\",\n",
        "                     max_trials = 1,\n",
        "                     executions_per_trial = 1,\n",
        "                     directory = \"tuner_lstm_skip_uno\")\n",
        "tuner_lstm_skip_uno.search(x=X_train,\n",
        "             y=y_train,\n",
        "             epochs=5,\n",
        "             batch_size = 32,\n",
        "             validation_data = (X_test, y_test),\n",
        "             verbose=2)"
      ],
      "execution_count": null,
      "outputs": [
        {
          "output_type": "stream",
          "text": [
            "Trial 1 Complete [00h 05m 00s]\n",
            "val_accuracy: 0.9110360145568848\n",
            "\n",
            "Best val_accuracy So Far: 0.9110360145568848\n",
            "Total elapsed time: 00h 05m 00s\n",
            "INFO:tensorflow:Oracle triggered exit\n"
          ],
          "name": "stdout"
        }
      ]
    },
    {
      "cell_type": "code",
      "metadata": {
        "colab": {
          "base_uri": "https://localhost:8080/"
        },
        "id": "2Uvy6mZUwfzx",
        "outputId": "69b6ab34-81a8-462d-c5fc-5067197ab6c2"
      },
      "source": [
        "tuner_lstm_skip_dos = RandomSearch(LSTM_Two_Word2Vec_SKIP, \n",
        "                     objective = \"val_accuracy\",\n",
        "                     max_trials = 1,\n",
        "                     executions_per_trial = 1,\n",
        "                     directory = \"tuner_lstm_skip_dos\")\n",
        "tuner_lstm_skip_dos.search(x=X_train,\n",
        "             y=y_train,\n",
        "             epochs=5,\n",
        "             batch_size = 32,\n",
        "             validation_data = (X_test, y_test),\n",
        "             verbose=2)"
      ],
      "execution_count": null,
      "outputs": [
        {
          "output_type": "stream",
          "text": [
            "Trial 1 Complete [00h 09m 27s]\n",
            "val_accuracy: 0.9076576828956604\n",
            "\n",
            "Best val_accuracy So Far: 0.9076576828956604\n",
            "Total elapsed time: 00h 09m 27s\n",
            "INFO:tensorflow:Oracle triggered exit\n"
          ],
          "name": "stdout"
        }
      ]
    },
    {
      "cell_type": "code",
      "metadata": {
        "colab": {
          "base_uri": "https://localhost:8080/"
        },
        "id": "A5ho1PaB6AFC",
        "outputId": "17182937-b198-4805-efb6-888c090a020d"
      },
      "source": [
        "tuner_gru_cbow_uno = RandomSearch(GRU_One_Word2Vec_CBOW, \n",
        "                     objective = \"val_accuracy\",\n",
        "                     max_trials = 1,\n",
        "                     executions_per_trial = 1,\n",
        "                     directory = \"tuner_gru_cbow_uno\")\n",
        "tuner_gru_cbow_uno.search(x=X_train,\n",
        "             y=y_train,\n",
        "             epochs=5,\n",
        "             batch_size = 32,\n",
        "             validation_data = (X_test, y_test),\n",
        "             verbose=2)"
      ],
      "execution_count": null,
      "outputs": [
        {
          "output_type": "stream",
          "text": [
            "Trial 1 Complete [00h 04m 29s]\n",
            "val_accuracy: 0.9039039015769958\n",
            "\n",
            "Best val_accuracy So Far: 0.9039039015769958\n",
            "Total elapsed time: 00h 04m 29s\n",
            "INFO:tensorflow:Oracle triggered exit\n"
          ],
          "name": "stdout"
        }
      ]
    },
    {
      "cell_type": "code",
      "metadata": {
        "id": "BTIrUzkymTfA",
        "colab": {
          "base_uri": "https://localhost:8080/"
        },
        "outputId": "3ea9ca80-8d08-4e75-92f8-13bf52951316"
      },
      "source": [
        "tuner_gru_cbow_dos = RandomSearch(GRU_Two_Word2Vec_CBOW, \n",
        "                     objective = \"val_accuracy\",\n",
        "                     max_trials = 1,\n",
        "                     executions_per_trial = 1,\n",
        "                     directory = \"tuner_gru_cbow_dos\")\n",
        "tuner_gru_cbow_dos.search(x=X_train,\n",
        "             y=y_train,\n",
        "             epochs=5,\n",
        "             batch_size = 32,\n",
        "             validation_data = (X_test, y_test),\n",
        "             verbose=2)"
      ],
      "execution_count": null,
      "outputs": [
        {
          "output_type": "stream",
          "text": [
            "Trial 1 Complete [00h 09m 25s]\n",
            "val_accuracy: 0.9144144058227539\n",
            "\n",
            "Best val_accuracy So Far: 0.9144144058227539\n",
            "Total elapsed time: 00h 09m 25s\n",
            "INFO:tensorflow:Oracle triggered exit\n"
          ],
          "name": "stdout"
        }
      ]
    },
    {
      "cell_type": "code",
      "metadata": {
        "colab": {
          "base_uri": "https://localhost:8080/"
        },
        "id": "nkvXAW-q6T_p",
        "outputId": "650078f1-e795-4df0-9762-1464d89e3720"
      },
      "source": [
        "tuner_gru_skip_uno = RandomSearch(GRU_One_Word2Vec_SKIP, \n",
        "                     objective = \"val_accuracy\",\n",
        "                     max_trials = 1,\n",
        "                     executions_per_trial = 1,\n",
        "                     directory = \"tuner_gru_skip_uno\")\n",
        "tuner_gru_skip_uno.search(x=X_train,\n",
        "             y=y_train,\n",
        "             epochs=5,\n",
        "             batch_size = 32,\n",
        "             validation_data = (X_test, y_test),\n",
        "             verbose=2)"
      ],
      "execution_count": null,
      "outputs": [
        {
          "output_type": "stream",
          "text": [
            "Trial 1 Complete [00h 05m 24s]\n",
            "val_accuracy: 0.9166666865348816\n",
            "\n",
            "Best val_accuracy So Far: 0.9166666865348816\n",
            "Total elapsed time: 00h 05m 24s\n",
            "INFO:tensorflow:Oracle triggered exit\n"
          ],
          "name": "stdout"
        }
      ]
    },
    {
      "cell_type": "code",
      "metadata": {
        "id": "pgp3BUf8neK-",
        "colab": {
          "base_uri": "https://localhost:8080/"
        },
        "outputId": "65e6dc31-7846-43f9-ac01-3137c5183789"
      },
      "source": [
        "tuner_gru_skip_dos = RandomSearch(GRU_Two_Word2Vec_SKIP, \n",
        "                     objective = \"val_accuracy\",\n",
        "                     max_trials = 1,\n",
        "                     executions_per_trial = 1,\n",
        "                     directory = \"tuner_gru_skip_dos\")\n",
        "tuner_gru_skip_dos.search(x=X_train,\n",
        "             y=y_train,\n",
        "             epochs=5,\n",
        "             batch_size = 32,\n",
        "             validation_data = (X_test, y_test),\n",
        "             verbose=2)"
      ],
      "execution_count": null,
      "outputs": [
        {
          "output_type": "stream",
          "text": [
            "Trial 1 Complete [00h 09m 25s]\n",
            "val_accuracy: 0.9151651859283447\n",
            "\n",
            "Best val_accuracy So Far: 0.9151651859283447\n",
            "Total elapsed time: 00h 09m 25s\n",
            "INFO:tensorflow:Oracle triggered exit\n"
          ],
          "name": "stdout"
        }
      ]
    },
    {
      "cell_type": "markdown",
      "metadata": {
        "id": "bUhk8yiv5Za3"
      },
      "source": [
        "BiLSTM"
      ]
    },
    {
      "cell_type": "code",
      "metadata": {
        "colab": {
          "base_uri": "https://localhost:8080/"
        },
        "id": "ioTDc6ND5Yzm",
        "outputId": "8be42627-82dc-44ac-f183-d061683ae315"
      },
      "source": [
        "tuner_bilstm_cbow_uno = RandomSearch(BiLSTM_One_Word2Vec_CBOW, \n",
        "                     objective = \"val_accuracy\",\n",
        "                     max_trials = 1,\n",
        "                     executions_per_trial = 1,\n",
        "                     directory = \"tuner_bilstm_cbow_uno\")\n",
        "tuner_bilstm_cbow_uno.search(x=X_train,\n",
        "             y=y_train,\n",
        "             epochs=5,\n",
        "             batch_size = 32,\n",
        "             validation_data = (X_test, y_test),\n",
        "             verbose=2)\n",
        "\n",
        "#####\n",
        "tuner_bilstm_cbow_dos = RandomSearch(BiLSTM_Two_Word2Vec_CBOW, \n",
        "                     objective = \"val_accuracy\",\n",
        "                     max_trials = 1,\n",
        "                     executions_per_trial = 1,\n",
        "                     directory = \"tuner_bilstm_cbow_dos\")\n",
        "tuner_bilstm_cbow_dos.search(x=X_train,\n",
        "             y=y_train,\n",
        "             epochs=5,\n",
        "             batch_size = 32,\n",
        "             validation_data = (X_test, y_test),\n",
        "             verbose=2)\n",
        "\n",
        "####\n",
        "tuner_bilstm_skip_uno = RandomSearch(BiLSTM_One_Word2Vec_SKIP, \n",
        "                     objective = \"val_accuracy\",\n",
        "                     max_trials = 1,\n",
        "                     executions_per_trial = 1,\n",
        "                     directory = \"tuner_bilstm_skip_uno\")\n",
        "tuner_bilstm_skip_uno.search(x=X_train,\n",
        "             y=y_train,\n",
        "             epochs=5,\n",
        "             batch_size = 32,\n",
        "             validation_data = (X_test, y_test),\n",
        "             verbose=2)\n",
        "\n",
        "####\n",
        "tuner_bilstm_skip_dos = RandomSearch(BiLSTM_Two_Word2Vec_SKIP, \n",
        "                     objective = \"val_accuracy\",\n",
        "                     max_trials = 1,\n",
        "                     executions_per_trial = 1,\n",
        "                     directory = \"tuner_bilstm_skip_dos\")\n",
        "tuner_bilstm_skip_dos.search(x=X_train,\n",
        "             y=y_train,\n",
        "             epochs=5,\n",
        "             batch_size = 32,\n",
        "             validation_data = (X_test, y_test),\n",
        "             verbose=2)"
      ],
      "execution_count": null,
      "outputs": [
        {
          "output_type": "stream",
          "text": [
            "Trial 1 Complete [00h 18m 31s]\n",
            "val_accuracy: 0.9159159064292908\n",
            "\n",
            "Best val_accuracy So Far: 0.9159159064292908\n",
            "Total elapsed time: 00h 18m 31s\n",
            "INFO:tensorflow:Oracle triggered exit\n"
          ],
          "name": "stdout"
        }
      ]
    },
    {
      "cell_type": "code",
      "metadata": {
        "colab": {
          "base_uri": "https://localhost:8080/"
        },
        "id": "6_ujw-vt6Au3",
        "outputId": "6d72cbd7-6017-48ae-cd6a-e5074dd78f2a"
      },
      "source": [
        "print(tuner_bilstm_cbow_uno.get_best_hyperparameters()[0].values)\n",
        "print(tuner_bilstm_cbow_uno.results_summary())"
      ],
      "execution_count": null,
      "outputs": [
        {
          "output_type": "stream",
          "text": [
            "{'BiLSTM_units_one': 192, 'dropout_rec_unit_one': 0.4, 'dropout_unit_one': 0.30000000000000004, 'n_capas_dense': 1}\n",
            "Results summary\n",
            "Results in tuner_bilstm_cbow_uno/untitled_project\n",
            "Showing 10 best trials\n",
            "Objective(name='val_accuracy', direction='max')\n",
            "Trial summary\n",
            "Hyperparameters:\n",
            "BiLSTM_units_one: 192\n",
            "dropout_rec_unit_one: 0.4\n",
            "dropout_unit_one: 0.30000000000000004\n",
            "n_capas_dense: 1\n",
            "Score: 0.9162912964820862\n",
            "None\n"
          ],
          "name": "stdout"
        }
      ]
    },
    {
      "cell_type": "code",
      "metadata": {
        "colab": {
          "base_uri": "https://localhost:8080/"
        },
        "id": "ds4p86gQ6JoH",
        "outputId": "664835c7-dd2a-4faa-d5da-b35c9c741902"
      },
      "source": [
        "print(tuner_bilstm_cbow_dos.get_best_hyperparameters()[0].values)\n",
        "print(tuner_bilstm_cbow_dos.results_summary())"
      ],
      "execution_count": null,
      "outputs": [
        {
          "output_type": "stream",
          "text": [
            "{'BiLSTM_units_one': 160, 'dropout_rec_unit_one': 0.2, 'dropout_unit_one': 0.2, 'BiLSTM_units': 224, 'dropout_rec2_unit': 0.1, 'dropout2_unit': 0.1, 'n_capas_dense': 1}\n",
            "Results summary\n",
            "Results in tuner_bilstm_cbow_dos/untitled_project\n",
            "Showing 10 best trials\n",
            "Objective(name='val_accuracy', direction='max')\n",
            "Trial summary\n",
            "Hyperparameters:\n",
            "BiLSTM_units_one: 160\n",
            "dropout_rec_unit_one: 0.2\n",
            "dropout_unit_one: 0.2\n",
            "BiLSTM_units: 224\n",
            "dropout_rec2_unit: 0.1\n",
            "dropout2_unit: 0.1\n",
            "n_capas_dense: 1\n",
            "Score: 0.9181681871414185\n",
            "None\n"
          ],
          "name": "stdout"
        }
      ]
    },
    {
      "cell_type": "code",
      "metadata": {
        "colab": {
          "base_uri": "https://localhost:8080/"
        },
        "id": "dyWMiPa16K2m",
        "outputId": "3d03106a-c64e-4f9e-8a14-a9ac426566a3"
      },
      "source": [
        "print(tuner_bilstm_skip_uno.get_best_hyperparameters()[0].values)\n",
        "print(tuner_bilstm_skip_uno.results_summary())"
      ],
      "execution_count": null,
      "outputs": [
        {
          "output_type": "stream",
          "text": [
            "{'BiLSTM_units_one': 224, 'dropout_rec_unit_one': 0.2, 'dropout_unit_one': 0.4, 'n_capas_dense': 2, 'dense_units_1': 32, 'dropout_unit_three': 0.1}\n",
            "Results summary\n",
            "Results in tuner_bilstm_skip_uno/untitled_project\n",
            "Showing 10 best trials\n",
            "Objective(name='val_accuracy', direction='max')\n",
            "Trial summary\n",
            "Hyperparameters:\n",
            "BiLSTM_units_one: 224\n",
            "dropout_rec_unit_one: 0.2\n",
            "dropout_unit_one: 0.4\n",
            "n_capas_dense: 2\n",
            "dense_units_1: 32\n",
            "dropout_unit_three: 0.1\n",
            "Score: 0.907282292842865\n",
            "None\n"
          ],
          "name": "stdout"
        }
      ]
    },
    {
      "cell_type": "code",
      "metadata": {
        "colab": {
          "base_uri": "https://localhost:8080/"
        },
        "id": "RMWt8KTg6LTK",
        "outputId": "8bd27b1b-55f1-4308-ce9e-03f99c4d5a74"
      },
      "source": [
        "print(tuner_bilstm_skip_dos.get_best_hyperparameters()[0].values)\n",
        "print(tuner_bilstm_skip_dos.results_summary())"
      ],
      "execution_count": null,
      "outputs": [
        {
          "output_type": "stream",
          "text": [
            "{'BiLSTM_units_one': 96, 'dropout_rec_unit_one': 0.30000000000000004, 'dropout_unit_one': 0.4, 'BiLSTM_units': 128, 'dropout_rec2_unit': 0.30000000000000004, 'dropout2_unit': 0.5, 'n_capas_dense': 1}\n",
            "Results summary\n",
            "Results in tuner_bilstm_skip_dos/untitled_project\n",
            "Showing 10 best trials\n",
            "Objective(name='val_accuracy', direction='max')\n",
            "Trial summary\n",
            "Hyperparameters:\n",
            "BiLSTM_units_one: 96\n",
            "dropout_rec_unit_one: 0.30000000000000004\n",
            "dropout_unit_one: 0.4\n",
            "BiLSTM_units: 128\n",
            "dropout_rec2_unit: 0.30000000000000004\n",
            "dropout2_unit: 0.5\n",
            "n_capas_dense: 1\n",
            "Score: 0.9159159064292908\n",
            "None\n"
          ],
          "name": "stdout"
        }
      ]
    },
    {
      "cell_type": "code",
      "metadata": {
        "id": "gUWb3Ib0akgX",
        "colab": {
          "base_uri": "https://localhost:8080/"
        },
        "outputId": "0ef9fec5-3b62-479d-8c3a-76f545f31394"
      },
      "source": [
        " print(tuner_lstm_cbow_one.get_best_hyperparameters()[0].values)\n",
        " print(tuner_lstm_cbow_one.results_summary())"
      ],
      "execution_count": null,
      "outputs": [
        {
          "output_type": "stream",
          "text": [
            "{'LSTM_units_one': 128, 'dropout_rec_unit_one': 0.4, 'dropout_unit_one': 0.1, 'n_capas_dense': 3, 'dense_units_1': 32, 'dropout_unit_three': 0.1, 'dense_units_2': 32}\n",
            "Results summary\n",
            "Results in tuner_lstm_cbow_one/untitled_project\n",
            "Showing 10 best trials\n",
            "Objective(name='val_accuracy', direction='max')\n",
            "Trial summary\n",
            "Hyperparameters:\n",
            "LSTM_units_one: 128\n",
            "dropout_rec_unit_one: 0.4\n",
            "dropout_unit_one: 0.1\n",
            "n_capas_dense: 3\n",
            "dense_units_1: 32\n",
            "dropout_unit_three: 0.1\n",
            "dense_units_2: 32\n",
            "Score: 0.912912905216217\n",
            "None\n"
          ],
          "name": "stdout"
        }
      ]
    },
    {
      "cell_type": "code",
      "metadata": {
        "colab": {
          "base_uri": "https://localhost:8080/"
        },
        "id": "rYUCVO687U-F",
        "outputId": "678dd46e-a02f-403c-9354-ae2e83b6f18e"
      },
      "source": [
        " print(tuner_lstm_cbow_dos.get_best_hyperparameters()[0].values)\n",
        " print(tuner_lstm_cbow_dos.results_summary())"
      ],
      "execution_count": null,
      "outputs": [
        {
          "output_type": "stream",
          "text": [
            "{'LSTM_units_one': 96, 'dropout_rec_unit_one': 0.30000000000000004, 'dropout_unit_one': 0.4, 'LSTM2_units': 64, 'dropout_rec2_unit': 0.2, 'dropout2_unit': 0.2, 'n_capas_dense': 1}\n",
            "Results summary\n",
            "Results in tuner_lstm_cbow_dos/untitled_project\n",
            "Showing 10 best trials\n",
            "Objective(name='val_accuracy', direction='max')\n",
            "Trial summary\n",
            "Hyperparameters:\n",
            "LSTM_units_one: 96\n",
            "dropout_rec_unit_one: 0.30000000000000004\n",
            "dropout_unit_one: 0.4\n",
            "LSTM2_units: 64\n",
            "dropout_rec2_unit: 0.2\n",
            "dropout2_unit: 0.2\n",
            "n_capas_dense: 1\n",
            "Score: 0.912912905216217\n",
            "None\n"
          ],
          "name": "stdout"
        }
      ]
    },
    {
      "cell_type": "code",
      "metadata": {
        "id": "tSsMvGQAmGni",
        "colab": {
          "base_uri": "https://localhost:8080/"
        },
        "outputId": "1d5861d0-1722-4de7-a719-e060c9b0342a"
      },
      "source": [
        " print(tuner_lstm_skip_uno.get_best_hyperparameters()[0].values)\n",
        " print(tuner_lstm_skip_uno.results_summary())"
      ],
      "execution_count": null,
      "outputs": [
        {
          "output_type": "stream",
          "text": [
            "{'LSTM_units_one': 128, 'dropout_rec_unit_one': 0.2, 'dropout_unit_one': 0.4, 'n_capas_dense': 3, 'dense_units_1': 32, 'dropout_unit_three': 0.1, 'dense_units_2': 32}\n",
            "Results summary\n",
            "Results in tuner_lstm_skip_uno/untitled_project\n",
            "Showing 10 best trials\n",
            "Objective(name='val_accuracy', direction='max')\n",
            "Trial summary\n",
            "Hyperparameters:\n",
            "LSTM_units_one: 128\n",
            "dropout_rec_unit_one: 0.2\n",
            "dropout_unit_one: 0.4\n",
            "n_capas_dense: 3\n",
            "dense_units_1: 32\n",
            "dropout_unit_three: 0.1\n",
            "dense_units_2: 32\n",
            "Score: 0.9110360145568848\n",
            "None\n"
          ],
          "name": "stdout"
        }
      ]
    },
    {
      "cell_type": "code",
      "metadata": {
        "colab": {
          "base_uri": "https://localhost:8080/"
        },
        "id": "f12BctLC7dzE",
        "outputId": "5026fce7-81bf-4eb8-a3d8-8183f44529ab"
      },
      "source": [
        " print(tuner_lstm_skip_dos.get_best_hyperparameters()[0].values)\n",
        " print(tuner_lstm_skip_dos.results_summary())"
      ],
      "execution_count": null,
      "outputs": [
        {
          "output_type": "stream",
          "text": [
            "{'LSTM_units_one': 224, 'dropout_rec_unit_one': 0.1, 'dropout_unit_one': 0.2, 'LSTM2_units': 96, 'dropout_rec2_unit': 0.2, 'dropout2_unit': 0.2, 'n_capas_dense': 2, 'dense_units_1': 32, 'dropout_unit_three': 0.1}\n",
            "Results summary\n",
            "Results in tuner_lstm_skip_dos/untitled_project\n",
            "Showing 10 best trials\n",
            "Objective(name='val_accuracy', direction='max')\n",
            "Trial summary\n",
            "Hyperparameters:\n",
            "LSTM_units_one: 224\n",
            "dropout_rec_unit_one: 0.1\n",
            "dropout_unit_one: 0.2\n",
            "LSTM2_units: 96\n",
            "dropout_rec2_unit: 0.2\n",
            "dropout2_unit: 0.2\n",
            "n_capas_dense: 2\n",
            "dense_units_1: 32\n",
            "dropout_unit_three: 0.1\n",
            "Score: 0.9076576828956604\n",
            "None\n"
          ],
          "name": "stdout"
        }
      ]
    },
    {
      "cell_type": "code",
      "metadata": {
        "id": "mGV2lTp3n0sf",
        "colab": {
          "base_uri": "https://localhost:8080/"
        },
        "outputId": "449660e0-b5d3-4166-9c16-ba4fd6b2f4de"
      },
      "source": [
        "print(tuner_gru_cbow_uno.get_best_hyperparameters()[0].values)\n",
        "print(tuner_gru_cbow_uno.results_summary())"
      ],
      "execution_count": null,
      "outputs": [
        {
          "output_type": "stream",
          "text": [
            "{'GRU_units_one': 256, 'dropout_rec_unit_one': 0.2, 'dropout_unit_one': 0.4, 'n_capas_dense': 0}\n",
            "Results summary\n",
            "Results in tuner_gru_cbow_uno/untitled_project\n",
            "Showing 10 best trials\n",
            "Objective(name='val_accuracy', direction='max')\n",
            "Trial summary\n",
            "Hyperparameters:\n",
            "GRU_units_one: 256\n",
            "dropout_rec_unit_one: 0.2\n",
            "dropout_unit_one: 0.4\n",
            "n_capas_dense: 0\n",
            "Score: 0.9039039015769958\n",
            "None\n"
          ],
          "name": "stdout"
        }
      ]
    },
    {
      "cell_type": "code",
      "metadata": {
        "id": "ekNFYx7JoYEA",
        "colab": {
          "base_uri": "https://localhost:8080/"
        },
        "outputId": "4773ccdd-e806-40fa-dcf1-4dfd5969172f"
      },
      "source": [
        "print(tuner_gru_cbow_dos.get_best_hyperparameters()[0].values)\n",
        "print(tuner_gru_cbow_dos.results_summary())"
      ],
      "execution_count": null,
      "outputs": [
        {
          "output_type": "stream",
          "text": [
            "{'GRU_units_one': 32, 'dropout_rec_unit_one': 0.2, 'dropout_unit_one': 0.2, 'GRU2_units': 128, 'dropout_rec2_unit': 0.1, 'dropout2_unit': 0.30000000000000004, 'n_capas_dense': 3, 'dense_units_1': 32, 'dropout_unit_three': 0.1, 'dense_units_2': 32}\n",
            "Results summary\n",
            "Results in tuner_gru_cbow_dos/untitled_project\n",
            "Showing 10 best trials\n",
            "Objective(name='val_accuracy', direction='max')\n",
            "Trial summary\n",
            "Hyperparameters:\n",
            "GRU_units_one: 32\n",
            "dropout_rec_unit_one: 0.2\n",
            "dropout_unit_one: 0.2\n",
            "GRU2_units: 128\n",
            "dropout_rec2_unit: 0.1\n",
            "dropout2_unit: 0.30000000000000004\n",
            "n_capas_dense: 3\n",
            "dense_units_1: 32\n",
            "dropout_unit_three: 0.1\n",
            "dense_units_2: 32\n",
            "Score: 0.9144144058227539\n",
            "None\n"
          ],
          "name": "stdout"
        }
      ]
    },
    {
      "cell_type": "code",
      "metadata": {
        "colab": {
          "base_uri": "https://localhost:8080/"
        },
        "id": "p6otLSp67-zH",
        "outputId": "0a29c776-8fb0-4d73-d66b-095c3451f20c"
      },
      "source": [
        "print(tuner_gru_skip_uno.get_best_hyperparameters()[0].values)\n",
        "print(tuner_gru_skip_uno.results_summary())"
      ],
      "execution_count": null,
      "outputs": [
        {
          "output_type": "stream",
          "text": [
            "{'GRU_units_one': 64, 'dropout_rec_unit_one': 0.4, 'dropout_unit_one': 0.2, 'n_capas_dense': 3, 'dense_units_1': 32, 'dropout_unit_three': 0.1, 'dense_units_2': 32}\n",
            "Results summary\n",
            "Results in tuner_gru_skip_uno/untitled_project\n",
            "Showing 10 best trials\n",
            "Objective(name='val_accuracy', direction='max')\n",
            "Trial summary\n",
            "Hyperparameters:\n",
            "GRU_units_one: 64\n",
            "dropout_rec_unit_one: 0.4\n",
            "dropout_unit_one: 0.2\n",
            "n_capas_dense: 3\n",
            "dense_units_1: 32\n",
            "dropout_unit_three: 0.1\n",
            "dense_units_2: 32\n",
            "Score: 0.9166666865348816\n",
            "None\n"
          ],
          "name": "stdout"
        }
      ]
    },
    {
      "cell_type": "code",
      "metadata": {
        "colab": {
          "base_uri": "https://localhost:8080/"
        },
        "id": "iZULebHJ7tSV",
        "outputId": "df8962f5-4fe2-4a84-a58c-798aab26369a"
      },
      "source": [
        "print(tuner_gru_skip_dos.get_best_hyperparameters()[0].values)\n",
        "print(tuner_gru_skip_dos.results_summary())"
      ],
      "execution_count": null,
      "outputs": [
        {
          "output_type": "stream",
          "text": [
            "{'GRU_units_one': 224, 'dropout_rec_unit_one': 0.4, 'dropout_unit_one': 0.1, 'GRU2_units': 64, 'dropout_rec2_unit': 0.1, 'dropout2_unit': 0.4, 'n_capas_dense': 1}\n",
            "Results summary\n",
            "Results in tuner_gru_skip_dos/untitled_project\n",
            "Showing 10 best trials\n",
            "Objective(name='val_accuracy', direction='max')\n",
            "Trial summary\n",
            "Hyperparameters:\n",
            "GRU_units_one: 224\n",
            "dropout_rec_unit_one: 0.4\n",
            "dropout_unit_one: 0.1\n",
            "GRU2_units: 64\n",
            "dropout_rec2_unit: 0.1\n",
            "dropout2_unit: 0.4\n",
            "n_capas_dense: 1\n",
            "Score: 0.9151651859283447\n",
            "None\n"
          ],
          "name": "stdout"
        }
      ]
    },
    {
      "cell_type": "markdown",
      "metadata": {
        "id": "gNkDZv3131iL"
      },
      "source": [
        "Prueba BERT\n"
      ]
    },
    {
      "cell_type": "code",
      "metadata": {
        "id": "IYkv14_h30zP"
      },
      "source": [
        "train_df, valid_df = train_test_split(df_one_final, random_state=42, train_size=0.8, stratify=df_one_final.outcome.values)\n",
        "train_df.shape, valid_df.shape"
      ],
      "execution_count": null,
      "outputs": []
    },
    {
      "cell_type": "code",
      "metadata": {
        "id": "oDk2hhdC4s7s"
      },
      "source": [
        "with tf.device('/cpu:0'):\n",
        "  train_data = tf.data.Dataset.from_tensor_slices((train_df.headlines.values, train_df.outcome.values))\n",
        "  valid_data = tf.data.Dataset.from_tensor_slices((valid_df.headlines.values, valid_df.outcome.values))"
      ],
      "execution_count": null,
      "outputs": []
    },
    {
      "cell_type": "code",
      "metadata": {
        "id": "QvDqWlHw-3AN"
      },
      "source": [
        "with tf.device('/cpu:0'):\n",
        "  # train\n",
        "  train_data = (train_data.map(to_feature_map,\n",
        "                              num_parallel_calls=tf.data.experimental.AUTOTUNE)\n",
        "                          .shuffle(1000)\n",
        "                          .batch(32, drop_remainder=True)\n",
        "                          .prefetch(tf.data.experimental.AUTOTUNE))\n",
        "\n",
        "  valid_data = (valid_data.map(to_feature_map,\n",
        "                            num_parallel_calls=tf.data.experimental.AUTOTUNE)\n",
        "                          .batch(32, drop_remainder=True)\n",
        "                          .prefetch(tf.data.experimental.AUTOTUNE)) "
      ],
      "execution_count": null,
      "outputs": []
    },
    {
      "cell_type": "code",
      "metadata": {
        "id": "AKf7fpg84wl5"
      },
      "source": [
        "tuner_bert = RandomSearch(BERT_modelo, \n",
        "                     objective = \"val_accuracy\",\n",
        "                     max_trials = 1,\n",
        "                     executions_per_trial = 1,\n",
        "                     directory = \"tuner_bert\")\n",
        "tuner_bert.search(x=X_train,\n",
        "             y=y_train,\n",
        "             epochs=3,\n",
        "             batch_size = 32,\n",
        "             validation_data = (X_test, y_test),\n",
        "             verbose=2)"
      ],
      "execution_count": null,
      "outputs": []
    },
    {
      "cell_type": "code",
      "metadata": {
        "id": "zxEoG_YX5VTP"
      },
      "source": [
        "print(tuner_bert.get_best_hyperparameters()[0].values)\n",
        "print(tuner_bert.results_summary())"
      ],
      "execution_count": null,
      "outputs": []
    },
    {
      "cell_type": "markdown",
      "metadata": {
        "id": "oVNfSC5FyOfY"
      },
      "source": [
        "Seleccionamos los mejores modelos, que tuvieron el mejor accuracy y los almacenamos."
      ]
    },
    {
      "cell_type": "code",
      "metadata": {
        "colab": {
          "base_uri": "https://localhost:8080/"
        },
        "id": "Zl8IFVdBx5VH",
        "outputId": "d16ea6b2-c034-40be-c8ac-d36f126e8111"
      },
      "source": [
        "LSTM_UnaCapas_CBOW = tuner_lstm_cbow_one.get_best_models()[0]\n",
        "LSTM_DosCapas_CBOW = tuner_lstm_cbow_dos.get_best_models()[0]\n",
        "\n",
        "LSTM_UnaCapas_SKIP = tuner_lstm_skip_uno.get_best_models()[0]\n",
        "LSTM_DosCapas_SKIP = tuner_lstm_skip_dos.get_best_models()[0]\n",
        "\n",
        "GRU_UnaCapas_CBOW = tuner_gru_cbow_uno.get_best_models()[0]\n",
        "GRU_DosCapas_CBOW = tuner_gru_cbow_dos.get_best_models()[0]\n",
        "\n",
        "GRU_UnaCapas_SKIP = tuner_gru_skip_uno.get_best_models()[0]\n",
        "GRU_DosCapas_SKIP = tuner_gru_skip_dos.get_best_models()[0]\n",
        "\n",
        "BiLSTM_UnaCapas_CBOW = tuner_bilstm_cbow_uno.get_best_models()[0]\n",
        "BiLSTM_DosCapas_CBOW = tuner_bilstm_cbow_dos.get_best_models()[0]\n",
        "\n",
        "BiLSTM_UnaCapas_SKIP = tuner_bilstm_skip_uno.get_best_models()[0]\n",
        "BiLSTM_DosCapas_SKIP = tuner_bilstm_skip_dos.get_best_models()[0]"
      ],
      "execution_count": null,
      "outputs": [
        {
          "output_type": "stream",
          "text": [
            "WARNING:tensorflow:Layer lstm will not use cuDNN kernels since it doesn't meet the criteria. It will use a generic GPU kernel as fallback when running on GPU.\n",
            "WARNING:tensorflow:Layer lstm will not use cuDNN kernels since it doesn't meet the criteria. It will use a generic GPU kernel as fallback when running on GPU.\n",
            "WARNING:tensorflow:Layer lstm_1 will not use cuDNN kernels since it doesn't meet the criteria. It will use a generic GPU kernel as fallback when running on GPU.\n",
            "WARNING:tensorflow:Layer lstm will not use cuDNN kernels since it doesn't meet the criteria. It will use a generic GPU kernel as fallback when running on GPU.\n",
            "WARNING:tensorflow:Layer lstm will not use cuDNN kernels since it doesn't meet the criteria. It will use a generic GPU kernel as fallback when running on GPU.\n",
            "WARNING:tensorflow:Layer lstm_1 will not use cuDNN kernels since it doesn't meet the criteria. It will use a generic GPU kernel as fallback when running on GPU.\n",
            "WARNING:tensorflow:Layer gru will not use cuDNN kernels since it doesn't meet the criteria. It will use a generic GPU kernel as fallback when running on GPU.\n",
            "WARNING:tensorflow:Layer gru will not use cuDNN kernels since it doesn't meet the criteria. It will use a generic GPU kernel as fallback when running on GPU.\n",
            "WARNING:tensorflow:Layer gru_1 will not use cuDNN kernels since it doesn't meet the criteria. It will use a generic GPU kernel as fallback when running on GPU.\n",
            "WARNING:tensorflow:Layer gru will not use cuDNN kernels since it doesn't meet the criteria. It will use a generic GPU kernel as fallback when running on GPU.\n",
            "WARNING:tensorflow:Layer gru will not use cuDNN kernels since it doesn't meet the criteria. It will use a generic GPU kernel as fallback when running on GPU.\n",
            "WARNING:tensorflow:Layer gru_1 will not use cuDNN kernels since it doesn't meet the criteria. It will use a generic GPU kernel as fallback when running on GPU.\n",
            "WARNING:tensorflow:Layer lstm will not use cuDNN kernels since it doesn't meet the criteria. It will use a generic GPU kernel as fallback when running on GPU.\n",
            "WARNING:tensorflow:Layer lstm will not use cuDNN kernels since it doesn't meet the criteria. It will use a generic GPU kernel as fallback when running on GPU.\n",
            "WARNING:tensorflow:Layer lstm will not use cuDNN kernels since it doesn't meet the criteria. It will use a generic GPU kernel as fallback when running on GPU.\n",
            "WARNING:tensorflow:Layer lstm will not use cuDNN kernels since it doesn't meet the criteria. It will use a generic GPU kernel as fallback when running on GPU.\n",
            "WARNING:tensorflow:Layer lstm will not use cuDNN kernels since it doesn't meet the criteria. It will use a generic GPU kernel as fallback when running on GPU.\n",
            "WARNING:tensorflow:Layer lstm will not use cuDNN kernels since it doesn't meet the criteria. It will use a generic GPU kernel as fallback when running on GPU.\n",
            "WARNING:tensorflow:Layer lstm_1 will not use cuDNN kernels since it doesn't meet the criteria. It will use a generic GPU kernel as fallback when running on GPU.\n",
            "WARNING:tensorflow:Layer lstm_1 will not use cuDNN kernels since it doesn't meet the criteria. It will use a generic GPU kernel as fallback when running on GPU.\n",
            "WARNING:tensorflow:Layer lstm_1 will not use cuDNN kernels since it doesn't meet the criteria. It will use a generic GPU kernel as fallback when running on GPU.\n",
            "WARNING:tensorflow:Layer lstm will not use cuDNN kernels since it doesn't meet the criteria. It will use a generic GPU kernel as fallback when running on GPU.\n",
            "WARNING:tensorflow:Layer lstm will not use cuDNN kernels since it doesn't meet the criteria. It will use a generic GPU kernel as fallback when running on GPU.\n",
            "WARNING:tensorflow:Layer lstm will not use cuDNN kernels since it doesn't meet the criteria. It will use a generic GPU kernel as fallback when running on GPU.\n",
            "WARNING:tensorflow:Layer lstm will not use cuDNN kernels since it doesn't meet the criteria. It will use a generic GPU kernel as fallback when running on GPU.\n",
            "WARNING:tensorflow:Layer lstm will not use cuDNN kernels since it doesn't meet the criteria. It will use a generic GPU kernel as fallback when running on GPU.\n",
            "WARNING:tensorflow:Layer lstm will not use cuDNN kernels since it doesn't meet the criteria. It will use a generic GPU kernel as fallback when running on GPU.\n",
            "WARNING:tensorflow:Layer lstm_1 will not use cuDNN kernels since it doesn't meet the criteria. It will use a generic GPU kernel as fallback when running on GPU.\n",
            "WARNING:tensorflow:Layer lstm_1 will not use cuDNN kernels since it doesn't meet the criteria. It will use a generic GPU kernel as fallback when running on GPU.\n",
            "WARNING:tensorflow:Layer lstm_1 will not use cuDNN kernels since it doesn't meet the criteria. It will use a generic GPU kernel as fallback when running on GPU.\n"
          ],
          "name": "stdout"
        }
      ]
    },
    {
      "cell_type": "code",
      "metadata": {
        "id": "N_pQKZQjc-SF"
      },
      "source": [
        "BERT_modelo_final = tuner_bert.get_best_models()[0]"
      ],
      "execution_count": null,
      "outputs": []
    },
    {
      "cell_type": "code",
      "metadata": {
        "id": "7utva1FXi8oe"
      },
      "source": [
        ""
      ],
      "execution_count": null,
      "outputs": []
    },
    {
      "cell_type": "code",
      "metadata": {
        "id": "hFgBqIQsz37C"
      },
      "source": [
        "LSTM_UnaCapas_CBOW.save('LSTM_UnaCapas_CBOW.h5')\n",
        "LSTM_DosCapas_CBOW.save('LSTM_DosCapas_CBOW.h5')\n",
        "LSTM_UnaCapas_SKIP.save('LSTM_UnaCapas_SKIP.h5')\n",
        "LSTM_DosCapas_SKIP.save('LSTM_DosCapas_SKIP.h5')\n",
        "\n",
        "GRU_UnaCapas_CBOW.save('GRU_UnaCapas_CBOW.h5')\n",
        "GRU_DosCapas_CBOW.save('GRU_DosCapas_CBOW.h5')\n",
        "GRU_UnaCapas_SKIP.save('GRU_UnaCapas_SKIP.h5')\n",
        "GRU_DosCapas_SKIP.save('GRU_DosCapas_SKIP.h5')\n",
        "\n",
        "BiLSTM_UnaCapas_CBOW.save('BiLSTM_UnaCapas_CBOW.h5')\n",
        "BiLSTM_DosCapas_CBOW.save('BiLSTM_DosCapas_CBOW.h5')\n",
        "BiLSTM_UnaCapas_SKIP.save('BiLSTM_UnaCapas_SKIP.h5')\n",
        "BiLSTM_DosCapas_SKIP.save('BiLSTM_DosCapas_SKIP.h5')"
      ],
      "execution_count": null,
      "outputs": []
    },
    {
      "cell_type": "code",
      "metadata": {
        "id": "TJD-RqLsdB6Q"
      },
      "source": [
        "BERT_modelo_final.save('BERT_modelo_final.h5')"
      ],
      "execution_count": null,
      "outputs": []
    },
    {
      "cell_type": "code",
      "metadata": {
        "colab": {
          "base_uri": "https://localhost:8080/"
        },
        "id": "fbW-4D6Lm4PZ",
        "outputId": "73438a97-28d5-4a92-9e97-8623ad2b168a"
      },
      "source": [
        "BiLSTM_DosCapas_CBOW.summary()"
      ],
      "execution_count": null,
      "outputs": [
        {
          "output_type": "stream",
          "text": [
            "Model: \"sequential\"\n",
            "_________________________________________________________________\n",
            "Layer (type)                 Output Shape              Param #   \n",
            "=================================================================\n",
            "embedding (Embedding)        (None, 64, 100)           943900    \n",
            "_________________________________________________________________\n",
            "bidirectional (Bidirectional (None, 64, 320)           334080    \n",
            "_________________________________________________________________\n",
            "dropout (Dropout)            (None, 64, 320)           0         \n",
            "_________________________________________________________________\n",
            "bidirectional_1 (Bidirection (None, 448)               976640    \n",
            "_________________________________________________________________\n",
            "dropout_1 (Dropout)          (None, 448)               0         \n",
            "_________________________________________________________________\n",
            "dense (Dense)                (None, 1)                 449       \n",
            "=================================================================\n",
            "Total params: 2,255,069\n",
            "Trainable params: 2,255,069\n",
            "Non-trainable params: 0\n",
            "_________________________________________________________________\n"
          ],
          "name": "stdout"
        }
      ]
    },
    {
      "cell_type": "markdown",
      "metadata": {
        "id": "WehbgSLF03GW"
      },
      "source": [
        "Almacenamos los Tuners:"
      ]
    },
    {
      "cell_type": "code",
      "metadata": {
        "id": "lVKYsL8wZPzu"
      },
      "source": [
        "import pickle"
      ],
      "execution_count": null,
      "outputs": []
    },
    {
      "cell_type": "code",
      "metadata": {
        "id": "b1XTgsApaauo"
      },
      "source": [
        "with open()"
      ],
      "execution_count": null,
      "outputs": []
    },
    {
      "cell_type": "code",
      "metadata": {
        "colab": {
          "base_uri": "https://localhost:8080/"
        },
        "id": "5kgo07EXJhcB",
        "outputId": "fc53aaed-b918-45b6-92bf-7e24c8a29c5d"
      },
      "source": [
        "LSTM_Word2vec_cbow.fit(X_train,y_train,validation_data=(X_train,y_train),epochs=10,batch_size=64)"
      ],
      "execution_count": null,
      "outputs": [
        {
          "output_type": "stream",
          "text": [
            "Epoch 1/10\n",
            "162/162 [==============================] - 37s 210ms/step - loss: 0.3484 - accuracy: 0.8501 - val_loss: 0.1713 - val_accuracy: 0.9400\n",
            "Epoch 2/10\n",
            "162/162 [==============================] - 33s 207ms/step - loss: 0.1568 - accuracy: 0.9401 - val_loss: 0.1103 - val_accuracy: 0.9643\n",
            "Epoch 3/10\n",
            "162/162 [==============================] - 34s 208ms/step - loss: 0.1083 - accuracy: 0.9611 - val_loss: 0.0808 - val_accuracy: 0.9744\n",
            "Epoch 4/10\n",
            "162/162 [==============================] - 33s 205ms/step - loss: 0.0816 - accuracy: 0.9729 - val_loss: 0.0589 - val_accuracy: 0.9812\n",
            "Epoch 5/10\n",
            "162/162 [==============================] - 35s 214ms/step - loss: 0.0677 - accuracy: 0.9768 - val_loss: 0.0544 - val_accuracy: 0.9832\n",
            "Epoch 6/10\n",
            "162/162 [==============================] - 34s 208ms/step - loss: 0.0587 - accuracy: 0.9796 - val_loss: 0.0428 - val_accuracy: 0.9861\n",
            "Epoch 7/10\n",
            "162/162 [==============================] - 34s 208ms/step - loss: 0.0854 - accuracy: 0.9700 - val_loss: 0.0427 - val_accuracy: 0.9863\n",
            "Epoch 8/10\n",
            "162/162 [==============================] - 33s 206ms/step - loss: 0.0483 - accuracy: 0.9836 - val_loss: 0.0364 - val_accuracy: 0.9888\n",
            "Epoch 9/10\n",
            "162/162 [==============================] - 34s 209ms/step - loss: 0.0409 - accuracy: 0.9864 - val_loss: 0.0331 - val_accuracy: 0.9884\n",
            "Epoch 10/10\n",
            "162/162 [==============================] - 35s 217ms/step - loss: 0.0375 - accuracy: 0.9861 - val_loss: 0.0298 - val_accuracy: 0.9895\n"
          ],
          "name": "stdout"
        },
        {
          "output_type": "execute_result",
          "data": {
            "text/plain": [
              "<tensorflow.python.keras.callbacks.History at 0x7f2ba516a1d0>"
            ]
          },
          "metadata": {
            "tags": []
          },
          "execution_count": 81
        }
      ]
    },
    {
      "cell_type": "code",
      "metadata": {
        "colab": {
          "base_uri": "https://localhost:8080/"
        },
        "id": "YdwwYR6poWyh",
        "outputId": "dc59974f-2450-4250-d9e6-8ff2bcaa0ebc"
      },
      "source": [
        "LSTM_Word2vec_skip.fit(X_train,y_train,validation_data=(X_train,y_train),epochs=10,batch_size=64)"
      ],
      "execution_count": null,
      "outputs": [
        {
          "output_type": "stream",
          "text": [
            "Epoch 1/10\n",
            "162/162 [==============================] - 38s 218ms/step - loss: 0.3398 - accuracy: 0.8538 - val_loss: 0.1620 - val_accuracy: 0.9414\n",
            "Epoch 2/10\n",
            "162/162 [==============================] - 35s 217ms/step - loss: 0.1599 - accuracy: 0.9403 - val_loss: 0.1115 - val_accuracy: 0.9609\n",
            "Epoch 3/10\n",
            "162/162 [==============================] - 33s 206ms/step - loss: 0.1093 - accuracy: 0.9615 - val_loss: 0.0753 - val_accuracy: 0.9756\n",
            "Epoch 4/10\n",
            "162/162 [==============================] - 33s 205ms/step - loss: 0.0828 - accuracy: 0.9721 - val_loss: 0.0619 - val_accuracy: 0.9814\n",
            "Epoch 5/10\n",
            "162/162 [==============================] - 33s 206ms/step - loss: 0.0668 - accuracy: 0.9786 - val_loss: 0.0507 - val_accuracy: 0.9843\n",
            "Epoch 6/10\n",
            "162/162 [==============================] - 33s 206ms/step - loss: 0.0587 - accuracy: 0.9802 - val_loss: 0.0450 - val_accuracy: 0.9851\n",
            "Epoch 7/10\n",
            "162/162 [==============================] - 34s 211ms/step - loss: 0.0547 - accuracy: 0.9824 - val_loss: 0.0427 - val_accuracy: 0.9871\n",
            "Epoch 8/10\n",
            "162/162 [==============================] - 35s 215ms/step - loss: 0.0467 - accuracy: 0.9839 - val_loss: 0.0387 - val_accuracy: 0.9871\n",
            "Epoch 9/10\n",
            "162/162 [==============================] - 36s 222ms/step - loss: 0.0445 - accuracy: 0.9852 - val_loss: 0.0347 - val_accuracy: 0.9880\n",
            "Epoch 10/10\n",
            "162/162 [==============================] - 36s 225ms/step - loss: 0.0442 - accuracy: 0.9841 - val_loss: 0.0385 - val_accuracy: 0.9870\n"
          ],
          "name": "stdout"
        },
        {
          "output_type": "execute_result",
          "data": {
            "text/plain": [
              "<tensorflow.python.keras.callbacks.History at 0x7f2ba247b8d0>"
            ]
          },
          "metadata": {
            "tags": []
          },
          "execution_count": 82
        }
      ]
    },
    {
      "cell_type": "code",
      "metadata": {
        "id": "t3Ct2POFC7PI"
      },
      "source": [
        "y_pred_cbow = LSTM_Word2vec_cbow.predict(X_test)\n",
        "y_pred_skip = LSTM_Word2vec_skip.predict(X_test)\n",
        "\n",
        "\n",
        "_, prob_lstm =clasificar(LSTM_UnaCapas_CBOW)\n",
        "_, prob_gru_cbow = clasificar(GRU_DosCapas_CBOW)\n",
        "_, prob_gru_skip = clasificar(GRU_UnaCapas_SKIP)\n",
        "_, prob_bilstm = clasificar(BiLSTM_DosCapas_CBOW)"
      ],
      "execution_count": null,
      "outputs": []
    },
    {
      "cell_type": "markdown",
      "metadata": {
        "id": "-ebCPx_HRFR7"
      },
      "source": [
        "# Cargamos los Modelos\n",
        "\n",
        "En caso se guardaron"
      ]
    },
    {
      "cell_type": "code",
      "metadata": {
        "colab": {
          "base_uri": "https://localhost:8080/"
        },
        "id": "TB2Sp1AbREMd",
        "outputId": "791c9c08-736a-47d8-a143-8700072600b1"
      },
      "source": [
        "cargar_modelos = 1\n",
        "if cargar_modelos == 1:\n",
        "  LSTM_UnaCapas_CBOW = tf.keras.models.load_model('Modelos/LSTM_UnaCapas_CBOW.h5')\n",
        "  GRU_DosCapas_CBOW = tf.keras.models.load_model('Modelos/GRU_DosCapas_CBOW.h5')\n",
        "  GRU_UnaCapas_SKIP = tf.keras.models.load_model('Modelos/GRU_UnaCapas_SKIP.h5')\n",
        "  BiLSTM_DosCapas_CBOW = tf.keras.models.load_model('Modelos/BiLSTM_DosCapas_CBOW.h5')\n",
        "  LSTM_UnaCapas_CBOW = tf.keras.models.load_model('Modelos/LSTM_UnaCapas_CBOW.h5')"
      ],
      "execution_count": null,
      "outputs": [
        {
          "output_type": "stream",
          "text": [
            "WARNING:tensorflow:Layer lstm will not use cuDNN kernels since it doesn't meet the criteria. It will use a generic GPU kernel as fallback when running on GPU.\n",
            "WARNING:tensorflow:Error in loading the saved optimizer state. As a result, your model is starting with a freshly initialized optimizer.\n",
            "WARNING:tensorflow:Layer gru will not use cuDNN kernels since it doesn't meet the criteria. It will use a generic GPU kernel as fallback when running on GPU.\n",
            "WARNING:tensorflow:Layer gru_1 will not use cuDNN kernels since it doesn't meet the criteria. It will use a generic GPU kernel as fallback when running on GPU.\n",
            "WARNING:tensorflow:Error in loading the saved optimizer state. As a result, your model is starting with a freshly initialized optimizer.\n",
            "WARNING:tensorflow:Layer gru will not use cuDNN kernels since it doesn't meet the criteria. It will use a generic GPU kernel as fallback when running on GPU.\n",
            "WARNING:tensorflow:Error in loading the saved optimizer state. As a result, your model is starting with a freshly initialized optimizer.\n",
            "WARNING:tensorflow:Layer lstm will not use cuDNN kernels since it doesn't meet the criteria. It will use a generic GPU kernel as fallback when running on GPU.\n",
            "WARNING:tensorflow:Layer lstm will not use cuDNN kernels since it doesn't meet the criteria. It will use a generic GPU kernel as fallback when running on GPU.\n",
            "WARNING:tensorflow:Layer lstm will not use cuDNN kernels since it doesn't meet the criteria. It will use a generic GPU kernel as fallback when running on GPU.\n",
            "WARNING:tensorflow:Layer lstm_1 will not use cuDNN kernels since it doesn't meet the criteria. It will use a generic GPU kernel as fallback when running on GPU.\n",
            "WARNING:tensorflow:Layer lstm_1 will not use cuDNN kernels since it doesn't meet the criteria. It will use a generic GPU kernel as fallback when running on GPU.\n",
            "WARNING:tensorflow:Layer lstm_1 will not use cuDNN kernels since it doesn't meet the criteria. It will use a generic GPU kernel as fallback when running on GPU.\n",
            "WARNING:tensorflow:Error in loading the saved optimizer state. As a result, your model is starting with a freshly initialized optimizer.\n",
            "WARNING:tensorflow:Layer lstm will not use cuDNN kernels since it doesn't meet the criteria. It will use a generic GPU kernel as fallback when running on GPU.\n",
            "WARNING:tensorflow:Error in loading the saved optimizer state. As a result, your model is starting with a freshly initialized optimizer.\n"
          ],
          "name": "stdout"
        }
      ]
    },
    {
      "cell_type": "code",
      "metadata": {
        "colab": {
          "base_uri": "https://localhost:8080/"
        },
        "id": "CjXm7XKXhtgD",
        "outputId": "6b052509-84bc-4789-e356-75c9c0ebe451"
      },
      "source": [
        "modelo_BERT =  tf.keras.models.load_model('Modelos/ModeloBERT.h5',custom_objects={'KerasLayer':hub.KerasLayer})"
      ],
      "execution_count": null,
      "outputs": [
        {
          "output_type": "stream",
          "text": [
            "WARNING:tensorflow:Error in loading the saved optimizer state. As a result, your model is starting with a freshly initialized optimizer.\n"
          ],
          "name": "stdout"
        },
        {
          "output_type": "stream",
          "text": [
            "WARNING:tensorflow:Error in loading the saved optimizer state. As a result, your model is starting with a freshly initialized optimizer.\n"
          ],
          "name": "stderr"
        }
      ]
    },
    {
      "cell_type": "code",
      "metadata": {
        "id": "rRj4Bh_DSw5q"
      },
      "source": [
        "prob_BERT = pd.read_csv('prob_BERT.csv', sep=',',header=None)\n",
        "prob_BERT = prob_BERT.values"
      ],
      "execution_count": null,
      "outputs": []
    },
    {
      "cell_type": "code",
      "metadata": {
        "id": "LFuDdbIfc7ZF"
      },
      "source": [
        "def clasificar(modelo):\n",
        "  y_data = modelo.predict(X_test)\n",
        "  y_pred_final = []\n",
        "  y_pred_lista = []\n",
        "  for x in y_data:\n",
        "    for y in x:\n",
        "      y_pred_lista.append(y)\n",
        "      if y >= 0.5:\n",
        "        y_pred_final.append(1)\n",
        "      else:\n",
        "        y_pred_final.append(0)\n",
        "  return np.array(y_pred_final), np.array(y_pred_lista)"
      ],
      "execution_count": null,
      "outputs": []
    },
    {
      "cell_type": "code",
      "metadata": {
        "id": "PocD_Gd-dM3g"
      },
      "source": [
        "y_final_cbow, y_probs_cbow = clasificar(y_pred_cbow)\n",
        "y_final_skip, y_probs_skip = clasificar(y_pred_skip)"
      ],
      "execution_count": null,
      "outputs": []
    },
    {
      "cell_type": "markdown",
      "metadata": {
        "id": "kQKfWaN7eDwj"
      },
      "source": [
        "# Metricas de Clasificación"
      ]
    },
    {
      "cell_type": "markdown",
      "metadata": {
        "id": "g-7o7JOjL2hY"
      },
      "source": [
        "## Matriz de confusión"
      ]
    },
    {
      "cell_type": "code",
      "metadata": {
        "id": "aNEbEcfq-wSH"
      },
      "source": [
        "from sklearn.metrics import confusion_matrix, accuracy_score,recall_score,f1_score, precision_score\n",
        "import matplotlib.pyplot as plt\n",
        "import numpy as np\n",
        "import seaborn as sns\n",
        "\n",
        "def evaluar_modelo(modelo, nombre, matriz = False): \n",
        "    y_pred, _ = clasificar(modelo)\n",
        "    matrix = confusion_matrix(y_test, y_pred)\n",
        "    accuracy = accuracy_score(y_test, y_pred)\n",
        "    recall = recall_score(y_test, y_pred)\n",
        "    f1 = f1_score(y_test, y_pred)\n",
        "    precision = precision_score(y_test, y_pred)\n",
        "    \n",
        "    if matriz == True:\n",
        "      plt.figure(figsize=(10,5))\n",
        "      group_names = ['True Neg','False Pos','False Neg','True Pos']\n",
        "      group_counts = [\"{0:0.0f}\".format(value) for value in\n",
        "                      matrix.flatten()]\n",
        "      group_percentages = [\"{0:.2%}\".format(value) for value in\n",
        "                          matrix.flatten()/np.sum(matrix)]\n",
        "      labels = [f'{v1}\\n{v2}\\n{v3}' for v1, v2, v3 in\n",
        "                zip(group_names,group_counts,group_percentages)]\n",
        "      labels = np.asarray(labels).reshape(2,2)\n",
        "      ax = sns.heatmap(matrix, annot=labels, fmt='', cmap='Blues')\n",
        "      bottom, top = ax.get_ylim()\n",
        "      ax.set_ylim(bottom + 0.5, top - 0.5)\n",
        "      plt.title(nombre)\n",
        "      plt.show()\n",
        "\n",
        "    print(\"---> Nombre Modelo: \", nombre)\n",
        "    print(\"\\nAccuracy: \", accuracy)\n",
        "    print(\"\\nRecall: \", recall)\n",
        "    print(\"\\nF1-Score: \", f1)\n",
        "    print(\"\\nPrecision: \", precision)\n",
        "    print(\"\")"
      ],
      "execution_count": null,
      "outputs": []
    },
    {
      "cell_type": "code",
      "metadata": {
        "colab": {
          "base_uri": "https://localhost:8080/",
          "height": 1000
        },
        "id": "AMR8b6hTyQCT",
        "outputId": "7b6926c3-3df0-43b9-e3af-5bae304ff883"
      },
      "source": [
        "evaluar_modelo(LSTM_UnaCapas_CBOW, 'LSTM-UnaCapa-CBOW')\n",
        "evaluar_modelo(LSTM_DosCapas_CBOW, 'LSTM-DosCapa-CBOW')\n",
        "evaluar_modelo(LSTM_UnaCapas_SKIP, 'LSTM_UnaCapas_SKIP')\n",
        "evaluar_modelo(LSTM_DosCapas_SKIP, 'LSTM_DosCapas_SKIP')\n",
        "\n",
        "evaluar_modelo(GRU_UnaCapas_CBOW, 'GRU_UnaCapas_CBOW')\n",
        "evaluar_modelo(GRU_DosCapas_CBOW, 'GRU_DosCapas_CBOW')\n",
        "evaluar_modelo(GRU_UnaCapas_SKIP, 'GRU_UnaCapas_SKIP')\n",
        "evaluar_modelo(GRU_DosCapas_SKIP, 'GRU_DosCapas_SKIP')\n",
        "\n",
        "evaluar_modelo(BiLSTM_UnaCapas_CBOW, 'BiLSTM_UnaCapas_CBOW')\n",
        "evaluar_modelo(BiLSTM_DosCapas_CBOW, 'BiLSTM_DosCapas_CBOW')\n",
        "evaluar_modelo(BiLSTM_UnaCapas_SKIP, 'BiLSTM_UnaCapas_SKIP')\n",
        "evaluar_modelo(BiLSTM_DosCapas_SKIP, 'BiLSTM_DosCapas_SKIP')"
      ],
      "execution_count": null,
      "outputs": [
        {
          "output_type": "stream",
          "text": [
            "---> Nombre Modelo:  LSTM-UnaCapa-CBOW\n",
            "\n",
            "Accuracy:  0.9129129129129129\n",
            "\n",
            "Recall:  0.9470777726645191\n",
            "\n",
            "F1-Score:  0.9466421343146274\n",
            "\n",
            "Precision:  0.9462068965517242\n",
            "\n",
            "---> Nombre Modelo:  LSTM-DosCapa-CBOW\n",
            "\n",
            "Accuracy:  0.9129129129129129\n",
            "\n",
            "Recall:  0.9295904279797514\n",
            "\n",
            "F1-Score:  0.9456928838951311\n",
            "\n",
            "Precision:  0.9623630300142926\n",
            "\n",
            "---> Nombre Modelo:  LSTM_UnaCapas_SKIP\n",
            "\n",
            "Accuracy:  0.911036036036036\n",
            "\n",
            "Recall:  0.931891394385642\n",
            "\n",
            "F1-Score:  0.9447165850244926\n",
            "\n",
            "Precision:  0.9578997161778618\n",
            "\n",
            "---> Nombre Modelo:  LSTM_DosCapas_SKIP\n",
            "\n",
            "Accuracy:  0.9076576576576577\n",
            "\n",
            "Recall:  0.9309710078232858\n",
            "\n",
            "F1-Score:  0.9426840633737185\n",
            "\n",
            "Precision:  0.9546956111373289\n",
            "\n",
            "---> Nombre Modelo:  GRU_UnaCapas_CBOW\n",
            "\n",
            "Accuracy:  0.9039039039039038\n",
            "\n",
            "Recall:  0.9217671421997239\n",
            "\n",
            "F1-Score:  0.9399343031440639\n",
            "\n",
            "Precision:  0.9588319770224988\n",
            "\n",
            "---> Nombre Modelo:  GRU_DosCapas_CBOW\n",
            "\n",
            "Accuracy:  0.9144144144144144\n",
            "\n",
            "Recall:  0.9447768062586286\n",
            "\n",
            "F1-Score:  0.9473927088140286\n",
            "\n",
            "Precision:  0.950023137436372\n",
            "\n",
            "---> Nombre Modelo:  GRU_UnaCapas_SKIP\n",
            "\n",
            "Accuracy:  0.9166666666666666\n",
            "\n",
            "Recall:  0.9387942936033133\n",
            "\n",
            "F1-Score:  0.9483960948396094\n",
            "\n",
            "Precision:  0.9581963363081258\n",
            "\n",
            "---> Nombre Modelo:  GRU_DosCapas_SKIP\n",
            "\n",
            "Accuracy:  0.9151651651651652\n",
            "\n",
            "Recall:  0.9351127473538886\n",
            "\n",
            "F1-Score:  0.9473193473193473\n",
            "\n",
            "Precision:  0.9598488427019367\n",
            "\n",
            "---> Nombre Modelo:  BiLSTM_UnaCapas_CBOW\n",
            "\n",
            "Accuracy:  0.9162912912912913\n",
            "\n",
            "Recall:  0.936493327197423\n",
            "\n",
            "F1-Score:  0.9480549732122059\n",
            "\n",
            "Precision:  0.9599056603773585\n",
            "\n",
            "---> Nombre Modelo:  BiLSTM_DosCapas_CBOW\n",
            "\n",
            "Accuracy:  0.9181681681681682\n",
            "\n",
            "Recall:  0.9387942936033133\n",
            "\n",
            "F1-Score:  0.9492787342950209\n",
            "\n",
            "Precision:  0.96\n",
            "\n",
            "---> Nombre Modelo:  BiLSTM_UnaCapas_SKIP\n",
            "\n",
            "Accuracy:  0.9072822822822822\n",
            "\n",
            "Recall:  0.9185457892314772\n",
            "\n",
            "F1-Score:  0.9417315404576552\n",
            "\n",
            "Precision:  0.9661181026137464\n",
            "\n",
            "---> Nombre Modelo:  BiLSTM_DosCapas_SKIP\n",
            "\n",
            "Accuracy:  0.9159159159159159\n",
            "\n",
            "Recall:  0.9383341003221353\n",
            "\n",
            "F1-Score:  0.9479311947931195\n",
            "\n",
            "Precision:  0.9577266322217003\n",
            "\n"
          ],
          "name": "stdout"
        },
        {
          "output_type": "display_data",
          "data": {
            "text/plain": [
              "<Figure size 720x360 with 0 Axes>"
            ]
          },
          "metadata": {
            "tags": []
          }
        },
        {
          "output_type": "display_data",
          "data": {
            "text/plain": [
              "<Figure size 720x360 with 0 Axes>"
            ]
          },
          "metadata": {
            "tags": []
          }
        },
        {
          "output_type": "display_data",
          "data": {
            "text/plain": [
              "<Figure size 720x360 with 0 Axes>"
            ]
          },
          "metadata": {
            "tags": []
          }
        },
        {
          "output_type": "display_data",
          "data": {
            "text/plain": [
              "<Figure size 720x360 with 0 Axes>"
            ]
          },
          "metadata": {
            "tags": []
          }
        },
        {
          "output_type": "display_data",
          "data": {
            "text/plain": [
              "<Figure size 720x360 with 0 Axes>"
            ]
          },
          "metadata": {
            "tags": []
          }
        },
        {
          "output_type": "display_data",
          "data": {
            "text/plain": [
              "<Figure size 720x360 with 0 Axes>"
            ]
          },
          "metadata": {
            "tags": []
          }
        },
        {
          "output_type": "display_data",
          "data": {
            "text/plain": [
              "<Figure size 720x360 with 0 Axes>"
            ]
          },
          "metadata": {
            "tags": []
          }
        },
        {
          "output_type": "display_data",
          "data": {
            "text/plain": [
              "<Figure size 720x360 with 0 Axes>"
            ]
          },
          "metadata": {
            "tags": []
          }
        },
        {
          "output_type": "display_data",
          "data": {
            "text/plain": [
              "<Figure size 720x360 with 0 Axes>"
            ]
          },
          "metadata": {
            "tags": []
          }
        },
        {
          "output_type": "display_data",
          "data": {
            "text/plain": [
              "<Figure size 720x360 with 0 Axes>"
            ]
          },
          "metadata": {
            "tags": []
          }
        },
        {
          "output_type": "display_data",
          "data": {
            "text/plain": [
              "<Figure size 720x360 with 0 Axes>"
            ]
          },
          "metadata": {
            "tags": []
          }
        },
        {
          "output_type": "display_data",
          "data": {
            "text/plain": [
              "<Figure size 720x360 with 0 Axes>"
            ]
          },
          "metadata": {
            "tags": []
          }
        }
      ]
    },
    {
      "cell_type": "code",
      "metadata": {
        "colab": {
          "base_uri": "https://localhost:8080/",
          "height": 370
        },
        "id": "y-JZvwRPLMOW",
        "outputId": "1d679471-2419-47b7-9910-1fb165360d9f"
      },
      "source": [
        "evaluar_modelo(y_final_cbow, 'LSTM - Word2vec (CBOW)')"
      ],
      "execution_count": null,
      "outputs": [
        {
          "output_type": "display_data",
          "data": {
            "image/png": "[encoded data removed]",
            "text/plain": [
              "<Figure size 720x360 with 2 Axes>"
            ]
          },
          "metadata": {
            "tags": []
          }
        },
        {
          "output_type": "stream",
          "text": [
            "\n",
            "Accuracy:  0.8817567567567568\n"
          ],
          "name": "stdout"
        }
      ]
    },
    {
      "cell_type": "code",
      "metadata": {
        "colab": {
          "base_uri": "https://localhost:8080/",
          "height": 370
        },
        "id": "x3K8OXz2esjB",
        "outputId": "02a179ad-f69a-4e71-ff60-85044c637acd"
      },
      "source": [
        "evaluar_modelo(y_final_skip, 'LSTM - Word2vec (Skip-gram)')"
      ],
      "execution_count": null,
      "outputs": [
        {
          "output_type": "display_data",
          "data": {
            "image/png": "[encoded data removed]",
            "text/plain": [
              "<Figure size 720x360 with 2 Axes>"
            ]
          },
          "metadata": {
            "tags": []
          }
        },
        {
          "output_type": "stream",
          "text": [
            "\n",
            "Accuracy:  0.8855105105105106\n"
          ],
          "name": "stdout"
        }
      ]
    },
    {
      "cell_type": "markdown",
      "metadata": {
        "id": "A7Y0nFGnL6db"
      },
      "source": [
        "## Recall:"
      ]
    },
    {
      "cell_type": "code",
      "metadata": {
        "colab": {
          "base_uri": "https://localhost:8080/"
        },
        "id": "kpcE8EzSLsMW",
        "outputId": "bdd0d872-a4ec-443f-d909-5412b0abe167"
      },
      "source": [
        "from sklearn.metrics import recall_score\n",
        "recall_score(y_test, y_final_cbow, average='macro')"
      ],
      "execution_count": null,
      "outputs": [
        {
          "output_type": "execute_result",
          "data": {
            "text/plain": [
              "0.8296656269802734"
            ]
          },
          "metadata": {
            "tags": []
          },
          "execution_count": 152
        }
      ]
    },
    {
      "cell_type": "code",
      "metadata": {
        "colab": {
          "base_uri": "https://localhost:8080/"
        },
        "id": "eMd8U1rnfWfu",
        "outputId": "4e4e79d5-a852-4463-9baa-2f1684a7b1ef"
      },
      "source": [
        "recall_score(y_test, y_final_skip, average='macro')"
      ],
      "execution_count": null,
      "outputs": [
        {
          "output_type": "execute_result",
          "data": {
            "text/plain": [
              "0.8312292714239864"
            ]
          },
          "metadata": {
            "tags": []
          },
          "execution_count": 153
        }
      ]
    },
    {
      "cell_type": "markdown",
      "metadata": {
        "id": "0R6uf6UDMl8i"
      },
      "source": [
        "## ROC Curve:"
      ]
    },
    {
      "cell_type": "code",
      "metadata": {
        "id": "5NSqzF_Fs59W"
      },
      "source": [
        "redes_bert_fpr = pd.read_csv('redes_bert_fpr.csv', sep=',',header=None)\n",
        "redes_bert_tpr = pd.read_csv('redes_bert_tpr.csv', sep=',',header=None)\n",
        "bert_auc = pd.read_csv('bert_auc.csv', sep=',',header=None)\n",
        "\n",
        "redes_bert_fpr = redes_bert_fpr.values\n",
        "redes_bert_tpr = redes_bert_tpr.values\n",
        "\n",
        "bert_auc = bert_auc.values[0][0]"
      ],
      "execution_count": null,
      "outputs": []
    },
    {
      "cell_type": "code",
      "metadata": {
        "id": "jpe__SM5IeZo"
      },
      "source": [
        "_, prob_lstm =clasificar(LSTM_UnaCapas_CBOW)\n",
        "_, prob_gru_cbow = clasificar(GRU_DosCapas_CBOW)\n",
        "_, prob_gru_skip = clasificar(GRU_UnaCapas_SKIP)\n",
        "_, prob_bilstm = clasificar(BiLSTM_DosCapas_CBOW)"
      ],
      "execution_count": null,
      "outputs": []
    },
    {
      "cell_type": "code",
      "metadata": {
        "colab": {
          "base_uri": "https://localhost:8080/"
        },
        "id": "gSZt-UXRMG7L",
        "outputId": "6f543fd3-54cd-4746-bec2-5e6d472ee3eb"
      },
      "source": [
        "# y_pred\n",
        "from sklearn.metrics import roc_curve, roc_auc_score\n",
        "r_probs = [0 for _ in range(len(y_test))]\n",
        "redes_lstm = prob_lstm\n",
        "redes_gru_cbow = prob_gru_cbow\n",
        "redes_gru_skip = prob_gru_skip\n",
        "redes_bilstm = prob_bilstm\n",
        "#redes_probs = redes_probs#[:, 1]\n",
        "\n",
        "r_auc = roc_auc_score(y_test, r_probs)\n",
        "lstm_auc = roc_auc_score(y_test, redes_lstm)\n",
        "gru_cbow_auc = roc_auc_score(y_test, redes_gru_cbow)\n",
        "gru_skip_auc = roc_auc_score(y_test, redes_gru_skip)\n",
        "bilstm_auc = roc_auc_score(y_test, redes_bilstm)\n",
        "\n",
        "\n",
        "print('Predicción aleatoria: AUROC = %.3f' % (r_auc))\n",
        "print('Modelo Red Neuronal LSTM Word2vec CBOW: AUROC = %.3f' % (lstm_auc))\n",
        "print('Modelo Red Neuronal GRU Word2vec CBOW: AUROC = %.3f' % (gru_cbow_auc))\n",
        "print('Modelo Red Neuronal GRU Word2vec SKIP: AUROC = %.3f' % (gru_skip_auc))\n",
        "print('Modelo Red Neuronal BiLSTM Word2vec CBOW: AUROC = %.3f' % (bilstm_auc))\n",
        "print('Modelo Red Neuronal BERT: AUROC = %.3f' % (bert_auc))"
      ],
      "execution_count": null,
      "outputs": [
        {
          "output_type": "stream",
          "text": [
            "Predicción aleatoria: AUROC = 0.500\n",
            "Modelo Red Neuronal LSTM Word2vec CBOW: AUROC = 0.982\n",
            "Modelo Red Neuronal GRU Word2vec CBOW: AUROC = 0.979\n",
            "Modelo Red Neuronal GRU Word2vec SKIP: AUROC = 0.980\n",
            "Modelo Red Neuronal BiLSTM Word2vec CBOW: AUROC = 0.981\n",
            "Modelo Red Neuronal BERT: AUROC = 0.995\n"
          ],
          "name": "stdout"
        }
      ]
    },
    {
      "cell_type": "code",
      "metadata": {
        "colab": {
          "base_uri": "https://localhost:8080/",
          "height": 458
        },
        "id": "3gylndDQNlwy",
        "outputId": "61325c36-2e89-4f88-8847-b5276d2ec55b"
      },
      "source": [
        "r_fpr, r_tpr, _ = roc_curve(y_test, r_probs)\n",
        "redes_lstm_fpr, redes_lstm_tpr, _ = roc_curve(y_test, redes_lstm)\n",
        "redes_gru_cbow_fpr, redes_gru_cbow_tpr, _ = roc_curve(y_test, redes_gru_cbow)\n",
        "redes_gru_skip_fpr, redes_gru_skip_tpr, _ = roc_curve(y_test, redes_gru_skip)\n",
        "redes_bilstm_fpr, redes_bilstm_tpr, _ = roc_curve(y_test, redes_bilstm)\n",
        "#redes_bert_fpr, redes_bert_tpr, _ = roc_curve(y_test, redes_BERT)\n",
        "\n",
        "plt.figure(figsize=(12,7))\n",
        "plt.plot(r_fpr, r_tpr, linestyle='--', label='Random prediction (AUROC = %0.3f)' % r_auc)\n",
        "plt.plot(redes_lstm_fpr, redes_lstm_tpr, marker='.', label='Modelo Red Neuronal LSTM Word2vec CBOW: AUROC = %.3f' % lstm_auc)\n",
        "plt.plot(redes_gru_cbow_fpr, redes_gru_cbow_tpr, marker='.', label='Modelo Red Neuronal GRU Word2vec CBOW: AUROC = %.3f' % gru_cbow_auc)\n",
        "plt.plot(redes_gru_skip_fpr, redes_gru_skip_tpr, marker='.', label='Modelo Red Neuronal GRU Word2vec SKIP: AUROC = %.3f' % gru_skip_auc)\n",
        "plt.plot(redes_bilstm_fpr, redes_bilstm_tpr, marker='.', label='Modelo Red Neuronal BiLSTM Word2vec CBOW: AUROC = %.3f' % bilstm_auc)\n",
        "plt.plot(redes_bert_fpr, redes_bert_tpr, marker='.', label='Modelo Red Neuronal BERT: AUROC = %.3f' % bert_auc)\n",
        "plt.title('ROC Plot')\n",
        "plt.xlabel('False Positive Rate')\n",
        "plt.ylabel('True Positive Rate')\n",
        "plt.legend()\n",
        "plt.show()"
      ],
      "execution_count": null,
      "outputs": [
        {
          "output_type": "display_data",
          "data": {
            "image/png": "[encoded data removed]",
            "text/plain": [
              "<Figure size 864x504 with 1 Axes>"
            ]
          },
          "metadata": {
            "tags": [],
            "needs_background": "light"
          }
        }
      ]
    },
    {
      "cell_type": "code",
      "metadata": {
        "id": "eOo_BogFhbgU"
      },
      "source": [
        ""
      ],
      "execution_count": null,
      "outputs": []
    }
  ]
}