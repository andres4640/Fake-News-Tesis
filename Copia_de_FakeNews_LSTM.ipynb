{
  "nbformat": 4,
  "nbformat_minor": 0,
  "metadata": {
    "colab": {
      "name": "Copia de FakeNews_LSTM.ipynb",
      "provenance": [],
      "collapsed_sections": [],
      "authorship_tag": "ABX9TyPdE7aQIHMkMqWC3wcfsyK5",
      "include_colab_link": true
    },
    "kernelspec": {
      "name": "python3",
      "display_name": "Python 3"
    },
    "language_info": {
      "name": "python"
    }
  },
  "cells": [
    {
      "cell_type": "markdown",
      "metadata": {
        "id": "view-in-github",
        "colab_type": "text"
      },
      "source": [
        "<a href=\"https://colab.research.google.com/github/andres4640/Fake-News-Tesis/blob/main/Copia_de_FakeNews_LSTM.ipynb\" target=\"_parent\"><img src=\"https://colab.research.google.com/assets/colab-badge.svg\" alt=\"Open In Colab\"/></a>"
      ]
    },
    {
      "cell_type": "markdown",
      "metadata": {
        "id": "RIPOUw4rMQte"
      },
      "source": [
        "# Fake News\n",
        "\n",
        "El dataset \"COVID Fake News Data.csv\" fue extraido de la siguiente dirección: https://zenodo.org/record/4282522#.YJ6FtsCg9Pa\n",
        "\n",
        "El dataset \"fake_new_dataset.xlsx\" se obtuvo de la siguiente dirección: https://data.mendeley.com/datasets/zwfdmp5syg/1\n",
        "\n",
        "Ambos datasets cuentan con columnas que indican si el texto es falso o verdadero. En el caso del primer dataset, la columna \"outcome\" representa la veracidad del texto y en el segundo dataset, la columna \"label\". En ambas columnas, el valor \"0\" representa veracidad y \"1\" falsedad."
      ]
    },
    {
      "cell_type": "code",
      "metadata": {
        "id": "1OVCjwHdMLkR"
      },
      "source": [
        "import pandas as pd\n",
        "import numpy as np"
      ],
      "execution_count": 1,
      "outputs": []
    },
    {
      "cell_type": "code",
      "metadata": {
        "id": "IM4y5AN4VC4J",
        "colab": {
          "base_uri": "https://localhost:8080/"
        },
        "outputId": "d957160d-b760-4067-f276-8f43bd6ce644"
      },
      "source": [
        "from google.colab import drive\n",
        "\n",
        "drive.mount('/content/gdrive')"
      ],
      "execution_count": 2,
      "outputs": [
        {
          "output_type": "stream",
          "text": [
            "Mounted at /content/gdrive\n"
          ],
          "name": "stdout"
        }
      ]
    },
    {
      "cell_type": "code",
      "metadata": {
        "id": "GznZRODSHMi5"
      },
      "source": [
        "import os\n",
        "os.chdir('/content/gdrive/MyDrive/Tesis/')"
      ],
      "execution_count": 3,
      "outputs": []
    },
    {
      "cell_type": "code",
      "metadata": {
        "id": "Zt0zD7dtVqCK"
      },
      "source": [
        "df_one = pd.read_csv(\"Datasets/COVID Fake News Data.csv\")\n",
        "df_two = pd.read_excel(\"Datasets/fake_new_dataset.xlsx\", index_col = None)"
      ],
      "execution_count": 4,
      "outputs": []
    },
    {
      "cell_type": "markdown",
      "metadata": {
        "id": "Fw0X5SQl4PJl"
      },
      "source": [
        "Limpiar los caracteres que no son ASCII:"
      ]
    },
    {
      "cell_type": "code",
      "metadata": {
        "id": "9RRI1_wEEfaN",
        "colab": {
          "base_uri": "https://localhost:8080/"
        },
        "outputId": "821b3d5f-2157-4dc3-8c20-4c5225eb4b30"
      },
      "source": [
        "df_one.outcome.value_counts()"
      ],
      "execution_count": 5,
      "outputs": [
        {
          "output_type": "execute_result",
          "data": {
            "text/plain": [
              "0    9727\n",
              "1     474\n",
              "Name: outcome, dtype: int64"
            ]
          },
          "metadata": {
            "tags": []
          },
          "execution_count": 5
        }
      ]
    },
    {
      "cell_type": "code",
      "metadata": {
        "id": "izlw0snKEkgk",
        "colab": {
          "base_uri": "https://localhost:8080/"
        },
        "outputId": "03197709-3bee-46e5-9ff9-ee0116a146a5"
      },
      "source": [
        "df_two.label.value_counts()"
      ],
      "execution_count": 6,
      "outputs": [
        {
          "output_type": "execute_result",
          "data": {
            "text/plain": [
              "1    2061\n",
              "0    1058\n",
              "Name: label, dtype: int64"
            ]
          },
          "metadata": {
            "tags": []
          },
          "execution_count": 6
        }
      ]
    },
    {
      "cell_type": "code",
      "metadata": {
        "id": "ibzIrzpY39Xj"
      },
      "source": [
        "from string import printable\n",
        "\n",
        "df_one.headlines = df_one.headlines.apply(lambda y: ''.join(filter(lambda x: \n",
        "            x in printable, y)))"
      ],
      "execution_count": 7,
      "outputs": []
    },
    {
      "cell_type": "code",
      "metadata": {
        "colab": {
          "base_uri": "https://localhost:8080/"
        },
        "id": "S6fxUcdR4AKn",
        "outputId": "ebe6c78c-67cc-4ec9-d8b5-5939691b8706"
      },
      "source": [
        "df_one.outcome.replace({0: 1, 1: 0}, inplace=True)\n",
        "df_one.outcome.value_counts()"
      ],
      "execution_count": 8,
      "outputs": [
        {
          "output_type": "execute_result",
          "data": {
            "text/plain": [
              "1    9727\n",
              "0     474\n",
              "Name: outcome, dtype: int64"
            ]
          },
          "metadata": {
            "tags": []
          },
          "execution_count": 8
        }
      ]
    },
    {
      "cell_type": "code",
      "metadata": {
        "colab": {
          "base_uri": "https://localhost:8080/"
        },
        "id": "-Vl7rNO1MmrT",
        "outputId": "9b484ae2-92e0-402a-b59f-2f36e077dc2b"
      },
      "source": [
        "df_two.label.replace({0: 1, 1: 0}, inplace=True)\n",
        "df_two.label.value_counts()"
      ],
      "execution_count": 9,
      "outputs": [
        {
          "output_type": "execute_result",
          "data": {
            "text/plain": [
              "0    2061\n",
              "1    1058\n",
              "Name: label, dtype: int64"
            ]
          },
          "metadata": {
            "tags": []
          },
          "execution_count": 9
        }
      ]
    },
    {
      "cell_type": "markdown",
      "metadata": {
        "id": "mSTRQu6uONvm"
      },
      "source": [
        "En el segundo dataset modificamos el nombre de las columnas para poder concatenarlo con el primer dataset"
      ]
    },
    {
      "cell_type": "code",
      "metadata": {
        "id": "eouH979KN3ab"
      },
      "source": [
        "df_two.rename(columns={\"title\": \"headlines\", \"label\": \"outcome\"}, inplace=True)"
      ],
      "execution_count": 10,
      "outputs": []
    },
    {
      "cell_type": "markdown",
      "metadata": {
        "id": "s7xm2hSDOWiD"
      },
      "source": [
        "Concatenamos el dataset"
      ]
    },
    {
      "cell_type": "code",
      "metadata": {
        "id": "eiCnRJ2yNWzJ"
      },
      "source": [
        "df_one_final = pd.concat([df_one, df_two[[\"headlines\", \"outcome\"]]], ignore_index=True)"
      ],
      "execution_count": 11,
      "outputs": []
    },
    {
      "cell_type": "markdown",
      "metadata": {
        "id": "3EwGQMaCP4Qv"
      },
      "source": [
        "Podemos ver la diferencia de numero de datos entre ambas clases, hay una mayor cantidad de textos clasificados como falsos. Esto representa un desbalance de clases."
      ]
    },
    {
      "cell_type": "code",
      "metadata": {
        "colab": {
          "base_uri": "https://localhost:8080/"
        },
        "id": "SeB1IY2FNbRf",
        "outputId": "b6969ebd-3ba2-4612-97e8-d03da1ca5de3"
      },
      "source": [
        "df_one_final.outcome.value_counts()"
      ],
      "execution_count": 12,
      "outputs": [
        {
          "output_type": "execute_result",
          "data": {
            "text/plain": [
              "1    10785\n",
              "0     2535\n",
              "Name: outcome, dtype: int64"
            ]
          },
          "metadata": {
            "tags": []
          },
          "execution_count": 12
        }
      ]
    },
    {
      "cell_type": "markdown",
      "metadata": {
        "id": "kgPaAmjjF2fn"
      },
      "source": [
        "Podemos ver que existe un dato que tiene valor nulo en la columna \"headlines\". Eliminaremos este dato, no afectara al entrenamiento debido a su numero reducido."
      ]
    },
    {
      "cell_type": "code",
      "metadata": {
        "colab": {
          "base_uri": "https://localhost:8080/"
        },
        "id": "463d2wKSHg6z",
        "outputId": "33590041-5225-4b64-98d6-f76f91da2b37"
      },
      "source": [
        "df_one_final.isna().sum()"
      ],
      "execution_count": 13,
      "outputs": [
        {
          "output_type": "execute_result",
          "data": {
            "text/plain": [
              "headlines    1\n",
              "outcome      0\n",
              "dtype: int64"
            ]
          },
          "metadata": {
            "tags": []
          },
          "execution_count": 13
        }
      ]
    },
    {
      "cell_type": "code",
      "metadata": {
        "id": "K15G6mWV4e-F"
      },
      "source": [
        "df_one_final.dropna(inplace=True)\n",
        "df_one_final.reset_index(drop=True, inplace=True)"
      ],
      "execution_count": 14,
      "outputs": []
    },
    {
      "cell_type": "markdown",
      "metadata": {
        "id": "NRsP6HXZGKzR"
      },
      "source": [
        "Analizamos cuantas palabras tienen como maximo, minimo y promedio las oraciones que se usaran para entrenar el modelo."
      ]
    },
    {
      "cell_type": "code",
      "metadata": {
        "colab": {
          "base_uri": "https://localhost:8080/"
        },
        "id": "4GpeA_jhNF-S",
        "outputId": "1147c677-aa87-4522-d3fc-5634d0d6c500"
      },
      "source": [
        "# Maximo largo de una palabra antes del reproceso\n",
        "print(\"Largo oracion Maximo \",df_one_final.headlines.str.len().max())\n",
        "print(\"Largo oracion Minimo: \",df_one_final.headlines.str.len().min())\n",
        "print(\"Largo oracion Promedio: \",df_one_final.headlines.str.len().mean())"
      ],
      "execution_count": 15,
      "outputs": [
        {
          "output_type": "stream",
          "text": [
            "Largo oracion Maximo  673\n",
            "Largo oracion Minimo:  6\n",
            "Largo oracion Promedio:  93.10751557924769\n"
          ],
          "name": "stdout"
        }
      ]
    },
    {
      "cell_type": "markdown",
      "metadata": {
        "id": "GHC6jWxGIOSW"
      },
      "source": [
        "## Preprocesamiento de textos"
      ]
    },
    {
      "cell_type": "markdown",
      "metadata": {
        "id": "ZtT2sRQ-G9ZW"
      },
      "source": [
        "Vemos el tamaño del dataset es de 13319 datos:"
      ]
    },
    {
      "cell_type": "code",
      "metadata": {
        "colab": {
          "base_uri": "https://localhost:8080/"
        },
        "id": "EtssGoSKOnmQ",
        "outputId": "3f93b536-bb62-4933-ffbc-da2ef8a0a042"
      },
      "source": [
        "len(df_one_final)"
      ],
      "execution_count": 16,
      "outputs": [
        {
          "output_type": "execute_result",
          "data": {
            "text/plain": [
              "13319"
            ]
          },
          "metadata": {
            "tags": []
          },
          "execution_count": 16
        }
      ]
    },
    {
      "cell_type": "markdown",
      "metadata": {
        "id": "SHrVKF9kGwRq"
      },
      "source": [
        "Importamos la libreria NLTK que nos permitira aplicar tecnicas de procesamiento de lenguaje natural (NLP) en los textos:"
      ]
    },
    {
      "cell_type": "code",
      "metadata": {
        "colab": {
          "base_uri": "https://localhost:8080/"
        },
        "id": "36cttWByONcf",
        "outputId": "a20c465c-c5dc-4366-d5e9-a6454bbf45b9"
      },
      "source": [
        "import re\n",
        "import nltk\n",
        "nltk.download(\"stopwords\")\n",
        "\n",
        "from nltk.corpus import stopwords\n",
        "from nltk.stem.porter import PorterStemmer"
      ],
      "execution_count": 17,
      "outputs": [
        {
          "output_type": "stream",
          "text": [
            "[nltk_data] Downloading package stopwords to /root/nltk_data...\n",
            "[nltk_data]   Unzipping corpora/stopwords.zip.\n"
          ],
          "name": "stdout"
        }
      ]
    },
    {
      "cell_type": "markdown",
      "metadata": {
        "id": "YIGubUcGG722"
      },
      "source": [
        "Aplicaremos tecnicas de pre procesamiento de textos como convertir palabras a minuscula, eliminar espacios y caracteres innecesarios, y aplicar la técnica Stemming. Como resultado obtendremos el cuerpo de los textos pre procesados para entrenar los modelos."
      ]
    },
    {
      "cell_type": "code",
      "metadata": {
        "id": "CiBjWWD6OPjj"
      },
      "source": [
        "corpus = []\n",
        "lista_palabras = []\n",
        "for i in range(len(df_one_final)):\n",
        "  # Reemplazamos caracteres innecesarios como puntos y comas:\n",
        "  #texto = re.sub(\"[^a-zA-Z-á-é-í-ó-ú]\", \" \", df_one_final[\"headlines\"][i])\n",
        "  texto = re.sub(\"[^a-zA-Z]\", \" \", df_one_final[\"headlines\"][i])\n",
        "\n",
        "  # Eliminamos espacios extras\n",
        "  texto = re.sub(r\"\\s+\",\" \", texto, flags = re.I)\n",
        "\n",
        "  # Convertimos el texto a minuscula:\n",
        "  texto = texto.lower()\n",
        "\n",
        "  # Dividimos el texto en palabras individuales:\n",
        "  texto = texto.split()\n",
        "\n",
        "  # Declaramos el objeto Stemming:\n",
        "  stemmer = PorterStemmer()\n",
        "\n",
        "  # Excluimos los Stop Words de los textos:\n",
        "  lista_stopwords = stopwords.words(\"english\")\n",
        "  \n",
        "  # Aplicamos Stemming y omitimos los Stop words:\n",
        "  texto = [stemmer.stem(palabra) for palabra in texto if not palabra in set(lista_stopwords)]\n",
        "\n",
        "  lista_palabras.append(texto)\n",
        "  \n",
        "  # Unimos las palabras, separados por un espacio:\n",
        "  texto= \" \".join(texto)\n",
        "\n",
        "  # Añadimos el texto al corpus\n",
        "  corpus.append(texto)"
      ],
      "execution_count": 18,
      "outputs": []
    },
    {
      "cell_type": "markdown",
      "metadata": {
        "id": "yAPQYzBk9FyT"
      },
      "source": [
        "Creamos una funcioón para conocer el numero de palabras en el corpus:"
      ]
    },
    {
      "cell_type": "code",
      "metadata": {
        "id": "HFB7eHuJ9E8M"
      },
      "source": [
        "def num_palabras(corp):\n",
        "  palabras_unicas = []\n",
        "  lista_palabras = []\n",
        "  for lista in corpus:\n",
        "    lista_palabras = lista.split()\n",
        "    for palabra in lista_palabras:\n",
        "      if palabra not in palabras_unicas:\n",
        "        palabras_unicas.append(palabra)\n",
        "  return len(palabras_unicas)"
      ],
      "execution_count": 19,
      "outputs": []
    },
    {
      "cell_type": "code",
      "metadata": {
        "id": "R_sQDWBz9oNM"
      },
      "source": [
        "tamanio_voc = num_palabras(corpus)"
      ],
      "execution_count": 20,
      "outputs": []
    },
    {
      "cell_type": "markdown",
      "metadata": {
        "id": "ZeQHsRRo7EDt"
      },
      "source": [
        "## Desarrollo del Modelo"
      ]
    },
    {
      "cell_type": "code",
      "metadata": {
        "id": "G_r7G1Tg6xtC"
      },
      "source": [
        "from tensorflow.keras.layers import Embedding\n",
        "from tensorflow.keras.preprocessing.sequence import pad_sequences\n",
        "from tensorflow.keras.models import Sequential\n",
        "from tensorflow.keras.preprocessing.text import one_hot\n",
        "from tensorflow.keras.layers import LSTM\n",
        "from tensorflow.keras.layers import Dense\n",
        "from sklearn.model_selection import train_test_split\n",
        "from tensorflow.keras.preprocessing.text import Tokenizer\n",
        "import tensorflow as tf"
      ],
      "execution_count": 22,
      "outputs": []
    },
    {
      "cell_type": "markdown",
      "metadata": {
        "id": "bl5xWmah7hvk"
      },
      "source": [
        "### Word2Vec\n",
        "\n",
        "Descargamos el modelo pre entrenado Word2Vec, el cual se entreno con un corpus de Google News de aproximadamente 3 billones de palabras. Estas se encuentran representado como vectores de 300 dimensiones."
      ]
    },
    {
      "cell_type": "code",
      "metadata": {
        "colab": {
          "base_uri": "https://localhost:8080/"
        },
        "id": "1Lh3lf28Y19B",
        "outputId": "28fe0f27-a8a5-4fc1-99cc-b2cfc00c5ff4"
      },
      "source": [
        "pip install gensim"
      ],
      "execution_count": 23,
      "outputs": [
        {
          "output_type": "stream",
          "text": [
            "Requirement already satisfied: gensim in /usr/local/lib/python3.7/dist-packages (3.6.0)\n",
            "Requirement already satisfied: six>=1.5.0 in /usr/local/lib/python3.7/dist-packages (from gensim) (1.15.0)\n",
            "Requirement already satisfied: smart-open>=1.2.1 in /usr/local/lib/python3.7/dist-packages (from gensim) (5.0.0)\n",
            "Requirement already satisfied: scipy>=0.18.1 in /usr/local/lib/python3.7/dist-packages (from gensim) (1.4.1)\n",
            "Requirement already satisfied: numpy>=1.11.3 in /usr/local/lib/python3.7/dist-packages (from gensim) (1.19.5)\n"
          ],
          "name": "stdout"
        }
      ]
    },
    {
      "cell_type": "code",
      "metadata": {
        "id": "GrjPHWjqFzsJ"
      },
      "source": [
        "from tensorflow.keras.utils import get_file\n",
        "modelo_pre_entrenado = 0\n",
        "if modelo_pre_entrenado == 1:\n",
        "  path = get_file('GoogleNews-vectors-negative300.bin.gz', \n",
        "  origin='https://s3.amazonaws.com/dl4j-distribution/GoogleNews-vectors-negative300.bin.gz')\n",
        "  print(path)"
      ],
      "execution_count": 24,
      "outputs": []
    },
    {
      "cell_type": "code",
      "metadata": {
        "id": "i1hGn4ZZ7g6s"
      },
      "source": [
        "from gensim.models import word2vec\n",
        "# Modelo word2vec usando la arquitectura CBOW:\n",
        "model_word2vec_cbow = word2vec.Word2Vec(corpus, size=100, window=5, min_count=5, workers=12, sg=0)\n",
        "#w2v_pesos_cbow = model_word2vec_cbow.wv.vectors\n",
        "\n",
        "model_word2vec_skip = word2vec.Word2Vec(corpus, size=100, window=5, min_count=5, workers=12, sg=0)\n",
        "#w2v_pesos_skip = model_word2vec_skip.wv.vectors"
      ],
      "execution_count": 25,
      "outputs": []
    },
    {
      "cell_type": "markdown",
      "metadata": {
        "id": "KtmSzxZg__Pm"
      },
      "source": [
        "### Padding\n",
        "\n",
        "Se aplica la tecnica de padding para que todas los textos tengan el mismo largo."
      ]
    },
    {
      "cell_type": "code",
      "metadata": {
        "id": "0yGkSJbJAOpk"
      },
      "source": [
        "def largo_max(corp):\n",
        "  max_valor = 0\n",
        "  for lista in corp:\n",
        "    largo = len(lista)\n",
        "    if largo > max_valor:\n",
        "      max_valor = largo\n",
        "  return max_valor"
      ],
      "execution_count": 26,
      "outputs": []
    },
    {
      "cell_type": "markdown",
      "metadata": {
        "id": "S_55Z9UDIVWN"
      },
      "source": [
        "Tokenizamos las palabras del corpus para que puedan ser leidos por el modelo y aplicamos la tecnica llamada padding para que todas las oraciones ingresantes en el modelo de redes neuronales tengan el mismo tamaño."
      ]
    },
    {
      "cell_type": "code",
      "metadata": {
        "id": "Tl4wBoqzYEeB"
      },
      "source": [
        "def tokenizar_padding(corpus_data):\n",
        "  tokenizer = Tokenizer()\n",
        "  tokenizer.fit_on_texts(corpus_data)\n",
        "  secuencias = tokenizer.texts_to_sequences(corpus_data)\n",
        "  max_len_oracion = largo_max(secuencias)\n",
        "  resultado = pad_sequences(secuencias, maxlen = max_len_oracion)\n",
        "  return resultado, max_len_oracion\n"
      ],
      "execution_count": 47,
      "outputs": []
    },
    {
      "cell_type": "code",
      "metadata": {
        "id": "SAI9w4PyYOgJ"
      },
      "source": [
        "X, max_largo_oracion = tokenizar_padding(corpus)"
      ],
      "execution_count": 48,
      "outputs": []
    },
    {
      "cell_type": "code",
      "metadata": {
        "id": "rxnTYlv1XSdL"
      },
      "source": [
        "embedding_vector_size = 100\n",
        "def matriz_pesos_word2vec(modelo_word2vec, corpus_data):\n",
        "  voc_size = num_palabras(corpus_data)\n",
        "  words = list(modelo_word2vec.wv.vocab)\n",
        "  embedding_matrix = np.zeros((voc_size+1, embedding_vector_size))\n",
        "  for index, word in enumerate(words):    \n",
        "    embedding_vector = modelo_word2vec.wv[word]\n",
        "  if embedding_vector is not None:\n",
        "    embedding_matrix[index] = embedding_vector\n",
        "  return embedding_matrix"
      ],
      "execution_count": 31,
      "outputs": []
    },
    {
      "cell_type": "code",
      "metadata": {
        "id": "UwhceGPdYgdB"
      },
      "source": [
        "embedding_matrix_cbow = matriz_pesos_word2vec(model_word2vec_cbow, corpus)\n",
        "embedding_matrix_skip = matriz_pesos_word2vec(model_word2vec_skip, corpus)"
      ],
      "execution_count": 32,
      "outputs": []
    },
    {
      "cell_type": "markdown",
      "metadata": {
        "id": "NKMmhBLXH_WB"
      },
      "source": [
        "## Modelo LSTM y Word2"
      ]
    },
    {
      "cell_type": "code",
      "metadata": {
        "id": "03VPFrxWZf9B"
      },
      "source": [
        "def LSTM_Word2Vec(matriz_embedding, num_neuronas):\n",
        "  model=Sequential()\n",
        "  model.add(Embedding(tamanio_voc+1, embedding_vector_size, input_length=max_largo_oracion, weights = [matriz_embedding]))\n",
        "  model.add(LSTM(num_neuronas, dropout=0.2, recurrent_dropout=0.2))\n",
        "  model.add(Dense(1,activation='sigmoid'))\n",
        "  return model"
      ],
      "execution_count": 75,
      "outputs": []
    },
    {
      "cell_type": "code",
      "metadata": {
        "colab": {
          "base_uri": "https://localhost:8080/"
        },
        "id": "RD_fBByKZrQm",
        "outputId": "0c9f4087-c0d2-45eb-85c5-a9cb2375047c"
      },
      "source": [
        "LSTM_Word2vec_cbow = LSTM_Word2Vec(embedding_matrix_cbow, 100)\n",
        "LSTM_Word2vec_cbow.compile(loss ='binary_crossentropy',optimizer='adam',metrics=['accuracy'])\n",
        "print(LSTM_Word2vec_cbow.summary())"
      ],
      "execution_count": 76,
      "outputs": [
        {
          "output_type": "stream",
          "text": [
            "Model: \"sequential_1\"\n",
            "_________________________________________________________________\n",
            "Layer (type)                 Output Shape              Param #   \n",
            "=================================================================\n",
            "embedding_1 (Embedding)      (None, 64, 100)           943900    \n",
            "_________________________________________________________________\n",
            "lstm_8 (LSTM)                (None, 100)               80400     \n",
            "_________________________________________________________________\n",
            "dense_1 (Dense)              (None, 1)                 101       \n",
            "=================================================================\n",
            "Total params: 1,024,401\n",
            "Trainable params: 1,024,401\n",
            "Non-trainable params: 0\n",
            "_________________________________________________________________\n",
            "None\n"
          ],
          "name": "stdout"
        }
      ]
    },
    {
      "cell_type": "code",
      "metadata": {
        "colab": {
          "base_uri": "https://localhost:8080/"
        },
        "id": "U2TJIe8bfQdI",
        "outputId": "7fc9fbb9-f492-4613-ea9e-655349b6ae74"
      },
      "source": [
        "LSTM_Word2vec_skip = LSTM_Word2Vec(embedding_matrix_skip, 100)\n",
        "LSTM_Word2vec_skip.compile(loss ='binary_crossentropy',optimizer='adam',metrics=['accuracy'])\n",
        "print(LSTM_Word2vec_skip.summary())"
      ],
      "execution_count": 77,
      "outputs": [
        {
          "output_type": "stream",
          "text": [
            "Model: \"sequential_2\"\n",
            "_________________________________________________________________\n",
            "Layer (type)                 Output Shape              Param #   \n",
            "=================================================================\n",
            "embedding_2 (Embedding)      (None, 64, 100)           943900    \n",
            "_________________________________________________________________\n",
            "lstm_9 (LSTM)                (None, 100)               80400     \n",
            "_________________________________________________________________\n",
            "dense_2 (Dense)              (None, 1)                 101       \n",
            "=================================================================\n",
            "Total params: 1,024,401\n",
            "Trainable params: 1,024,401\n",
            "Non-trainable params: 0\n",
            "_________________________________________________________________\n",
            "None\n"
          ],
          "name": "stdout"
        }
      ]
    },
    {
      "cell_type": "markdown",
      "metadata": {
        "id": "2xhjFrtnqDWz"
      },
      "source": [
        "## Modelo LSTM y BERT"
      ]
    },
    {
      "cell_type": "markdown",
      "metadata": {
        "id": "fkMzr_ff2BYs"
      },
      "source": [
        "Usaremos el modelo BERT Base.\n",
        "\n",
        "Link: https://tfhub.dev/tensorflow/bert_en_uncased_L-12_H-768_A-12/4"
      ]
    },
    {
      "cell_type": "code",
      "metadata": {
        "colab": {
          "base_uri": "https://localhost:8080/"
        },
        "id": "H3IXpdwP-dDZ",
        "outputId": "f5178d4d-1104-413d-e746-6391631fc9f7"
      },
      "source": [
        "!pip install tensorflow-text"
      ],
      "execution_count": 41,
      "outputs": [
        {
          "output_type": "stream",
          "text": [
            "Collecting tensorflow-text\n",
            "\u001b[?25l  Downloading https://files.pythonhosted.org/packages/c0/ed/bbb51e9eccca0c2bfdf9df66e54cdff563b6f32daed9255da9b9a541368f/tensorflow_text-2.5.0-cp37-cp37m-manylinux1_x86_64.whl (4.3MB)\n",
            "\u001b[K     |████████████████████████████████| 4.3MB 5.2MB/s \n",
            "\u001b[?25hRequirement already satisfied: tensorflow-hub>=0.8.0 in /usr/local/lib/python3.7/dist-packages (from tensorflow-text) (0.12.0)\n",
            "Requirement already satisfied: tensorflow<2.6,>=2.5.0 in /usr/local/lib/python3.7/dist-packages (from tensorflow-text) (2.5.0)\n",
            "Requirement already satisfied: numpy>=1.12.0 in /usr/local/lib/python3.7/dist-packages (from tensorflow-hub>=0.8.0->tensorflow-text) (1.19.5)\n",
            "Requirement already satisfied: protobuf>=3.8.0 in /usr/local/lib/python3.7/dist-packages (from tensorflow-hub>=0.8.0->tensorflow-text) (3.12.4)\n",
            "Requirement already satisfied: wrapt~=1.12.1 in /usr/local/lib/python3.7/dist-packages (from tensorflow<2.6,>=2.5.0->tensorflow-text) (1.12.1)\n",
            "Requirement already satisfied: tensorflow-estimator<2.6.0,>=2.5.0rc0 in /usr/local/lib/python3.7/dist-packages (from tensorflow<2.6,>=2.5.0->tensorflow-text) (2.5.0)\n",
            "Requirement already satisfied: gast==0.4.0 in /usr/local/lib/python3.7/dist-packages (from tensorflow<2.6,>=2.5.0->tensorflow-text) (0.4.0)\n",
            "Requirement already satisfied: six~=1.15.0 in /usr/local/lib/python3.7/dist-packages (from tensorflow<2.6,>=2.5.0->tensorflow-text) (1.15.0)\n",
            "Requirement already satisfied: h5py~=3.1.0 in /usr/local/lib/python3.7/dist-packages (from tensorflow<2.6,>=2.5.0->tensorflow-text) (3.1.0)\n",
            "Requirement already satisfied: google-pasta~=0.2 in /usr/local/lib/python3.7/dist-packages (from tensorflow<2.6,>=2.5.0->tensorflow-text) (0.2.0)\n",
            "Requirement already satisfied: flatbuffers~=1.12.0 in /usr/local/lib/python3.7/dist-packages (from tensorflow<2.6,>=2.5.0->tensorflow-text) (1.12)\n",
            "Requirement already satisfied: absl-py~=0.10 in /usr/local/lib/python3.7/dist-packages (from tensorflow<2.6,>=2.5.0->tensorflow-text) (0.12.0)\n",
            "Requirement already satisfied: typing-extensions~=3.7.4 in /usr/local/lib/python3.7/dist-packages (from tensorflow<2.6,>=2.5.0->tensorflow-text) (3.7.4.3)\n",
            "Requirement already satisfied: keras-preprocessing~=1.1.2 in /usr/local/lib/python3.7/dist-packages (from tensorflow<2.6,>=2.5.0->tensorflow-text) (1.1.2)\n",
            "Requirement already satisfied: grpcio~=1.34.0 in /usr/local/lib/python3.7/dist-packages (from tensorflow<2.6,>=2.5.0->tensorflow-text) (1.34.1)\n",
            "Requirement already satisfied: opt-einsum~=3.3.0 in /usr/local/lib/python3.7/dist-packages (from tensorflow<2.6,>=2.5.0->tensorflow-text) (3.3.0)\n",
            "Requirement already satisfied: astunparse~=1.6.3 in /usr/local/lib/python3.7/dist-packages (from tensorflow<2.6,>=2.5.0->tensorflow-text) (1.6.3)\n",
            "Requirement already satisfied: keras-nightly~=2.5.0.dev in /usr/local/lib/python3.7/dist-packages (from tensorflow<2.6,>=2.5.0->tensorflow-text) (2.5.0.dev2021032900)\n",
            "Requirement already satisfied: termcolor~=1.1.0 in /usr/local/lib/python3.7/dist-packages (from tensorflow<2.6,>=2.5.0->tensorflow-text) (1.1.0)\n",
            "Requirement already satisfied: wheel~=0.35 in /usr/local/lib/python3.7/dist-packages (from tensorflow<2.6,>=2.5.0->tensorflow-text) (0.36.2)\n",
            "Requirement already satisfied: tensorboard~=2.5 in /usr/local/lib/python3.7/dist-packages (from tensorflow<2.6,>=2.5.0->tensorflow-text) (2.5.0)\n",
            "Requirement already satisfied: setuptools in /usr/local/lib/python3.7/dist-packages (from protobuf>=3.8.0->tensorflow-hub>=0.8.0->tensorflow-text) (57.0.0)\n",
            "Requirement already satisfied: cached-property; python_version < \"3.8\" in /usr/local/lib/python3.7/dist-packages (from h5py~=3.1.0->tensorflow<2.6,>=2.5.0->tensorflow-text) (1.5.2)\n",
            "Requirement already satisfied: werkzeug>=0.11.15 in /usr/local/lib/python3.7/dist-packages (from tensorboard~=2.5->tensorflow<2.6,>=2.5.0->tensorflow-text) (1.0.1)\n",
            "Requirement already satisfied: tensorboard-plugin-wit>=1.6.0 in /usr/local/lib/python3.7/dist-packages (from tensorboard~=2.5->tensorflow<2.6,>=2.5.0->tensorflow-text) (1.8.0)\n",
            "Requirement already satisfied: google-auth-oauthlib<0.5,>=0.4.1 in /usr/local/lib/python3.7/dist-packages (from tensorboard~=2.5->tensorflow<2.6,>=2.5.0->tensorflow-text) (0.4.4)\n",
            "Requirement already satisfied: google-auth<2,>=1.6.3 in /usr/local/lib/python3.7/dist-packages (from tensorboard~=2.5->tensorflow<2.6,>=2.5.0->tensorflow-text) (1.30.0)\n",
            "Requirement already satisfied: requests<3,>=2.21.0 in /usr/local/lib/python3.7/dist-packages (from tensorboard~=2.5->tensorflow<2.6,>=2.5.0->tensorflow-text) (2.23.0)\n",
            "Requirement already satisfied: markdown>=2.6.8 in /usr/local/lib/python3.7/dist-packages (from tensorboard~=2.5->tensorflow<2.6,>=2.5.0->tensorflow-text) (3.3.4)\n",
            "Requirement already satisfied: tensorboard-data-server<0.7.0,>=0.6.0 in /usr/local/lib/python3.7/dist-packages (from tensorboard~=2.5->tensorflow<2.6,>=2.5.0->tensorflow-text) (0.6.1)\n",
            "Requirement already satisfied: requests-oauthlib>=0.7.0 in /usr/local/lib/python3.7/dist-packages (from google-auth-oauthlib<0.5,>=0.4.1->tensorboard~=2.5->tensorflow<2.6,>=2.5.0->tensorflow-text) (1.3.0)\n",
            "Requirement already satisfied: cachetools<5.0,>=2.0.0 in /usr/local/lib/python3.7/dist-packages (from google-auth<2,>=1.6.3->tensorboard~=2.5->tensorflow<2.6,>=2.5.0->tensorflow-text) (4.2.2)\n",
            "Requirement already satisfied: pyasn1-modules>=0.2.1 in /usr/local/lib/python3.7/dist-packages (from google-auth<2,>=1.6.3->tensorboard~=2.5->tensorflow<2.6,>=2.5.0->tensorflow-text) (0.2.8)\n",
            "Requirement already satisfied: rsa<5,>=3.1.4; python_version >= \"3.6\" in /usr/local/lib/python3.7/dist-packages (from google-auth<2,>=1.6.3->tensorboard~=2.5->tensorflow<2.6,>=2.5.0->tensorflow-text) (4.7.2)\n",
            "Requirement already satisfied: urllib3!=1.25.0,!=1.25.1,<1.26,>=1.21.1 in /usr/local/lib/python3.7/dist-packages (from requests<3,>=2.21.0->tensorboard~=2.5->tensorflow<2.6,>=2.5.0->tensorflow-text) (1.24.3)\n",
            "Requirement already satisfied: certifi>=2017.4.17 in /usr/local/lib/python3.7/dist-packages (from requests<3,>=2.21.0->tensorboard~=2.5->tensorflow<2.6,>=2.5.0->tensorflow-text) (2020.12.5)\n",
            "Requirement already satisfied: idna<3,>=2.5 in /usr/local/lib/python3.7/dist-packages (from requests<3,>=2.21.0->tensorboard~=2.5->tensorflow<2.6,>=2.5.0->tensorflow-text) (2.10)\n",
            "Requirement already satisfied: chardet<4,>=3.0.2 in /usr/local/lib/python3.7/dist-packages (from requests<3,>=2.21.0->tensorboard~=2.5->tensorflow<2.6,>=2.5.0->tensorflow-text) (3.0.4)\n",
            "Requirement already satisfied: importlib-metadata; python_version < \"3.8\" in /usr/local/lib/python3.7/dist-packages (from markdown>=2.6.8->tensorboard~=2.5->tensorflow<2.6,>=2.5.0->tensorflow-text) (4.0.1)\n",
            "Requirement already satisfied: oauthlib>=3.0.0 in /usr/local/lib/python3.7/dist-packages (from requests-oauthlib>=0.7.0->google-auth-oauthlib<0.5,>=0.4.1->tensorboard~=2.5->tensorflow<2.6,>=2.5.0->tensorflow-text) (3.1.0)\n",
            "Requirement already satisfied: pyasn1<0.5.0,>=0.4.6 in /usr/local/lib/python3.7/dist-packages (from pyasn1-modules>=0.2.1->google-auth<2,>=1.6.3->tensorboard~=2.5->tensorflow<2.6,>=2.5.0->tensorflow-text) (0.4.8)\n",
            "Requirement already satisfied: zipp>=0.5 in /usr/local/lib/python3.7/dist-packages (from importlib-metadata; python_version < \"3.8\"->markdown>=2.6.8->tensorboard~=2.5->tensorflow<2.6,>=2.5.0->tensorflow-text) (3.4.1)\n",
            "Installing collected packages: tensorflow-text\n",
            "Successfully installed tensorflow-text-2.5.0\n"
          ],
          "name": "stdout"
        }
      ]
    },
    {
      "cell_type": "code",
      "metadata": {
        "id": "6IvNNA_5p-Fl"
      },
      "source": [
        "import tensorflow_hub as hub\n",
        "from tensorflow.keras import layers\n",
        "import tensorflow_text as text\n",
        "urL_bert = \"https://tfhub.dev/tensorflow/bert_en_uncased_L-12_H-768_A-12/4\" #tfhub_handle_encoder \n",
        "preprocesador =  \"https://tfhub.dev/tensorflow/bert_en_uncased_preprocess/3\" #tfhub_handle_preprocess "
      ],
      "execution_count": 42,
      "outputs": []
    },
    {
      "cell_type": "code",
      "metadata": {
        "id": "DPthk9Qh6n6W"
      },
      "source": [
        "def LSTM_BERT(num_neuronas):\n",
        "  text_input = tf.keras.layers.Input(shape=(), dtype=tf.string, name='text')\n",
        "  preprocessing_layer = hub.KerasLayer(preprocesador, name='Preprocesamiento')\n",
        "  encoder_inputs = preprocessing_layer(text_input)\n",
        "  encoder = hub.KerasLayer(urL_bert, trainable=True, name='Codificador_BERT')\n",
        "  outputs = encoder(encoder_inputs)\n",
        "  net = outputs['pooled_output']\n",
        "  #net = tf.keras.layers.Dense(96, activation=\"relu\") (net)\n",
        "  #net = tf.keras.layers.Dropout(0.1)(net)\n",
        "  net = tf.expand_dims(net, axis=-1)\n",
        "  net = tf.keras.layers.LSTM(num_neuronas, dropout=0.2, recurrent_dropout=0.2, name='Capa_LSTM')(net)\n",
        "  net = tf.keras.layers.Dense(1, activation='sigmoid', name='Clasificador')(net)\n",
        "  return tf.keras.Model(text_input, net)"
      ],
      "execution_count": 137,
      "outputs": []
    },
    {
      "cell_type": "code",
      "metadata": {
        "id": "ctemCNWy-HJc"
      },
      "source": [
        "LSTM_BERT_modelo = LSTM_BERT(100)"
      ],
      "execution_count": 138,
      "outputs": []
    },
    {
      "cell_type": "code",
      "metadata": {
        "id": "OCHf1mVb988H"
      },
      "source": [
        "tf.keras.utils.plot_model(LSTM_BERT_modelo)"
      ],
      "execution_count": null,
      "outputs": []
    },
    {
      "cell_type": "code",
      "metadata": {
        "colab": {
          "base_uri": "https://localhost:8080/"
        },
        "id": "Y7ln90YSCjwD",
        "outputId": "12a7a44a-c706-4529-88ea-35b57dee8e6d"
      },
      "source": [
        "LSTM_BERT_modelo.compile(loss ='binary_crossentropy',optimizer='adam',metrics=['accuracy'])\n",
        "print(LSTM_BERT_modelo.summary())"
      ],
      "execution_count": 126,
      "outputs": [
        {
          "output_type": "stream",
          "text": [
            "Model: \"model_7\"\n",
            "__________________________________________________________________________________________________\n",
            "Layer (type)                    Output Shape         Param #     Connected to                     \n",
            "==================================================================================================\n",
            "text (InputLayer)               [(None,)]            0                                            \n",
            "__________________________________________________________________________________________________\n",
            "Preprocesamiento (KerasLayer)   {'input_mask': (None 0           text[0][0]                       \n",
            "__________________________________________________________________________________________________\n",
            "Codificador_BERT (KerasLayer)   {'encoder_outputs':  109482241   Preprocesamiento[0][0]           \n",
            "                                                                 Preprocesamiento[0][1]           \n",
            "                                                                 Preprocesamiento[0][2]           \n",
            "__________________________________________________________________________________________________\n",
            "tf.expand_dims_7 (TFOpLambda)   (None, 768, 1)       0           Codificador_BERT[0][13]          \n",
            "__________________________________________________________________________________________________\n",
            "Capa_LSTM (LSTM)                (None, 100)          40800       tf.expand_dims_7[0][0]           \n",
            "__________________________________________________________________________________________________\n",
            "Clasificador (Dense)            (None, 1)            101         Capa_LSTM[0][0]                  \n",
            "==================================================================================================\n",
            "Total params: 109,523,142\n",
            "Trainable params: 109,523,141\n",
            "Non-trainable params: 1\n",
            "__________________________________________________________________________________________________\n",
            "None\n"
          ],
          "name": "stdout"
        }
      ]
    },
    {
      "cell_type": "markdown",
      "metadata": {
        "id": "2Ie1lEph2aCg"
      },
      "source": [
        "# Dividir Dataset"
      ]
    },
    {
      "cell_type": "code",
      "metadata": {
        "id": "-7IryXZAJXGc"
      },
      "source": [
        "y = np.array(df_one_final.outcome)\n",
        "X_train, X_test, y_train, y_test = train_test_split(X, y, test_size=0.2)"
      ],
      "execution_count": 79,
      "outputs": []
    },
    {
      "cell_type": "markdown",
      "metadata": {
        "id": "AZlreaEqVMX_"
      },
      "source": [
        "### Desbalanceo del dataset\n",
        "\n",
        "Aplicaremos una combinación de tecnicas de Undersampling y Oversampling para poder tener reducir el desbalance del dataset.\n",
        "\n",
        "Undersampling -> Reduce el número de la clase mayoritaria al azar a la proporción deseada contra la clase minoritaria. \n",
        "\n",
        "OverSampling -> Duplicamos los datos que tienen la clase minoritaria o creamos nuevos ejemplos sinteticos. En el caso de un dataset de texto, no recomendable crear ejemplos."
      ]
    },
    {
      "cell_type": "code",
      "metadata": {
        "colab": {
          "base_uri": "https://localhost:8080/"
        },
        "id": "xdTQWZDHVKII",
        "outputId": "3421235e-621f-49a3-eb28-13764b887ec3"
      },
      "source": [
        "from imblearn.over_sampling import RandomOverSampler\n",
        "from imblearn.under_sampling import RandomUnderSampler\n",
        "from collections import Counter\n",
        "import warnings\n",
        "warnings.simplefilter(action='ignore', category=FutureWarning)\n",
        "\n",
        "over = RandomOverSampler(sampling_strategy=0.4)\n",
        "under = RandomUnderSampler(sampling_strategy=0.5)\n",
        "print(\"Antes de aplicar las tecnicas: \", Counter(y_train))\n",
        "X_train, y_train = over.fit_resample(X_train, y_train)\n",
        "print(\"Despues de aplicar Oversampling: \", Counter(y_train))\n",
        "X_train, y_train = under.fit_resample(X_train, y_train)\n",
        "print(\"Despues de aplicar Undersampling: \", Counter(y_train))"
      ],
      "execution_count": 80,
      "outputs": [
        {
          "output_type": "stream",
          "text": [
            "/usr/local/lib/python3.7/dist-packages/sklearn/externals/six.py:31: FutureWarning: The module is deprecated in version 0.21 and will be removed in version 0.23 since we've dropped support for Python 2.7. Please rely on the official version of six (https://pypi.org/project/six/).\n",
            "  \"(https://pypi.org/project/six/).\", FutureWarning)\n",
            "/usr/local/lib/python3.7/dist-packages/sklearn/utils/deprecation.py:144: FutureWarning: The sklearn.neighbors.base module is  deprecated in version 0.22 and will be removed in version 0.24. The corresponding classes / functions should instead be imported from sklearn.neighbors. Anything that cannot be imported from sklearn.neighbors is now part of the private API.\n",
            "  warnings.warn(message, FutureWarning)\n"
          ],
          "name": "stderr"
        },
        {
          "output_type": "stream",
          "text": [
            "Antes de aplicar las tecnicas:  Counter({1: 8627, 0: 2028})\n",
            "Despues de aplicar Oversampling:  Counter({1: 8627, 0: 3450})\n",
            "Despues de aplicar Undersampling:  Counter({1: 6900, 0: 3450})\n"
          ],
          "name": "stdout"
        }
      ]
    },
    {
      "cell_type": "markdown",
      "metadata": {
        "id": "hVFzn1BBDdRZ"
      },
      "source": [
        "# Entrenar Modelos"
      ]
    },
    {
      "cell_type": "code",
      "metadata": {
        "colab": {
          "base_uri": "https://localhost:8080/"
        },
        "id": "5kgo07EXJhcB",
        "outputId": "fc53aaed-b918-45b6-92bf-7e24c8a29c5d"
      },
      "source": [
        "LSTM_Word2vec_cbow.fit(X_train,y_train,validation_data=(X_train,y_train),epochs=10,batch_size=64)"
      ],
      "execution_count": 81,
      "outputs": [
        {
          "output_type": "stream",
          "text": [
            "Epoch 1/10\n",
            "162/162 [==============================] - 37s 210ms/step - loss: 0.3484 - accuracy: 0.8501 - val_loss: 0.1713 - val_accuracy: 0.9400\n",
            "Epoch 2/10\n",
            "162/162 [==============================] - 33s 207ms/step - loss: 0.1568 - accuracy: 0.9401 - val_loss: 0.1103 - val_accuracy: 0.9643\n",
            "Epoch 3/10\n",
            "162/162 [==============================] - 34s 208ms/step - loss: 0.1083 - accuracy: 0.9611 - val_loss: 0.0808 - val_accuracy: 0.9744\n",
            "Epoch 4/10\n",
            "162/162 [==============================] - 33s 205ms/step - loss: 0.0816 - accuracy: 0.9729 - val_loss: 0.0589 - val_accuracy: 0.9812\n",
            "Epoch 5/10\n",
            "162/162 [==============================] - 35s 214ms/step - loss: 0.0677 - accuracy: 0.9768 - val_loss: 0.0544 - val_accuracy: 0.9832\n",
            "Epoch 6/10\n",
            "162/162 [==============================] - 34s 208ms/step - loss: 0.0587 - accuracy: 0.9796 - val_loss: 0.0428 - val_accuracy: 0.9861\n",
            "Epoch 7/10\n",
            "162/162 [==============================] - 34s 208ms/step - loss: 0.0854 - accuracy: 0.9700 - val_loss: 0.0427 - val_accuracy: 0.9863\n",
            "Epoch 8/10\n",
            "162/162 [==============================] - 33s 206ms/step - loss: 0.0483 - accuracy: 0.9836 - val_loss: 0.0364 - val_accuracy: 0.9888\n",
            "Epoch 9/10\n",
            "162/162 [==============================] - 34s 209ms/step - loss: 0.0409 - accuracy: 0.9864 - val_loss: 0.0331 - val_accuracy: 0.9884\n",
            "Epoch 10/10\n",
            "162/162 [==============================] - 35s 217ms/step - loss: 0.0375 - accuracy: 0.9861 - val_loss: 0.0298 - val_accuracy: 0.9895\n"
          ],
          "name": "stdout"
        },
        {
          "output_type": "execute_result",
          "data": {
            "text/plain": [
              "<tensorflow.python.keras.callbacks.History at 0x7f2ba516a1d0>"
            ]
          },
          "metadata": {
            "tags": []
          },
          "execution_count": 81
        }
      ]
    },
    {
      "cell_type": "code",
      "metadata": {
        "colab": {
          "base_uri": "https://localhost:8080/"
        },
        "id": "YdwwYR6poWyh",
        "outputId": "dc59974f-2450-4250-d9e6-8ff2bcaa0ebc"
      },
      "source": [
        "LSTM_Word2vec_skip.fit(X_train,y_train,validation_data=(X_train,y_train),epochs=10,batch_size=64)"
      ],
      "execution_count": 82,
      "outputs": [
        {
          "output_type": "stream",
          "text": [
            "Epoch 1/10\n",
            "162/162 [==============================] - 38s 218ms/step - loss: 0.3398 - accuracy: 0.8538 - val_loss: 0.1620 - val_accuracy: 0.9414\n",
            "Epoch 2/10\n",
            "162/162 [==============================] - 35s 217ms/step - loss: 0.1599 - accuracy: 0.9403 - val_loss: 0.1115 - val_accuracy: 0.9609\n",
            "Epoch 3/10\n",
            "162/162 [==============================] - 33s 206ms/step - loss: 0.1093 - accuracy: 0.9615 - val_loss: 0.0753 - val_accuracy: 0.9756\n",
            "Epoch 4/10\n",
            "162/162 [==============================] - 33s 205ms/step - loss: 0.0828 - accuracy: 0.9721 - val_loss: 0.0619 - val_accuracy: 0.9814\n",
            "Epoch 5/10\n",
            "162/162 [==============================] - 33s 206ms/step - loss: 0.0668 - accuracy: 0.9786 - val_loss: 0.0507 - val_accuracy: 0.9843\n",
            "Epoch 6/10\n",
            "162/162 [==============================] - 33s 206ms/step - loss: 0.0587 - accuracy: 0.9802 - val_loss: 0.0450 - val_accuracy: 0.9851\n",
            "Epoch 7/10\n",
            "162/162 [==============================] - 34s 211ms/step - loss: 0.0547 - accuracy: 0.9824 - val_loss: 0.0427 - val_accuracy: 0.9871\n",
            "Epoch 8/10\n",
            "162/162 [==============================] - 35s 215ms/step - loss: 0.0467 - accuracy: 0.9839 - val_loss: 0.0387 - val_accuracy: 0.9871\n",
            "Epoch 9/10\n",
            "162/162 [==============================] - 36s 222ms/step - loss: 0.0445 - accuracy: 0.9852 - val_loss: 0.0347 - val_accuracy: 0.9880\n",
            "Epoch 10/10\n",
            "162/162 [==============================] - 36s 225ms/step - loss: 0.0442 - accuracy: 0.9841 - val_loss: 0.0385 - val_accuracy: 0.9870\n"
          ],
          "name": "stdout"
        },
        {
          "output_type": "execute_result",
          "data": {
            "text/plain": [
              "<tensorflow.python.keras.callbacks.History at 0x7f2ba247b8d0>"
            ]
          },
          "metadata": {
            "tags": []
          },
          "execution_count": 82
        }
      ]
    },
    {
      "cell_type": "code",
      "metadata": {
        "colab": {
          "base_uri": "https://localhost:8080/"
        },
        "id": "JysfUFxNJPzz",
        "outputId": "1365cda9-2ca1-4749-fb9c-bfe2f8b41b44"
      },
      "source": [
        "X_train.shape[1]"
      ],
      "execution_count": 87,
      "outputs": [
        {
          "output_type": "execute_result",
          "data": {
            "text/plain": [
              "64"
            ]
          },
          "metadata": {
            "tags": []
          },
          "execution_count": 87
        }
      ]
    },
    {
      "cell_type": "code",
      "metadata": {
        "colab": {
          "base_uri": "https://localhost:8080/",
          "height": 1000
        },
        "id": "laaaCR5oDblb",
        "outputId": "9c46af4c-8f8e-4005-b452-8f7698f36bef"
      },
      "source": [
        "LSTM_BERT_modelo.fit(X_train,y_train,epochs=10,batch_size=64)"
      ],
      "execution_count": 130,
      "outputs": [
        {
          "output_type": "stream",
          "text": [
            "Epoch 1/10\n",
            "WARNING:tensorflow:Model was constructed with shape (None,) for input KerasTensor(type_spec=TensorSpec(shape=(None,), dtype=tf.string, name='text'), name='text', description=\"created by layer 'text'\"), but it was called on an input with incompatible shape (None, 64).\n"
          ],
          "name": "stdout"
        },
        {
          "output_type": "stream",
          "text": [
            "WARNING:tensorflow:Model was constructed with shape (None,) for input KerasTensor(type_spec=TensorSpec(shape=(None,), dtype=tf.string, name='text'), name='text', description=\"created by layer 'text'\"), but it was called on an input with incompatible shape (None, 64).\n"
          ],
          "name": "stderr"
        },
        {
          "output_type": "error",
          "ename": "ValueError",
          "evalue": "ignored",
          "traceback": [
            "\u001b[0;31m---------------------------------------------------------------------------\u001b[0m",
            "\u001b[0;31mValueError\u001b[0m                                Traceback (most recent call last)",
            "\u001b[0;32m<ipython-input-130-242e1013142b>\u001b[0m in \u001b[0;36m<module>\u001b[0;34m()\u001b[0m\n\u001b[0;32m----> 1\u001b[0;31m \u001b[0mLSTM_BERT_modelo\u001b[0m\u001b[0;34m.\u001b[0m\u001b[0mfit\u001b[0m\u001b[0;34m(\u001b[0m\u001b[0mX_train\u001b[0m\u001b[0;34m,\u001b[0m\u001b[0my_train\u001b[0m\u001b[0;34m,\u001b[0m\u001b[0mepochs\u001b[0m\u001b[0;34m=\u001b[0m\u001b[0;36m10\u001b[0m\u001b[0;34m,\u001b[0m\u001b[0mbatch_size\u001b[0m\u001b[0;34m=\u001b[0m\u001b[0;36m64\u001b[0m\u001b[0;34m)\u001b[0m\u001b[0;34m\u001b[0m\u001b[0;34m\u001b[0m\u001b[0m\n\u001b[0m",
            "\u001b[0;32m/usr/local/lib/python3.7/dist-packages/tensorflow/python/keras/engine/training.py\u001b[0m in \u001b[0;36mfit\u001b[0;34m(self, x, y, batch_size, epochs, verbose, callbacks, validation_split, validation_data, shuffle, class_weight, sample_weight, initial_epoch, steps_per_epoch, validation_steps, validation_batch_size, validation_freq, max_queue_size, workers, use_multiprocessing)\u001b[0m\n\u001b[1;32m   1181\u001b[0m                 _r=1):\n\u001b[1;32m   1182\u001b[0m               \u001b[0mcallbacks\u001b[0m\u001b[0;34m.\u001b[0m\u001b[0mon_train_batch_begin\u001b[0m\u001b[0;34m(\u001b[0m\u001b[0mstep\u001b[0m\u001b[0;34m)\u001b[0m\u001b[0;34m\u001b[0m\u001b[0;34m\u001b[0m\u001b[0m\n\u001b[0;32m-> 1183\u001b[0;31m               \u001b[0mtmp_logs\u001b[0m \u001b[0;34m=\u001b[0m \u001b[0mself\u001b[0m\u001b[0;34m.\u001b[0m\u001b[0mtrain_function\u001b[0m\u001b[0;34m(\u001b[0m\u001b[0miterator\u001b[0m\u001b[0;34m)\u001b[0m\u001b[0;34m\u001b[0m\u001b[0;34m\u001b[0m\u001b[0m\n\u001b[0m\u001b[1;32m   1184\u001b[0m               \u001b[0;32mif\u001b[0m \u001b[0mdata_handler\u001b[0m\u001b[0;34m.\u001b[0m\u001b[0mshould_sync\u001b[0m\u001b[0;34m:\u001b[0m\u001b[0;34m\u001b[0m\u001b[0;34m\u001b[0m\u001b[0m\n\u001b[1;32m   1185\u001b[0m                 \u001b[0mcontext\u001b[0m\u001b[0;34m.\u001b[0m\u001b[0masync_wait\u001b[0m\u001b[0;34m(\u001b[0m\u001b[0;34m)\u001b[0m\u001b[0;34m\u001b[0m\u001b[0;34m\u001b[0m\u001b[0m\n",
            "\u001b[0;32m/usr/local/lib/python3.7/dist-packages/tensorflow/python/eager/def_function.py\u001b[0m in \u001b[0;36m__call__\u001b[0;34m(self, *args, **kwds)\u001b[0m\n\u001b[1;32m    887\u001b[0m \u001b[0;34m\u001b[0m\u001b[0m\n\u001b[1;32m    888\u001b[0m       \u001b[0;32mwith\u001b[0m \u001b[0mOptionalXlaContext\u001b[0m\u001b[0;34m(\u001b[0m\u001b[0mself\u001b[0m\u001b[0;34m.\u001b[0m\u001b[0m_jit_compile\u001b[0m\u001b[0;34m)\u001b[0m\u001b[0;34m:\u001b[0m\u001b[0;34m\u001b[0m\u001b[0;34m\u001b[0m\u001b[0m\n\u001b[0;32m--> 889\u001b[0;31m         \u001b[0mresult\u001b[0m \u001b[0;34m=\u001b[0m \u001b[0mself\u001b[0m\u001b[0;34m.\u001b[0m\u001b[0m_call\u001b[0m\u001b[0;34m(\u001b[0m\u001b[0;34m*\u001b[0m\u001b[0margs\u001b[0m\u001b[0;34m,\u001b[0m \u001b[0;34m**\u001b[0m\u001b[0mkwds\u001b[0m\u001b[0;34m)\u001b[0m\u001b[0;34m\u001b[0m\u001b[0;34m\u001b[0m\u001b[0m\n\u001b[0m\u001b[1;32m    890\u001b[0m \u001b[0;34m\u001b[0m\u001b[0m\n\u001b[1;32m    891\u001b[0m       \u001b[0mnew_tracing_count\u001b[0m \u001b[0;34m=\u001b[0m \u001b[0mself\u001b[0m\u001b[0;34m.\u001b[0m\u001b[0mexperimental_get_tracing_count\u001b[0m\u001b[0;34m(\u001b[0m\u001b[0;34m)\u001b[0m\u001b[0;34m\u001b[0m\u001b[0;34m\u001b[0m\u001b[0m\n",
            "\u001b[0;32m/usr/local/lib/python3.7/dist-packages/tensorflow/python/eager/def_function.py\u001b[0m in \u001b[0;36m_call\u001b[0;34m(self, *args, **kwds)\u001b[0m\n\u001b[1;32m    922\u001b[0m       \u001b[0;31m# In this case we have not created variables on the first call. So we can\u001b[0m\u001b[0;34m\u001b[0m\u001b[0;34m\u001b[0m\u001b[0;34m\u001b[0m\u001b[0m\n\u001b[1;32m    923\u001b[0m       \u001b[0;31m# run the first trace but we should fail if variables are created.\u001b[0m\u001b[0;34m\u001b[0m\u001b[0;34m\u001b[0m\u001b[0;34m\u001b[0m\u001b[0m\n\u001b[0;32m--> 924\u001b[0;31m       \u001b[0mresults\u001b[0m \u001b[0;34m=\u001b[0m \u001b[0mself\u001b[0m\u001b[0;34m.\u001b[0m\u001b[0m_stateful_fn\u001b[0m\u001b[0;34m(\u001b[0m\u001b[0;34m*\u001b[0m\u001b[0margs\u001b[0m\u001b[0;34m,\u001b[0m \u001b[0;34m**\u001b[0m\u001b[0mkwds\u001b[0m\u001b[0;34m)\u001b[0m\u001b[0;34m\u001b[0m\u001b[0;34m\u001b[0m\u001b[0m\n\u001b[0m\u001b[1;32m    925\u001b[0m       \u001b[0;32mif\u001b[0m \u001b[0mself\u001b[0m\u001b[0;34m.\u001b[0m\u001b[0m_created_variables\u001b[0m\u001b[0;34m:\u001b[0m\u001b[0;34m\u001b[0m\u001b[0;34m\u001b[0m\u001b[0m\n\u001b[1;32m    926\u001b[0m         raise ValueError(\"Creating variables on a non-first call to a function\"\n",
            "\u001b[0;32m/usr/local/lib/python3.7/dist-packages/tensorflow/python/eager/function.py\u001b[0m in \u001b[0;36m__call__\u001b[0;34m(self, *args, **kwargs)\u001b[0m\n\u001b[1;32m   3020\u001b[0m     \u001b[0;32mwith\u001b[0m \u001b[0mself\u001b[0m\u001b[0;34m.\u001b[0m\u001b[0m_lock\u001b[0m\u001b[0;34m:\u001b[0m\u001b[0;34m\u001b[0m\u001b[0;34m\u001b[0m\u001b[0m\n\u001b[1;32m   3021\u001b[0m       (graph_function,\n\u001b[0;32m-> 3022\u001b[0;31m        filtered_flat_args) = self._maybe_define_function(args, kwargs)\n\u001b[0m\u001b[1;32m   3023\u001b[0m     return graph_function._call_flat(\n\u001b[1;32m   3024\u001b[0m         filtered_flat_args, captured_inputs=graph_function.captured_inputs)  # pylint: disable=protected-access\n",
            "\u001b[0;32m/usr/local/lib/python3.7/dist-packages/tensorflow/python/eager/function.py\u001b[0m in \u001b[0;36m_maybe_define_function\u001b[0;34m(self, args, kwargs)\u001b[0m\n\u001b[1;32m   3439\u001b[0m               call_context_key in self._function_cache.missed):\n\u001b[1;32m   3440\u001b[0m             return self._define_function_with_shape_relaxation(\n\u001b[0;32m-> 3441\u001b[0;31m                 args, kwargs, flat_args, filtered_flat_args, cache_key_context)\n\u001b[0m\u001b[1;32m   3442\u001b[0m \u001b[0;34m\u001b[0m\u001b[0m\n\u001b[1;32m   3443\u001b[0m           \u001b[0mself\u001b[0m\u001b[0;34m.\u001b[0m\u001b[0m_function_cache\u001b[0m\u001b[0;34m.\u001b[0m\u001b[0mmissed\u001b[0m\u001b[0;34m.\u001b[0m\u001b[0madd\u001b[0m\u001b[0;34m(\u001b[0m\u001b[0mcall_context_key\u001b[0m\u001b[0;34m)\u001b[0m\u001b[0;34m\u001b[0m\u001b[0;34m\u001b[0m\u001b[0m\n",
            "\u001b[0;32m/usr/local/lib/python3.7/dist-packages/tensorflow/python/eager/function.py\u001b[0m in \u001b[0;36m_define_function_with_shape_relaxation\u001b[0;34m(self, args, kwargs, flat_args, filtered_flat_args, cache_key_context)\u001b[0m\n\u001b[1;32m   3361\u001b[0m \u001b[0;34m\u001b[0m\u001b[0m\n\u001b[1;32m   3362\u001b[0m     graph_function = self._create_graph_function(\n\u001b[0;32m-> 3363\u001b[0;31m         args, kwargs, override_flat_arg_shapes=relaxed_arg_shapes)\n\u001b[0m\u001b[1;32m   3364\u001b[0m     \u001b[0mself\u001b[0m\u001b[0;34m.\u001b[0m\u001b[0m_function_cache\u001b[0m\u001b[0;34m.\u001b[0m\u001b[0marg_relaxed\u001b[0m\u001b[0;34m[\u001b[0m\u001b[0mrank_only_cache_key\u001b[0m\u001b[0;34m]\u001b[0m \u001b[0;34m=\u001b[0m \u001b[0mgraph_function\u001b[0m\u001b[0;34m\u001b[0m\u001b[0;34m\u001b[0m\u001b[0m\n\u001b[1;32m   3365\u001b[0m \u001b[0;34m\u001b[0m\u001b[0m\n",
            "\u001b[0;32m/usr/local/lib/python3.7/dist-packages/tensorflow/python/eager/function.py\u001b[0m in \u001b[0;36m_create_graph_function\u001b[0;34m(self, args, kwargs, override_flat_arg_shapes)\u001b[0m\n\u001b[1;32m   3287\u001b[0m             \u001b[0marg_names\u001b[0m\u001b[0;34m=\u001b[0m\u001b[0marg_names\u001b[0m\u001b[0;34m,\u001b[0m\u001b[0;34m\u001b[0m\u001b[0;34m\u001b[0m\u001b[0m\n\u001b[1;32m   3288\u001b[0m             \u001b[0moverride_flat_arg_shapes\u001b[0m\u001b[0;34m=\u001b[0m\u001b[0moverride_flat_arg_shapes\u001b[0m\u001b[0;34m,\u001b[0m\u001b[0;34m\u001b[0m\u001b[0;34m\u001b[0m\u001b[0m\n\u001b[0;32m-> 3289\u001b[0;31m             capture_by_value=self._capture_by_value),\n\u001b[0m\u001b[1;32m   3290\u001b[0m         \u001b[0mself\u001b[0m\u001b[0;34m.\u001b[0m\u001b[0m_function_attributes\u001b[0m\u001b[0;34m,\u001b[0m\u001b[0;34m\u001b[0m\u001b[0;34m\u001b[0m\u001b[0m\n\u001b[1;32m   3291\u001b[0m         \u001b[0mfunction_spec\u001b[0m\u001b[0;34m=\u001b[0m\u001b[0mself\u001b[0m\u001b[0;34m.\u001b[0m\u001b[0mfunction_spec\u001b[0m\u001b[0;34m,\u001b[0m\u001b[0;34m\u001b[0m\u001b[0;34m\u001b[0m\u001b[0m\n",
            "\u001b[0;32m/usr/local/lib/python3.7/dist-packages/tensorflow/python/framework/func_graph.py\u001b[0m in \u001b[0;36mfunc_graph_from_py_func\u001b[0;34m(name, python_func, args, kwargs, signature, func_graph, autograph, autograph_options, add_control_dependencies, arg_names, op_return_value, collections, capture_by_value, override_flat_arg_shapes)\u001b[0m\n\u001b[1;32m    997\u001b[0m         \u001b[0m_\u001b[0m\u001b[0;34m,\u001b[0m \u001b[0moriginal_func\u001b[0m \u001b[0;34m=\u001b[0m \u001b[0mtf_decorator\u001b[0m\u001b[0;34m.\u001b[0m\u001b[0munwrap\u001b[0m\u001b[0;34m(\u001b[0m\u001b[0mpython_func\u001b[0m\u001b[0;34m)\u001b[0m\u001b[0;34m\u001b[0m\u001b[0;34m\u001b[0m\u001b[0m\n\u001b[1;32m    998\u001b[0m \u001b[0;34m\u001b[0m\u001b[0m\n\u001b[0;32m--> 999\u001b[0;31m       \u001b[0mfunc_outputs\u001b[0m \u001b[0;34m=\u001b[0m \u001b[0mpython_func\u001b[0m\u001b[0;34m(\u001b[0m\u001b[0;34m*\u001b[0m\u001b[0mfunc_args\u001b[0m\u001b[0;34m,\u001b[0m \u001b[0;34m**\u001b[0m\u001b[0mfunc_kwargs\u001b[0m\u001b[0;34m)\u001b[0m\u001b[0;34m\u001b[0m\u001b[0;34m\u001b[0m\u001b[0m\n\u001b[0m\u001b[1;32m   1000\u001b[0m \u001b[0;34m\u001b[0m\u001b[0m\n\u001b[1;32m   1001\u001b[0m       \u001b[0;31m# invariant: `func_outputs` contains only Tensors, CompositeTensors,\u001b[0m\u001b[0;34m\u001b[0m\u001b[0;34m\u001b[0m\u001b[0;34m\u001b[0m\u001b[0m\n",
            "\u001b[0;32m/usr/local/lib/python3.7/dist-packages/tensorflow/python/eager/def_function.py\u001b[0m in \u001b[0;36mwrapped_fn\u001b[0;34m(*args, **kwds)\u001b[0m\n\u001b[1;32m    670\u001b[0m         \u001b[0;31m# the function a weak reference to itself to avoid a reference cycle.\u001b[0m\u001b[0;34m\u001b[0m\u001b[0;34m\u001b[0m\u001b[0;34m\u001b[0m\u001b[0m\n\u001b[1;32m    671\u001b[0m         \u001b[0;32mwith\u001b[0m \u001b[0mOptionalXlaContext\u001b[0m\u001b[0;34m(\u001b[0m\u001b[0mcompile_with_xla\u001b[0m\u001b[0;34m)\u001b[0m\u001b[0;34m:\u001b[0m\u001b[0;34m\u001b[0m\u001b[0;34m\u001b[0m\u001b[0m\n\u001b[0;32m--> 672\u001b[0;31m           \u001b[0mout\u001b[0m \u001b[0;34m=\u001b[0m \u001b[0mweak_wrapped_fn\u001b[0m\u001b[0;34m(\u001b[0m\u001b[0;34m)\u001b[0m\u001b[0;34m.\u001b[0m\u001b[0m__wrapped__\u001b[0m\u001b[0;34m(\u001b[0m\u001b[0;34m*\u001b[0m\u001b[0margs\u001b[0m\u001b[0;34m,\u001b[0m \u001b[0;34m**\u001b[0m\u001b[0mkwds\u001b[0m\u001b[0;34m)\u001b[0m\u001b[0;34m\u001b[0m\u001b[0;34m\u001b[0m\u001b[0m\n\u001b[0m\u001b[1;32m    673\u001b[0m         \u001b[0;32mreturn\u001b[0m \u001b[0mout\u001b[0m\u001b[0;34m\u001b[0m\u001b[0;34m\u001b[0m\u001b[0m\n\u001b[1;32m    674\u001b[0m \u001b[0;34m\u001b[0m\u001b[0m\n",
            "\u001b[0;32m/usr/local/lib/python3.7/dist-packages/tensorflow/python/framework/func_graph.py\u001b[0m in \u001b[0;36mwrapper\u001b[0;34m(*args, **kwargs)\u001b[0m\n\u001b[1;32m    984\u001b[0m           \u001b[0;32mexcept\u001b[0m \u001b[0mException\u001b[0m \u001b[0;32mas\u001b[0m \u001b[0me\u001b[0m\u001b[0;34m:\u001b[0m  \u001b[0;31m# pylint:disable=broad-except\u001b[0m\u001b[0;34m\u001b[0m\u001b[0;34m\u001b[0m\u001b[0m\n\u001b[1;32m    985\u001b[0m             \u001b[0;32mif\u001b[0m \u001b[0mhasattr\u001b[0m\u001b[0;34m(\u001b[0m\u001b[0me\u001b[0m\u001b[0;34m,\u001b[0m \u001b[0;34m\"ag_error_metadata\"\u001b[0m\u001b[0;34m)\u001b[0m\u001b[0;34m:\u001b[0m\u001b[0;34m\u001b[0m\u001b[0;34m\u001b[0m\u001b[0m\n\u001b[0;32m--> 986\u001b[0;31m               \u001b[0;32mraise\u001b[0m \u001b[0me\u001b[0m\u001b[0;34m.\u001b[0m\u001b[0mag_error_metadata\u001b[0m\u001b[0;34m.\u001b[0m\u001b[0mto_exception\u001b[0m\u001b[0;34m(\u001b[0m\u001b[0me\u001b[0m\u001b[0;34m)\u001b[0m\u001b[0;34m\u001b[0m\u001b[0;34m\u001b[0m\u001b[0m\n\u001b[0m\u001b[1;32m    987\u001b[0m             \u001b[0;32melse\u001b[0m\u001b[0;34m:\u001b[0m\u001b[0;34m\u001b[0m\u001b[0;34m\u001b[0m\u001b[0m\n\u001b[1;32m    988\u001b[0m               \u001b[0;32mraise\u001b[0m\u001b[0;34m\u001b[0m\u001b[0;34m\u001b[0m\u001b[0m\n",
            "\u001b[0;31mValueError\u001b[0m: in user code:\n\n    /usr/local/lib/python3.7/dist-packages/tensorflow/python/keras/engine/training.py:855 train_function  *\n        return step_function(self, iterator)\n    /usr/local/lib/python3.7/dist-packages/tensorflow_hub/keras_layer.py:237 call  *\n        result = smart_cond.smart_cond(training,\n    /usr/local/lib/python3.7/dist-packages/tensorflow/python/saved_model/load.py:670 _call_attribute  **\n        return instance.__call__(*args, **kwargs)\n    /usr/local/lib/python3.7/dist-packages/tensorflow/python/eager/def_function.py:889 __call__\n        result = self._call(*args, **kwds)\n    /usr/local/lib/python3.7/dist-packages/tensorflow/python/eager/def_function.py:924 _call\n        results = self._stateful_fn(*args, **kwds)\n    /usr/local/lib/python3.7/dist-packages/tensorflow/python/eager/function.py:3022 __call__\n        filtered_flat_args) = self._maybe_define_function(args, kwargs)\n    /usr/local/lib/python3.7/dist-packages/tensorflow/python/eager/function.py:3444 _maybe_define_function\n        graph_function = self._create_graph_function(args, kwargs)\n    /usr/local/lib/python3.7/dist-packages/tensorflow/python/eager/function.py:3289 _create_graph_function\n        capture_by_value=self._capture_by_value),\n    /usr/local/lib/python3.7/dist-packages/tensorflow/python/framework/func_graph.py:999 func_graph_from_py_func\n        func_outputs = python_func(*func_args, **func_kwargs)\n    /usr/local/lib/python3.7/dist-packages/tensorflow/python/eager/def_function.py:672 wrapped_fn\n        out = weak_wrapped_fn().__wrapped__(*args, **kwds)\n    /usr/local/lib/python3.7/dist-packages/tensorflow/python/saved_model/function_deserialization.py:291 restored_function_body\n        \"\\n\\n\".join(signature_descriptions)))\n\n    ValueError: Could not find matching function to call loaded from the SavedModel. Got:\n      Positional arguments (3 total):\n        * Tensor(\"inputs:0\", shape=(None, 64), dtype=string)\n        * False\n        * None\n      Keyword arguments: {}\n    \n    Expected these arguments to match one of the following 4 option(s):\n    \n    Option 1:\n      Positional arguments (3 total):\n        * TensorSpec(shape=(None,), dtype=tf.string, name='sentences')\n        * False\n        * None\n      Keyword arguments: {}\n    \n    Option 2:\n      Positional arguments (3 total):\n        * TensorSpec(shape=(None,), dtype=tf.string, name='sentences')\n        * True\n        * None\n      Keyword arguments: {}\n    \n    Option 3:\n      Positional arguments (3 total):\n        * TensorSpec(shape=(None,), dtype=tf.string, name='inputs')\n        * False\n        * None\n      Keyword arguments: {}\n    \n    Option 4:\n      Positional arguments (3 total):\n        * TensorSpec(shape=(None,), dtype=tf.string, name='inputs')\n        * True\n        * None\n      Keyword arguments: {}\n"
          ]
        }
      ]
    },
    {
      "cell_type": "code",
      "metadata": {
        "id": "t3Ct2POFC7PI"
      },
      "source": [
        "y_pred_cbow = LSTM_Word2vec_cbow.predict(X_test)\n",
        "y_pred_skip = LSTM_Word2vec_skip.predict(X_test)"
      ],
      "execution_count": 141,
      "outputs": []
    },
    {
      "cell_type": "code",
      "metadata": {
        "id": "LFuDdbIfc7ZF"
      },
      "source": [
        "def clasificar(y_data):\n",
        "  y_pred_final = []\n",
        "  y_pred_lista = []\n",
        "  for x in y_data:\n",
        "    for y in x:\n",
        "      y_pred_lista.append(y)\n",
        "      if y >= 0.5:\n",
        "        y_pred_final.append(1)\n",
        "      else:\n",
        "        y_pred_final.append(0)\n",
        "  return np.array(y_pred_final), np.array(y_pred_lista)"
      ],
      "execution_count": 148,
      "outputs": []
    },
    {
      "cell_type": "code",
      "metadata": {
        "id": "PocD_Gd-dM3g"
      },
      "source": [
        "y_final_cbow, y_probs_cbow = clasificar(y_pred_cbow)\n",
        "y_final_skip, y_probs_skip = clasificar(y_pred_skip)"
      ],
      "execution_count": 149,
      "outputs": []
    },
    {
      "cell_type": "markdown",
      "metadata": {
        "id": "kQKfWaN7eDwj"
      },
      "source": [
        "# Metricas de Clasificación"
      ]
    },
    {
      "cell_type": "markdown",
      "metadata": {
        "id": "g-7o7JOjL2hY"
      },
      "source": [
        "## Matriz de confusión"
      ]
    },
    {
      "cell_type": "code",
      "metadata": {
        "id": "aNEbEcfq-wSH"
      },
      "source": [
        "from sklearn.metrics import confusion_matrix, accuracy_score\n",
        "import matplotlib.pyplot as plt\n",
        "import numpy as np\n",
        "import seaborn as sns\n",
        "\n",
        "def evaluar_modelo(y_pred, nombre):\n",
        "    plt.figure(figsize=(10,5))\n",
        "    matrix = confusion_matrix(y_test, y_pred)\n",
        "    accuracy = accuracy_score(y_test, y_pred)\n",
        "    \n",
        "    group_names = ['True Neg','False Pos','False Neg','True Pos']\n",
        "    group_counts = [\"{0:0.0f}\".format(value) for value in\n",
        "                    matrix.flatten()]\n",
        "    group_percentages = [\"{0:.2%}\".format(value) for value in\n",
        "                         matrix.flatten()/np.sum(matrix)]\n",
        "    labels = [f'{v1}\\n{v2}\\n{v3}' for v1, v2, v3 in\n",
        "              zip(group_names,group_counts,group_percentages)]\n",
        "    labels = np.asarray(labels).reshape(2,2)\n",
        "    ax = sns.heatmap(matrix, annot=labels, fmt='', cmap='Blues')\n",
        "    bottom, top = ax.get_ylim()\n",
        "    ax.set_ylim(bottom + 0.5, top - 0.5)\n",
        "    plt.title(nombre)\n",
        "    plt.show()\n",
        "    \n",
        "    print(\"\\nAccuracy: \", accuracy)"
      ],
      "execution_count": 165,
      "outputs": []
    },
    {
      "cell_type": "code",
      "metadata": {
        "colab": {
          "base_uri": "https://localhost:8080/",
          "height": 370
        },
        "id": "y-JZvwRPLMOW",
        "outputId": "1d679471-2419-47b7-9910-1fb165360d9f"
      },
      "source": [
        "evaluar_modelo(y_final_cbow, 'LSTM - Word2vec (CBOW)')"
      ],
      "execution_count": 166,
      "outputs": [
        {
          "output_type": "display_data",
          "data": {
            "image/png": "[encoded data removed]",
            "text/plain": [
              "<Figure size 720x360 with 2 Axes>"
            ]
          },
          "metadata": {
            "tags": [],
            "needs_background": "light"
          }
        },
        {
          "output_type": "stream",
          "text": [
            "\n",
            "Accuracy:  0.8817567567567568\n"
          ],
          "name": "stdout"
        }
      ]
    },
    {
      "cell_type": "code",
      "metadata": {
        "colab": {
          "base_uri": "https://localhost:8080/",
          "height": 370
        },
        "id": "x3K8OXz2esjB",
        "outputId": "02a179ad-f69a-4e71-ff60-85044c637acd"
      },
      "source": [
        "evaluar_modelo(y_final_skip, 'LSTM - Word2vec (Skip-gram)')"
      ],
      "execution_count": 167,
      "outputs": [
        {
          "output_type": "display_data",
          "data": {
            "image/png": "[encoded data removed]",
            "text/plain": [
              "<Figure size 720x360 with 2 Axes>"
            ]
          },
          "metadata": {
            "tags": [],
            "needs_background": "light"
          }
        },
        {
          "output_type": "stream",
          "text": [
            "\n",
            "Accuracy:  0.8855105105105106\n"
          ],
          "name": "stdout"
        }
      ]
    },
    {
      "cell_type": "markdown",
      "metadata": {
        "id": "A7Y0nFGnL6db"
      },
      "source": [
        "## Recall:"
      ]
    },
    {
      "cell_type": "code",
      "metadata": {
        "colab": {
          "base_uri": "https://localhost:8080/"
        },
        "id": "kpcE8EzSLsMW",
        "outputId": "bdd0d872-a4ec-443f-d909-5412b0abe167"
      },
      "source": [
        "from sklearn.metrics import recall_score\n",
        "recall_score(y_test, y_final_cbow, average='macro')"
      ],
      "execution_count": 152,
      "outputs": [
        {
          "output_type": "execute_result",
          "data": {
            "text/plain": [
              "0.8296656269802734"
            ]
          },
          "metadata": {
            "tags": []
          },
          "execution_count": 152
        }
      ]
    },
    {
      "cell_type": "code",
      "metadata": {
        "colab": {
          "base_uri": "https://localhost:8080/"
        },
        "id": "eMd8U1rnfWfu",
        "outputId": "4e4e79d5-a852-4463-9baa-2f1684a7b1ef"
      },
      "source": [
        "recall_score(y_test, y_final_skip, average='macro')"
      ],
      "execution_count": 153,
      "outputs": [
        {
          "output_type": "execute_result",
          "data": {
            "text/plain": [
              "0.8312292714239864"
            ]
          },
          "metadata": {
            "tags": []
          },
          "execution_count": 153
        }
      ]
    },
    {
      "cell_type": "markdown",
      "metadata": {
        "id": "0R6uf6UDMl8i"
      },
      "source": [
        "## ROC Curve:"
      ]
    },
    {
      "cell_type": "code",
      "metadata": {
        "colab": {
          "base_uri": "https://localhost:8080/"
        },
        "id": "9S0YjMG3ORig",
        "outputId": "a97eba95-950a-425e-8d88-028418edbf51"
      },
      "source": [
        "y_pred_lista"
      ],
      "execution_count": null,
      "outputs": [
        {
          "output_type": "execute_result",
          "data": {
            "text/plain": [
              "array([0.99998116, 0.9999986 , 0.9996464 , ..., 0.9999142 , 0.0317044 ,\n",
              "       0.9506495 ], dtype=float32)"
            ]
          },
          "metadata": {
            "tags": []
          },
          "execution_count": 47
        }
      ]
    },
    {
      "cell_type": "code",
      "metadata": {
        "colab": {
          "base_uri": "https://localhost:8080/"
        },
        "id": "gSZt-UXRMG7L",
        "outputId": "a7f26420-a5ba-4443-91b5-9ed8a486d05d"
      },
      "source": [
        "# y_pred\n",
        "from sklearn.metrics import roc_curve, roc_auc_score\n",
        "r_probs = [0 for _ in range(len(y_test))]\n",
        "redes_cbow = y_probs_cbow\n",
        "redes_skip = y_probs_skip\n",
        "#redes_probs = redes_probs#[:, 1]\n",
        "\n",
        "r_auc = roc_auc_score(y_test, r_probs)\n",
        "cbow_auc = roc_auc_score(y_test, redes_cbow)\n",
        "skip_auc = roc_auc_score(y_test, redes_skip)\n",
        "\n",
        "\n",
        "print('Predicción aleatoria: AUROC = %.3f' % (r_auc))\n",
        "print('Modelo Red Neuronal LSTM Word2vec CBOW: AUROC = %.3f' % (cbow_auc))\n",
        "print('Modelo Red Neuronal LSTM Word2vec SKIP: AUROC = %.3f' % (skip_auc))"
      ],
      "execution_count": 163,
      "outputs": [
        {
          "output_type": "stream",
          "text": [
            "Predicción aleatoria: AUROC = 0.500\n",
            "Modelo Red Neuronal LSTM Word2vec CBOW: AUROC = 0.915\n",
            "Modelo Red Neuronal LSTM Word2vec SKIP: AUROC = 0.915\n"
          ],
          "name": "stdout"
        }
      ]
    },
    {
      "cell_type": "code",
      "metadata": {
        "colab": {
          "base_uri": "https://localhost:8080/",
          "height": 458
        },
        "id": "3gylndDQNlwy",
        "outputId": "6fc2eb84-d22c-42b8-c1b0-ee434cdc6d07"
      },
      "source": [
        "r_fpr, r_tpr, _ = roc_curve(y_test, r_probs)\n",
        "cbow_fpr, cbow_tpr, _ = roc_curve(y_test, redes_cbow)\n",
        "skip_fpr, skip_tpr, _ = roc_curve(y_test, redes_skip)\n",
        "plt.figure(figsize=(12,7))\n",
        "plt.plot(r_fpr, r_tpr, linestyle='--', label='Random prediction (AUROC = %0.3f)' % r_auc)\n",
        "plt.plot(cbow_fpr, cbow_tpr, marker='.', label='Modelo Red Neuronal LSTM Word2vec CBOW: AUROC = %.3f' % cbow_auc)\n",
        "plt.plot(skip_fpr, skip_tpr, marker='.', label='Modelo Red Neuronal LSTM Word2vec SKIP: AUROC = %.3f' % skip_auc)\n",
        "plt.title('ROC Plot')\n",
        "plt.xlabel('False Positive Rate')\n",
        "plt.ylabel('True Positive Rate')\n",
        "plt.legend()\n",
        "plt.show()"
      ],
      "execution_count": 164,
      "outputs": [
        {
          "output_type": "display_data",
          "data": {
            "image/png": "[encoded data removed]",
            "text/plain": [
              "<Figure size 864x504 with 1 Axes>"
            ]
          },
          "metadata": {
            "tags": [],
            "needs_background": "light"
          }
        }
      ]
    },
    {
      "cell_type": "code",
      "metadata": {
        "id": "eOo_BogFhbgU"
      },
      "source": [
        ""
      ],
      "execution_count": null,
      "outputs": []
    }
  ]
}